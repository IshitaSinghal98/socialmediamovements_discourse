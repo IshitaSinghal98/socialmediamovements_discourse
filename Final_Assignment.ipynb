{
 "cells": [
  {
   "cell_type": "markdown",
   "metadata": {
    "id": "dEHEh1-YYYdq"
   },
   "source": [
    "# Exploring differences in social media movement and counter-movement discourse\n",
    "## Analysing twitter data for black lives matter, blue lives matter, and all lives matter movements\n",
    "By Ishita Singhal"
   ]
  },
  {
   "cell_type": "markdown",
   "metadata": {
    "id": "fvNthLAoZ3nd"
   },
   "source": [
    "## Introduction"
   ]
  },
  {
   "cell_type": "markdown",
   "metadata": {
    "id": "s1AR2yrUYQIs"
   },
   "source": [
    "**Provide a clear, written introduction to your topic.**\n",
    "\n",
    "Over the past few years, social media platforms have become an important avenue for social activism. The larger goal of my research was to examine online social activism, focusing in particular on social media movements such as #BlackLivesMatter. Social media platforms like twitter are considered as outlets for people’s reactions, opinions, and beliefs. People employ these platforms and movements as a way to connect with a large audience, share information, raise awareness, mobilise action. The blacklivesmatter movements in particular have had a significant global, social impact, mobilising large communities and catalysing individuals as well as institutions to take reparative action. However, the advent of such movements has also given rise to anti-movements or counter-movements. For example, the hashtags #AllLivesMatter and #BlueLivesMatter came up as a response to #BlackLivesMatter. \n",
    "\n",
    "In order to understand the movement, as well as the motivations and goals of individuals participating in the movement, we need to analyse the language people use to express and communicate their views. My research question is thus as follows - How do social media movements and their counter movements differ in their online presence? Are there any patterns of commonalities or differences in the language employed by these differing movements?\n",
    "\n",
    "**Demonstrate that you have identified a cultural pattern, clearly defining what you mean by \"Culture,\" and why the signs you are studying belong to a conventionalized pattern.**\t\n",
    "\n",
    "In order to demonstrate online social movements as a cultural phenomenon, we must first explore the meaning of culture, and how this may be employed in a digital context. In his work ‘Doing Cultural Studies’, du Gay et al. (2013) describes mentions that culture can be considered both as a “whole way of life” as well as “the production and circulation of meaning”. It is the latter that he stresses on in particular, and it is this concept of culture that guides the present research as well. Here, culture is described as inextricably linked with meaning in society. Meaning is constructed through cultural practices. Moreover, by assigning meaning to something, we constitute it as a cultural artifact. Using du Gay et al.’s framework, online social media movements, and the hashtags associated with them are cultural artifacts as they “connect with a distinct set of social practices” (eg - on ground protests) and “associated with certain kinds of people” (racial identities, political beliefs etc.). The meanings, practices, and identities situate #blacklivesmatter, #alllivesmatter as cultural artifacts. \n",
    "\n",
    "Conventionalised patterns rely on shared meanings, and “collective representations”, as described by du Gay et al. The practice of using the hashtags on twitter follows a common purpose (expresses similar political sentiments, associated with the same behavioural practices - protests, instigated by similar set of events), and is employed by people from varying backgrounds (age, gender, race, political leanings etc.; Pew Research Centre, 2020) in the same way. Through the process of its usage, as well as through association with other cultural elements (semantic networks), the hashtags derive meaning, and become part of a cultural practice. \n",
    "\n",
    "Another aspect of consideration here is the question of how meaning is produced, circulated, and contested. This is the communication aspect of culture, and du Gay specifies that language is the medium through which the production and circulation of meaning takes place. Language signifies and represents things, but is also involved in the creation of meaning. This is why, in order to study the present cultural artifact, it is necessary to study the language associated with it - the language through which we may derive its meaning. Thus, the present study concerns itself with understanding the language used by social media movements and their counter movements, and to investigate patterns and comparisons in the language usage. \n",
    "\n",
    "**Identify the sign relations of the sign(s) you are studying in Peircean language, along with information about the object, sign-vehicle, and interpretant.**\n",
    "The cultural phenomenon under study here is performance in online social activism, particularly participation in the black lives matter movement, and its counter movements (all lives matter and blue lives matter), through twitter. The hashtags #blacklivesmatter, #alllivesmatter, and #bluelivesmatter act as sign-vehicles, which points to an individual’s stance in the social movement (the object). Given the context provided by twitter as well as the general socio-political climate, one can subsequently interpret that the individual using the hashtag either supports the black lives/all lives/blue lives matter movement. The tweet in its entirety provides additional context, and can even reflect an individual's sentiments, their level of arousal, as well as beliefs. In this regard, the primary sign-relation represented by the use of the various BLM hashtags, is a dicent indexical legisign relation, as the tweets (and hashtag) index peoples opinions, in the actual context of the social media environment, and the social movement. Moreover, every instantiation of the hashtag in a tweet represents a replica of the tweet legisign. \n"
   ]
  },
  {
   "cell_type": "markdown",
   "metadata": {
    "id": "dGh_W0cdZ5Ob"
   },
   "source": [
    "## Data Analysis"
   ]
  },
  {
   "cell_type": "markdown",
   "metadata": {
    "id": "7F3UO00V09Hj"
   },
   "source": [
    "### Topic Modelling"
   ]
  },
  {
   "cell_type": "code",
   "execution_count": 1,
   "metadata": {
    "id": "sD0EoR-p_kAq"
   },
   "outputs": [],
   "source": [
    "import sys\n",
    "if 'google.colab' in sys.modules:\n",
    "    !pip install emoji --upgrade\n",
    "    !pip install pandas-profiling\n",
    "    !pip install plotly\n",
    "    !python -m spacy download en_core_web_lg\n",
    "    !pip install pyldavis\n",
    "    !pip install gensim\n",
    "    !pip install chart_studio\n",
    "    !pip install --upgrade autopep8\n",
    "    !pip install -U gensim"
   ]
  },
  {
   "cell_type": "code",
   "execution_count": 2,
   "metadata": {
    "id": "-W3EWUmFp-mm"
   },
   "outputs": [
    {
     "ename": "ModuleNotFoundError",
     "evalue": "No module named 'google'",
     "output_type": "error",
     "traceback": [
      "\u001b[0;31m---------------------------------------------------------------------------\u001b[0m",
      "\u001b[0;31mModuleNotFoundError\u001b[0m                       Traceback (most recent call last)",
      "\u001b[0;32m<ipython-input-2-d5df0069828e>\u001b[0m in \u001b[0;36m<module>\u001b[0;34m\u001b[0m\n\u001b[0;32m----> 1\u001b[0;31m \u001b[0;32mfrom\u001b[0m \u001b[0mgoogle\u001b[0m\u001b[0;34m.\u001b[0m\u001b[0mcolab\u001b[0m \u001b[0;32mimport\u001b[0m \u001b[0mdrive\u001b[0m\u001b[0;34m\u001b[0m\u001b[0;34m\u001b[0m\u001b[0m\n\u001b[0m\u001b[1;32m      2\u001b[0m \u001b[0mdrive\u001b[0m\u001b[0;34m.\u001b[0m\u001b[0mmount\u001b[0m\u001b[0;34m(\u001b[0m\u001b[0;34m'/content/drive'\u001b[0m\u001b[0;34m)\u001b[0m\u001b[0;34m\u001b[0m\u001b[0;34m\u001b[0m\u001b[0m\n",
      "\u001b[0;31mModuleNotFoundError\u001b[0m: No module named 'google'"
     ]
    }
   ],
   "source": []
  },
  {
   "cell_type": "code",
   "execution_count": 4,
   "metadata": {
    "id": "heJbXr4EBt_x"
   },
   "outputs": [
    {
     "ename": "ModuleNotFoundError",
     "evalue": "No module named 'emoji'",
     "output_type": "error",
     "traceback": [
      "\u001b[0;31m---------------------------------------------------------------------------\u001b[0m",
      "\u001b[0;31mModuleNotFoundError\u001b[0m                       Traceback (most recent call last)",
      "\u001b[0;32m<ipython-input-4-bc69e680fa26>\u001b[0m in \u001b[0;36m<module>\u001b[0;34m\u001b[0m\n\u001b[1;32m      6\u001b[0m \u001b[0;32mimport\u001b[0m \u001b[0mpandas\u001b[0m \u001b[0;32mas\u001b[0m \u001b[0mpd\u001b[0m\u001b[0;34m\u001b[0m\u001b[0;34m\u001b[0m\u001b[0m\n\u001b[1;32m      7\u001b[0m \u001b[0;32mimport\u001b[0m \u001b[0mnumpy\u001b[0m \u001b[0;32mas\u001b[0m \u001b[0mnp\u001b[0m\u001b[0;34m\u001b[0m\u001b[0;34m\u001b[0m\u001b[0m\n\u001b[0;32m----> 8\u001b[0;31m \u001b[0;32mimport\u001b[0m \u001b[0memoji\u001b[0m\u001b[0;34m\u001b[0m\u001b[0;34m\u001b[0m\u001b[0m\n\u001b[0m\u001b[1;32m      9\u001b[0m \u001b[0;32mimport\u001b[0m \u001b[0mregex\u001b[0m\u001b[0;34m\u001b[0m\u001b[0;34m\u001b[0m\u001b[0m\n\u001b[1;32m     10\u001b[0m \u001b[0;32mimport\u001b[0m \u001b[0mre\u001b[0m\u001b[0;34m\u001b[0m\u001b[0;34m\u001b[0m\u001b[0m\n",
      "\u001b[0;31mModuleNotFoundError\u001b[0m: No module named 'emoji'"
     ]
    }
   ],
   "source": [
    "# Required Libraries\n",
    "\n",
    "#Base and Cleaning \n",
    "import json\n",
    "import requests\n",
    "import pandas as pd\n",
    "import numpy as np\n",
    "import emoji\n",
    "import regex\n",
    "import re\n",
    "import string\n",
    "from collections import Counter\n",
    "\n",
    "#Visualizations\n",
    "import plotly.express as px\n",
    "import seaborn as sns\n",
    "import matplotlib.pyplot as plt \n",
    "import pyLDAvis.gensim\n",
    "import chart_studio\n",
    "import chart_studio.plotly as py \n",
    "import chart_studio.tools as tls\n",
    "\n",
    "#Natural Language Processing (NLP)\n",
    "import spacy\n",
    "import gensim\n",
    "from spacy.tokenizer import Tokenizer\n",
    "from gensim.corpora import Dictionary\n",
    "from gensim.models.ldamulticore import LdaMulticore\n",
    "from gensim.models.coherencemodel import CoherenceModel\n",
    "from gensim.parsing.preprocessing import STOPWORDS as SW\n",
    "from sklearn.decomposition import LatentDirichletAllocation, TruncatedSVD\n",
    "from sklearn.feature_extraction.text import CountVectorizer, TfidfVectorizer\n",
    "from sklearn.model_selection import GridSearchCV\n",
    "from pprint import pprint\n",
    "from wordcloud import STOPWORDS\n",
    "stopwords = set(STOPWORDS)"
   ]
  },
  {
   "cell_type": "code",
   "execution_count": null,
   "metadata": {
    "id": "UZdagugM9ltP"
   },
   "outputs": [],
   "source": [
    "#Reads all the tweets and isolates the tweets that in English\n",
    "black_lives_matter_df = pd.read_csv('/content/drive/MyDrive/black_lives_matter.csv')\n",
    "black_lives_matter_df = black_lives_matter_df.loc[black_lives_matter_df['lang'] == 'en'] \n",
    "blue_lives_matter_df = pd.read_csv('/content/drive/MyDrive/blue_lives_matter.csv')\n",
    "blue_lives_matter_df = blue_lives_matter_df.loc[blue_lives_matter_df['lang'] == 'en']\n",
    "all_lives_matter_df = pd.read_csv('/content/drive/MyDrive/all_lives_matter.csv')\n",
    "all_lives_matter_df = all_lives_matter_df.loc[all_lives_matter_df['lang'] == 'en']"
   ]
  },
  {
   "cell_type": "markdown",
   "metadata": {
    "id": "6l1qOrsNvOvL"
   },
   "source": [
    "### All Lives Matter"
   ]
  },
  {
   "cell_type": "code",
   "execution_count": null,
   "metadata": {
    "id": "muhSjS3xDSMK"
   },
   "outputs": [],
   "source": [
    "all_lives_matter_df.dropna(inplace=True)"
   ]
  },
  {
   "cell_type": "code",
   "execution_count": null,
   "metadata": {
    "id": "8_npX_FUDw6f"
   },
   "outputs": [],
   "source": [
    "all_lives_matter_df.reset_index(drop=True,inplace=True)"
   ]
  },
  {
   "cell_type": "code",
   "execution_count": null,
   "metadata": {
    "id": "WmixA6giCgA8"
   },
   "outputs": [],
   "source": [
    "def give_emoji_free_text(text):\n",
    "    \"\"\"\n",
    "    Removes all emojis from tweets\n",
    "    \"\"\"\n",
    "    emoji_pattern = re.compile(\"[\"\n",
    "                       u\"\\U0001F600-\\U0001F64F\"  # emoticons\n",
    "                       u\"\\U0001F300-\\U0001F5FF\"  # symbols & pictographs\n",
    "                       u\"\\U0001F680-\\U0001F6FF\"  # transport & map symbols\n",
    "                       u\"\\U0001F1E0-\\U0001F1FF\"  # flags (iOS)\n",
    "                       u\"\\U00002702-\\U000027B0\"\n",
    "                       u\"\\U000024C2-\\U0001F251\"\n",
    "                       u\"\\U0001f926-\\U0001f937\"\n",
    "                       u\"\\u200d\"\n",
    "                       u\"\\u2640-\\u2642\" \n",
    "                       \"]+\", flags=re.UNICODE)\n",
    "    return emoji_pattern.sub(r'', text)\n",
    "\n",
    "def url_free_text(text):\n",
    "    '''\n",
    "    Cleans urls from text\n",
    "    '''\n",
    "    text = re.sub(r'http\\S+', '', text)\n",
    "    return text\n",
    "\n",
    "def tokenize(text):\n",
    "    # Removing url's\n",
    "    import string\n",
    "    pattern = r\"https?\\S+\"\n",
    "    \n",
    "    tokens = re.sub(pattern, \"\", text) # https://www.youtube.com/watch?v=O2onA4r5UaY\n",
    "    tokens = re.sub(r'@\\w+|#\\w+', '', tokens) # Remove @ ! $\n",
    "    tokens = re.sub('[^a-zA-Z 0-9]', '', tokens)\n",
    "    tokens = ' '.join(w for w in tokens.split() if len(w)>3)\n",
    "    tokens = tokens.translate(str.maketrans('', '', string.punctuation))\n",
    "    tokens = ' '.join(w for w in tokens.split() if not any(x.isdigit() for x in w))\n",
    "\n",
    "    tokens = tokens.lower() # Make text lowercase\n",
    "    \n",
    "    return tokens\n",
    "\n",
    "# Apply the function above and get tweets free of emoji's\n",
    "call_emoji_free = lambda x: give_emoji_free_text(x)\n",
    "\n",
    "# Apply `call_emoji_free` which calls the function to remove all emoji's\n",
    "all_lives_matter_df['emoji_free_tweets'] = all_lives_matter_df['text'].apply(call_emoji_free)\n",
    "\n",
    "all_lives_matter_df['clean_tweets'] = all_lives_matter_df['emoji_free_tweets'].apply(tokenize)\n",
    "\n",
    "#Create a new column with url free tweets\n",
    "all_lives_matter_df['url_free_tweets'] = all_lives_matter_df['clean_tweets'].apply(url_free_text)\n"
   ]
  },
  {
   "cell_type": "code",
   "execution_count": null,
   "metadata": {
    "id": "xcZF2keT-Qni"
   },
   "outputs": [],
   "source": [
    "nlp = spacy.load('en_core_web_lg')"
   ]
  },
  {
   "cell_type": "code",
   "execution_count": null,
   "metadata": {
    "id": "CINtgJjIHZ7t"
   },
   "outputs": [],
   "source": [
    "# Tokenizer\n",
    "tokenizer = Tokenizer(nlp.vocab)\n",
    "\n",
    "# Custom stopwords\n",
    "custom_stopwords = ['hi','\\n','\\n\\n', '&amp;', ' ', '.', '-', 'got', \"it's\", 'it’s', \"i'm\", 'i’m', 'im', 'want', 'like', '$', '@']\n",
    "\n",
    "# Customize stop words by adding to the default list\n",
    "STOP_WORDS = nlp.Defaults.stop_words.union(custom_stopwords)\n",
    "\n",
    "# ALL_STOP_WORDS = spacy + gensim + wordcloud\n",
    "ALL_STOP_WORDS = STOP_WORDS.union(SW).union(stopwords)\n",
    "\n",
    "\n",
    "tokens = []\n",
    "\n",
    "for doc in tokenizer.pipe(all_lives_matter_df['url_free_tweets'], batch_size=500):\n",
    "    doc_tokens = []    \n",
    "    for token in doc: \n",
    "        if token.text.lower() not in STOP_WORDS:\n",
    "            doc_tokens.append(token.text.lower())   \n",
    "    tokens.append(doc_tokens)\n",
    "\n",
    "# Makes tokens column\n",
    "all_lives_matter_df['tokens'] = tokens"
   ]
  },
  {
   "cell_type": "code",
   "execution_count": null,
   "metadata": {
    "id": "A7Y_CUg3IBuF"
   },
   "outputs": [],
   "source": [
    "# Make tokens a string again\n",
    "all_lives_matter_df['tokens_back_to_text'] = [' '.join(map(str, l)) for l in all_lives_matter_df['tokens']]\n",
    "\n",
    "def get_lemmas(text):\n",
    "    '''Used to lemmatize the processed tweets'''\n",
    "    lemmas = []\n",
    "\n",
    "    if(text == ''):\n",
    "      return None\n",
    "\n",
    "    doc = nlp(text)\n",
    "    \n",
    "    for token in doc: \n",
    "        if ((token.is_stop == False) and (token.is_punct == False)) and (token.pos_ != 'PRON'):\n",
    "            lemmas.append(token.lemma_)\n",
    "    \n",
    "    return lemmas\n",
    "\n",
    "all_lives_matter_df['lemmas'] = all_lives_matter_df['tokens_back_to_text'].apply(get_lemmas)"
   ]
  },
  {
   "cell_type": "code",
   "execution_count": null,
   "metadata": {
    "id": "Uy-nyIoqLbpg"
   },
   "outputs": [],
   "source": [
    "all_lives_matter_df.dropna(inplace=True)"
   ]
  },
  {
   "cell_type": "code",
   "execution_count": null,
   "metadata": {
    "id": "lE4P859-IV8U"
   },
   "outputs": [],
   "source": [
    "# Make lemmas a string again\n",
    "all_lives_matter_df['lemmas_back_to_text'] = [' '.join(map(str, l)) for l in all_lives_matter_df['lemmas']]\n",
    "\n",
    "# Tokenizer function\n",
    "def split_string(text):\n",
    "  return [w for w in text.split() if len(w)>1]\n",
    "\n",
    "# Apply tokenizer\n",
    "all_lives_matter_df['lemma_tokens'] = all_lives_matter_df['lemmas_back_to_text'].apply(split_string)"
   ]
  },
  {
   "cell_type": "code",
   "execution_count": null,
   "metadata": {
    "id": "9fG7Q63_LhM7"
   },
   "outputs": [],
   "source": [
    "id2word = Dictionary(all_lives_matter_df['lemma_tokens'])"
   ]
  },
  {
   "cell_type": "code",
   "execution_count": null,
   "metadata": {
    "id": "zrcciGMHN8EZ"
   },
   "outputs": [],
   "source": [
    "# Filtering Extremes\n",
    "id2word.filter_extremes(no_below=2, no_above=.99)"
   ]
  },
  {
   "cell_type": "code",
   "execution_count": null,
   "metadata": {
    "id": "SBtMeXNXN9WY"
   },
   "outputs": [],
   "source": [
    "# Creating a corpus object \n",
    "corpus = [id2word.doc2bow(d) for d in all_lives_matter_df['lemma_tokens']]"
   ]
  },
  {
   "cell_type": "code",
   "execution_count": null,
   "metadata": {
    "id": "GB4Kl9LfOEye"
   },
   "outputs": [],
   "source": [
    "# Instantiating a Base LDA model \n",
    "base_model = LdaMulticore(corpus=corpus, num_topics=3, id2word=id2word, workers=12, passes=5)"
   ]
  },
  {
   "cell_type": "code",
   "execution_count": null,
   "metadata": {
    "id": "KGUlujXDOGkc"
   },
   "outputs": [],
   "source": [
    "# Filtering for words \n",
    "words = [re.findall(r'\"([^\"]*)\"',t[1]) for t in base_model.print_topics()]"
   ]
  },
  {
   "cell_type": "code",
   "execution_count": null,
   "metadata": {
    "id": "yOqZnKwwOJ4n"
   },
   "outputs": [],
   "source": [
    "# Create Topics\n",
    "topics = [' '.join(t[0:10]) for t in words]"
   ]
  },
  {
   "cell_type": "code",
   "execution_count": null,
   "metadata": {
    "id": "iudJsvI4ORQ5"
   },
   "outputs": [],
   "source": [
    "# Getting the topics\n",
    "for id, t in enumerate(topics): \n",
    "    print(f\"------ Topic {id} ------\")\n",
    "    print(t, end=\"\\n\\n\")"
   ]
  },
  {
   "cell_type": "code",
   "execution_count": null,
   "metadata": {
    "colab": {
     "base_uri": "https://localhost:8080/"
    },
    "id": "PK_9VV3wOgj0",
    "outputId": "6027d7b8-a9fb-4cee-9456-40914d5da105"
   },
   "outputs": [
    {
     "name": "stdout",
     "output_type": "stream",
     "text": [
      "\n",
      "Perplexity:  -7.04151171358764\n",
      "\n",
      "Coherence Score:  0.2923055376884232\n"
     ]
    }
   ],
   "source": [
    "# Compute Perplexity\n",
    "# a measure of how good the model is. lower the better\n",
    "base_perplexity = base_model.log_perplexity(corpus)\n",
    "print('\\nPerplexity: ', base_perplexity) \n",
    "\n",
    "# Compute Coherence Score\n",
    "coherence_model = CoherenceModel(model=base_model, texts=all_lives_matter_df['lemma_tokens'], \n",
    "                                   dictionary=id2word, coherence='c_v')\n",
    "coherence_lda_model_base = coherence_model.get_coherence()\n",
    "print('\\nCoherence Score: ', coherence_lda_model_base)"
   ]
  },
  {
   "cell_type": "markdown",
   "metadata": {
    "id": "mvCbfsrevXw4"
   },
   "source": [
    "### All Lives Matter Topics "
   ]
  },
  {
   "cell_type": "code",
   "execution_count": null,
   "metadata": {
    "colab": {
     "base_uri": "https://localhost:8080/"
    },
    "id": "85ulQ7l7b4kA",
    "outputId": "72884337-9406-404c-e441-68fae9dae595"
   },
   "outputs": [
    {
     "data": {
      "text/html": [
       "\n",
       "<link rel=\"stylesheet\" type=\"text/css\" href=\"https://cdn.jsdelivr.net/gh/bmabey/pyLDAvis@3.2.2/pyLDAvis/js/ldavis.v1.0.0.css\">\n",
       "\n",
       "\n",
       "<div id=\"ldavis_el3681397335670632483982036252\"></div>\n",
       "<script type=\"text/javascript\">\n",
       "\n",
       "var ldavis_el3681397335670632483982036252_data = {\"mdsDat\": {\"x\": [-0.10869378398712938, -0.08526768258271138, 0.19396146656984078], \"y\": [0.13425027307970516, -0.14551328240477315, 0.01126300932506788], \"topics\": [1, 2, 3], \"cluster\": [1, 1, 1], \"Freq\": [41.010281114711134, 30.549068442540346, 28.44065044274852]}, \"tinfo\": {\"Term\": [\"matter\", \"live\", \"know\", \"black\", \"life\", \"need\", \"crib\", \"not\", \"house\", \"leave\", \"community\", \"amish\", \"officer\", \"support\", \"bitch\", \"mean\", \"minneapolis\", \"stop\", \"people\", \"white\", \"begin\", \"electronic\", \"social\", \"shoot\", \"attack\", \"tell\", \"good\", \"medium\", \"fact\", \"right\", \"electronic\", \"worthy\", \"anyways\", \"unacce\", \"house\", \"begin\", \"redirect\", \"siri\", \"heartbreaking\", \"inhumane\", \"deafen\", \"name\", \"blandsean\", \"riceeric\", \"grantmichael\", \"garneroscar\", \"floydahmoud\", \"arberysandra\", \"tamir\", \"grandchild\", \"reed\", \"creation\", \"yoooooo\", \"brutal\", \"crazyy\", \"saudi\", \"landlord\", \"oops\", \"humphrey\", \"paragraph\", \"know\", \"mean\", \"leave\", \"social\", \"activism\", \"crowd\", \"wild\", \"pull\", \"live\", \"idealblack\", \"policeman\", \"medium\", \"block\", \"situation\", \"matter\", \"alive\", \"ensure\", \"definitely\", \"will\", \"not\", \"cause\", \"tell\", \"human\", \"life\", \"amish\", \"course\", \"supporter\", \"say\", \"folk\", \"watch\", \"find\", \"black\", \"people\", \"help\", \"kill\", \"time\", \"police\", \"think\", \"white\", \"trend\", \"bitch\", \"reminded\", \"crib\", \"matterjk\", \"dope\", \"minneapolis\", \"mindset\", \"insul\", \"houston\", \"ropethi\", \"nederland\", \"thei\", \"mlkjr\", \"ampend\", \"bloop\", \"spuugzat\", \"illustration\", \"ape\", \"minnesota\", \"community\", \"barthis\", \"racistisch\", \"womanamp\", \"holocaust\", \"exemplify\", \"disgusting\", \"syste\", \"housing\", \"rapper\", \"tocreate\", \"premier\", \"dumb\", \"fact\", \"hall\", \"americansbut\", \"photos\", \"trending\", \"early\", \"room\", \"town\", \"show\", \"meeting\", \"african\", \"kneel\", \"burn\", \"voice\", \"city\", \"sound\", \"fight\", \"support\", \"kid\", \"person\", \"black\", \"bitch\", \"white\", \"girl\", \"people\", \"right\", \"miss\", \"life\", \"fuck\", \"shit\", \"see\", \"amish\", \"racist\", \"say\", \"matter\", \"love\", \"time\", \"movement\", \"race\", \"video\", \"not\", \"live\", \"trend\", \"unironically\", \"accountable\", \"heights\", \"boyle\", \"brotha\", \"womans\", \"brilliant\", \"mixtape\", \"dumbass\", \"something\", \"worse\", \"offender\", \"condolence\", \"outlet\", \"complieddidnt\", \"upbut\", \"nowhe\", \"resisthands\", \"homeless\", \"sono\", \"itthis\", \"elliott\", \"grupo\", \"indifferent\", \"smack\", \"crawl\", \"ellos\", \"decadez\", \"alis\", \"domain\", \"officer\", \"attack\", \"latino\", \"feature\", \"jane\", \"viewer\", \"discretion\", \"advise\", \"service\", \"hold\", \"need\", \"interview\", \"urge\", \"exclusive\", \"home\", \"shooting\", \"read\", \"rescue\", \"hashtag\", \"counter\", \"good\", \"family\", \"stop\", \"shoot\", \"cop\", \"to\", \"death\", \"check\", \"week\", \"violence\", \"go\", \"police\", \"get\", \"call\", \"work\", \"change\", \"wrong\", \"start\", \"not\", \"today\", \"believe\", \"kill\", \"racist\", \"people\", \"happen\", \"movement\", \"year\", \"white\", \"protest\", \"alllivesmatter\", \"say\", \"help\", \"think\", \"life\"], \"Freq\": [13510.0, 8003.0, 3062.0, 5772.0, 7916.0, 1357.0, 1030.0, 8048.0, 1369.0, 1477.0, 900.0, 3092.0, 809.0, 1617.0, 1603.0, 1186.0, 749.0, 1192.0, 5698.0, 2779.0, 740.0, 683.0, 865.0, 847.0, 513.0, 1640.0, 715.0, 994.0, 472.0, 1244.0, 681.6831283356518, 285.2103754826142, 480.34194565086847, 127.59497078561603, 1360.8485677856827, 734.9136901227888, 192.51941902637245, 194.8604685209874, 212.2869133919, 131.4876148200599, 70.80595696156699, 137.21945298133497, 47.77329745072552, 47.77130315693955, 47.767813992172606, 47.76930206828548, 47.76801444078142, 47.7619534184404, 49.59646248371988, 51.141068501712766, 48.26095833905816, 51.651808159531136, 41.287364828232434, 50.00710014475808, 41.281687715938794, 60.88343826145137, 47.15768919615811, 39.09179006210412, 40.03998332789885, 50.73688596536511, 2969.8189738114343, 1155.4964560026524, 1428.6184078105607, 835.4520261525732, 113.47856436891885, 380.9802089804687, 151.99573621824055, 210.05546511966247, 7460.371175023869, 91.59549461678318, 68.39735968321652, 907.9878410184498, 225.1565158720517, 368.0719980597994, 11198.340963425797, 182.1989656711228, 120.70875248362795, 124.67896673224793, 549.7239632595132, 5746.9207028067685, 401.6682448960771, 1256.5863722449421, 624.4507697529878, 5114.393498476746, 2033.1878283882158, 211.0385466356926, 234.97137668206517, 1593.925807037498, 419.2540701930334, 634.720152879633, 422.2157085805296, 2197.1650642368145, 2060.1370362794605, 504.56102990036044, 636.6855005275218, 516.537446969383, 634.0522988842807, 532.5362085150529, 667.6392231615316, 458.14398132659164, 472.9449435244194, 233.0041052206391, 1026.4204275433806, 179.41778710314944, 291.96784779060357, 743.3720788684146, 250.762259868184, 190.35602723810854, 213.42657513578885, 100.84414057145403, 59.335242424175554, 53.09941926093298, 44.780988039832195, 44.77726271566331, 91.21921893031526, 49.878886640096994, 49.91632716031062, 49.238576302243196, 150.2139889964146, 882.9952040854549, 34.54305570201472, 49.82895919770316, 34.52639297488977, 94.38868019128165, 35.136404684380885, 314.9958379089198, 32.20832013396573, 34.80266423003376, 108.39713409222962, 31.598293239729358, 33.03180152302282, 265.4292053086361, 454.8195232412697, 280.5843706784819, 275.3153248144638, 275.2954631676721, 233.0265583972874, 352.4690356943315, 284.48387399858734, 307.3600369106946, 431.77644960933486, 278.581158591973, 386.02205865976595, 185.28341123869097, 139.44721500485915, 278.72057479972807, 279.83462894316716, 287.58785863802024, 301.19711570941456, 1254.4629881145504, 293.58806010916265, 450.6348504053016, 3405.0846132653046, 1126.215140247195, 1660.5624384265882, 418.2099122879207, 2793.395131147956, 820.0924576113987, 391.08250661665363, 2514.6819260112575, 407.5028042220484, 505.93987922222874, 429.2723029000732, 1050.3159525275255, 647.7660072806614, 935.7108896490843, 2079.923799823926, 415.06877563843403, 450.41319361725306, 444.21631932558597, 383.314314886144, 377.89040486686616, 691.309053902112, 476.2441054924408, 379.33672148278106, 156.2423614327911, 139.7594770755661, 108.16865646217377, 107.46207426052601, 110.12532171226512, 160.91027305627324, 251.99775033632233, 81.7392137078187, 184.2197482053132, 54.365342927012506, 64.24430889019679, 74.27848204780888, 109.03257108048228, 54.26203168037088, 45.17903448321791, 45.16290918281617, 45.140295121849505, 45.123576078650984, 65.73889145256337, 33.696296186112754, 32.32467021737051, 63.508449513973936, 33.25763099702808, 30.713450181145443, 52.59470766209349, 58.96918216312984, 26.614327664133576, 30.05518026540324, 27.204279460289467, 27.740966401655466, 787.146502030102, 493.55271466472993, 117.70119706465262, 53.58986299971491, 65.09675861783394, 100.46420280857009, 98.40490487503344, 86.8211996728851, 80.5673256432636, 267.0622679724133, 1210.0400540811727, 100.51470864425266, 80.857571626006, 82.99939980829659, 191.38164346100484, 85.8892496696554, 350.57356831643204, 145.60645822409788, 476.8675996260202, 255.8345351381632, 574.7736003354389, 424.55395849454095, 877.7579106809909, 637.6900929932567, 473.6659122779912, 213.0629439184003, 351.82325553634445, 191.01947920394005, 200.387251468065, 252.5831995829359, 623.4294842550431, 848.1350835532731, 421.75684560334753, 282.0510881141578, 226.80895671708407, 288.3935429143672, 277.17930594813305, 252.7795305344081, 1609.9207384959113, 337.08082923077933, 383.7933081560871, 501.9949078800796, 453.5793107278879, 844.8757937294666, 350.9302663699708, 389.885071553207, 277.80571402323636, 450.91557320272926, 317.9141331871709, 296.0668674813391, 339.9910736859835, 293.58434402755654, 292.91028573688857, 286.9875411225885], \"Total\": [13510.0, 8003.0, 3062.0, 5772.0, 7916.0, 1357.0, 1030.0, 8048.0, 1369.0, 1477.0, 900.0, 3092.0, 809.0, 1617.0, 1603.0, 1186.0, 749.0, 1192.0, 5698.0, 2779.0, 740.0, 683.0, 865.0, 847.0, 513.0, 1640.0, 715.0, 994.0, 472.0, 1244.0, 683.1142516022032, 286.3685951680292, 483.02627937104336, 128.40682189770115, 1369.529559185528, 740.415130226136, 194.05767668684783, 196.47603377969634, 214.1053513715841, 132.75502834170393, 71.65791011238026, 139.03369595604855, 48.47453068947437, 48.47436145743758, 48.47350848920074, 48.47513444293673, 48.47427175065711, 48.47306129141653, 50.339994986374165, 51.95228129436734, 49.06145235880711, 52.53634332787955, 41.998753576762915, 50.873807550787355, 41.99895338610611, 61.94687970473083, 47.98445643227341, 39.79505555092332, 40.77085398204291, 51.66741812486132, 3062.273679069908, 1186.3998214011476, 1477.8925081442235, 865.5173405909286, 115.59684250161459, 393.49025874837463, 155.5514042367796, 216.69106781094695, 8003.059557260439, 93.76716404847674, 69.8421511916408, 994.869072896525, 237.33751129369307, 394.33933504513215, 13510.953526609961, 193.2986564409573, 126.2759276205048, 131.4296604328275, 630.319292836317, 8048.150495204793, 463.5987047277964, 1640.9317232032083, 766.3149106165205, 7916.062965610591, 3092.84429048978, 233.29445786984368, 268.3292335062776, 2869.627770372566, 556.0538914538708, 979.2659219415763, 593.30156537009, 5772.599179296887, 5698.407961156883, 867.1365553662026, 1437.7369811944334, 1001.4506194828941, 1620.360779532579, 1130.7020469484492, 2779.117234790849, 840.661238070266, 1603.1180348087157, 233.95127671850852, 1030.9639524361987, 180.744761662325, 294.43890166923796, 749.916360478224, 253.2212576081843, 192.6781316109646, 216.32396093832654, 102.25002133872977, 60.286701520985666, 53.96078031880996, 45.51792278501004, 45.51736092790648, 92.74251348036209, 50.71712060381949, 50.76394059206324, 50.113367307412474, 153.04041490777254, 900.0474805257646, 35.22355993355444, 50.82121573198971, 35.223350389583025, 96.31203171932566, 35.864463682514504, 321.5431880149746, 32.90627026986864, 35.5596994906735, 110.84918534995279, 32.31915899462559, 33.80891742205565, 272.4209653589036, 472.204224431242, 290.18827133338044, 284.70610547632856, 284.70900446804353, 240.77111852307237, 367.1239912830266, 295.81845184005164, 320.23403443455106, 453.18727326799734, 290.7613526042958, 411.28959873017055, 194.4694159778909, 145.55045014749734, 297.36623861549117, 298.8666936261049, 308.1884562423015, 332.6767403033494, 1617.0771317274573, 329.60733746124, 547.7949559077848, 5772.599179296887, 1603.1180348087157, 2779.117234790849, 513.0960002193191, 5698.407961156883, 1244.7395175112893, 474.1457667256992, 7916.062965610591, 528.1095182920778, 736.1429807418647, 585.4894151622607, 3092.84429048978, 1358.602693325934, 2869.627770372566, 13510.953526609961, 713.546536692809, 1001.4506194828941, 1047.272493276464, 734.7372526098707, 703.6142736205222, 8048.150495204793, 8003.059557260439, 840.661238070266, 157.1947208524971, 140.74322161032407, 109.09341119134548, 108.3905462236562, 111.13040263940965, 162.40204082651678, 254.57839597505165, 82.81434400770019, 186.75984312392842, 55.164053597126994, 65.23729213768608, 75.45331653127465, 110.90240944654077, 55.214239198572145, 45.999256925716374, 45.9971740531194, 45.9953558308593, 45.99270645082764, 67.03520203331168, 34.37892875998869, 33.02568236129326, 64.91645369343577, 33.99744503488745, 31.41883435325108, 53.83352689730223, 60.36157908732905, 27.24960617317397, 30.774171013589037, 27.86899246303131, 28.419545804742704, 809.5963137243311, 513.1225998494585, 120.73138016574313, 54.909426237629894, 66.86473651999162, 103.71598894819176, 101.62975844367988, 89.6599068366799, 83.16981873841947, 284.07404851633703, 1357.3453470777104, 104.42443226261894, 83.95836279977514, 86.36251129057489, 206.85607285700974, 89.49876433043343, 398.0495027425884, 156.7062125221268, 554.0948731444469, 287.935577679139, 715.5688782539078, 524.903784314976, 1192.7127586144609, 847.84888641508, 616.7530498898453, 250.95483211419415, 464.9176395244036, 232.1084227204838, 248.3284904772019, 333.0791683198942, 1056.9241282574462, 1620.360779532579, 655.5569177186385, 399.00309350893315, 299.2949231845342, 419.009468710114, 413.5328010885391, 365.5913134900602, 8048.150495204793, 594.9398191473617, 778.4972033756799, 1437.7369811944334, 1358.602693325934, 5698.407961156883, 791.7129144934029, 1047.272493276464, 487.44498155132544, 2779.117234790849, 812.6155055843924, 731.5273737338948, 2869.627770372566, 867.1365553662026, 1130.7020469484492, 7916.062965610591], \"Category\": [\"Default\", \"Default\", \"Default\", \"Default\", \"Default\", \"Default\", \"Default\", \"Default\", \"Default\", \"Default\", \"Default\", \"Default\", \"Default\", \"Default\", \"Default\", \"Default\", \"Default\", \"Default\", \"Default\", \"Default\", \"Default\", \"Default\", \"Default\", \"Default\", \"Default\", \"Default\", \"Default\", \"Default\", \"Default\", \"Default\", \"Topic1\", \"Topic1\", \"Topic1\", \"Topic1\", \"Topic1\", \"Topic1\", \"Topic1\", \"Topic1\", \"Topic1\", \"Topic1\", \"Topic1\", \"Topic1\", \"Topic1\", \"Topic1\", \"Topic1\", \"Topic1\", \"Topic1\", \"Topic1\", \"Topic1\", \"Topic1\", \"Topic1\", \"Topic1\", \"Topic1\", \"Topic1\", \"Topic1\", \"Topic1\", \"Topic1\", \"Topic1\", \"Topic1\", \"Topic1\", \"Topic1\", \"Topic1\", \"Topic1\", \"Topic1\", \"Topic1\", \"Topic1\", \"Topic1\", \"Topic1\", \"Topic1\", \"Topic1\", \"Topic1\", \"Topic1\", \"Topic1\", \"Topic1\", \"Topic1\", \"Topic1\", \"Topic1\", \"Topic1\", \"Topic1\", \"Topic1\", \"Topic1\", \"Topic1\", \"Topic1\", \"Topic1\", \"Topic1\", \"Topic1\", \"Topic1\", \"Topic1\", \"Topic1\", \"Topic1\", \"Topic1\", \"Topic1\", \"Topic1\", \"Topic1\", \"Topic1\", \"Topic1\", \"Topic1\", \"Topic1\", \"Topic1\", \"Topic1\", \"Topic1\", \"Topic2\", \"Topic2\", \"Topic2\", \"Topic2\", \"Topic2\", \"Topic2\", \"Topic2\", \"Topic2\", \"Topic2\", \"Topic2\", \"Topic2\", \"Topic2\", \"Topic2\", \"Topic2\", \"Topic2\", \"Topic2\", \"Topic2\", \"Topic2\", \"Topic2\", \"Topic2\", \"Topic2\", \"Topic2\", \"Topic2\", \"Topic2\", \"Topic2\", \"Topic2\", \"Topic2\", \"Topic2\", \"Topic2\", \"Topic2\", \"Topic2\", \"Topic2\", \"Topic2\", \"Topic2\", \"Topic2\", \"Topic2\", \"Topic2\", \"Topic2\", \"Topic2\", \"Topic2\", \"Topic2\", \"Topic2\", \"Topic2\", \"Topic2\", \"Topic2\", \"Topic2\", \"Topic2\", \"Topic2\", \"Topic2\", \"Topic2\", \"Topic2\", \"Topic2\", \"Topic2\", \"Topic2\", \"Topic2\", \"Topic2\", \"Topic2\", \"Topic2\", \"Topic2\", \"Topic2\", \"Topic2\", \"Topic2\", \"Topic2\", \"Topic2\", \"Topic2\", \"Topic2\", \"Topic2\", \"Topic2\", \"Topic2\", \"Topic2\", \"Topic2\", \"Topic2\", \"Topic2\", \"Topic2\", \"Topic3\", \"Topic3\", \"Topic3\", \"Topic3\", \"Topic3\", \"Topic3\", \"Topic3\", \"Topic3\", \"Topic3\", \"Topic3\", \"Topic3\", \"Topic3\", \"Topic3\", \"Topic3\", \"Topic3\", \"Topic3\", \"Topic3\", \"Topic3\", \"Topic3\", \"Topic3\", \"Topic3\", \"Topic3\", \"Topic3\", \"Topic3\", \"Topic3\", \"Topic3\", \"Topic3\", \"Topic3\", \"Topic3\", \"Topic3\", \"Topic3\", \"Topic3\", \"Topic3\", \"Topic3\", \"Topic3\", \"Topic3\", \"Topic3\", \"Topic3\", \"Topic3\", \"Topic3\", \"Topic3\", \"Topic3\", \"Topic3\", \"Topic3\", \"Topic3\", \"Topic3\", \"Topic3\", \"Topic3\", \"Topic3\", \"Topic3\", \"Topic3\", \"Topic3\", \"Topic3\", \"Topic3\", \"Topic3\", \"Topic3\", \"Topic3\", \"Topic3\", \"Topic3\", \"Topic3\", \"Topic3\", \"Topic3\", \"Topic3\", \"Topic3\", \"Topic3\", \"Topic3\", \"Topic3\", \"Topic3\", \"Topic3\", \"Topic3\", \"Topic3\", \"Topic3\", \"Topic3\", \"Topic3\", \"Topic3\", \"Topic3\", \"Topic3\", \"Topic3\", \"Topic3\", \"Topic3\", \"Topic3\", \"Topic3\", \"Topic3\", \"Topic3\"], \"logprob\": [30.0, 29.0, 28.0, 27.0, 26.0, 25.0, 24.0, 23.0, 22.0, 21.0, 20.0, 19.0, 18.0, 17.0, 16.0, 15.0, 14.0, 13.0, 12.0, 11.0, 10.0, 9.0, 8.0, 7.0, 6.0, 5.0, 4.0, 3.0, 2.0, 1.0, -5.1431, -6.0144, -5.4932, -6.8188, -4.4518, -5.0679, -6.4075, -6.3954, -6.3097, -6.7887, -7.4077, -6.7461, -7.8012, -7.8012, -7.8013, -7.8013, -7.8013, -7.8014, -7.7637, -7.7331, -7.791, -7.7231, -7.9471, -7.7555, -7.9472, -7.5587, -7.8142, -8.0017, -7.9778, -7.741, -3.6714, -4.6154, -4.4032, -4.9397, -6.936, -5.7249, -6.6438, -6.3203, -2.7503, -7.1503, -7.4423, -4.8564, -6.2509, -5.7594, -2.3441, -6.4626, -6.8743, -6.8419, -5.3582, -3.0112, -5.672, -4.5315, -5.2308, -3.1278, -4.0503, -6.3156, -6.2082, -4.2937, -5.6292, -5.2145, -5.6221, -3.9727, -4.0371, -5.444, -5.2114, -5.4205, -5.2155, -5.39, -5.1639, -5.5405, -5.5087, -5.9221, -4.4393, -6.1835, -5.6965, -4.762, -5.8487, -6.1243, -6.0099, -6.7596, -7.29, -7.401, -7.5714, -7.5715, -6.8599, -7.4636, -7.4628, -7.4765, -6.3611, -4.5899, -7.831, -7.4646, -7.8314, -6.8258, -7.8139, -5.6206, -7.9009, -7.8235, -6.6874, -7.9201, -7.8757, -5.7918, -5.2533, -5.7363, -5.7553, -5.7553, -5.922, -5.5082, -5.7225, -5.6452, -5.3053, -5.7435, -5.4173, -6.1513, -6.4355, -5.743, -5.739, -5.7116, -5.6654, -4.2387, -5.691, -5.2625, -3.2401, -4.3466, -3.9583, -5.3372, -3.4382, -4.6638, -5.4043, -3.5433, -5.3631, -5.1468, -5.3111, -4.4163, -4.8996, -4.5319, -3.7331, -5.3447, -5.263, -5.2769, -5.4243, -5.4386, -4.8346, -5.2072, -5.4347, -6.2502, -6.3617, -6.618, -6.6245, -6.6, -6.2208, -5.7722, -6.8981, -6.0855, -7.3059, -7.139, -6.9938, -6.61, -7.3078, -7.491, -7.4914, -7.4919, -7.4923, -7.116, -7.7843, -7.8258, -7.1505, -7.7974, -7.877, -7.339, -7.2246, -8.0202, -7.8986, -7.9983, -7.9787, -4.6332, -5.1, -6.5335, -7.3203, -7.1258, -6.6919, -6.7126, -6.8378, -6.9126, -5.7142, -4.2032, -6.6914, -6.909, -6.8828, -6.0474, -6.8486, -5.4421, -6.3208, -5.1344, -5.7571, -4.9477, -5.2506, -4.5243, -4.8438, -5.1412, -5.9401, -5.4385, -6.0493, -6.0014, -5.7699, -4.8664, -4.5586, -5.2572, -5.6596, -5.8775, -5.6373, -5.677, -5.7691, -3.9177, -5.4813, -5.3516, -5.0831, -5.1845, -4.5625, -5.4411, -5.3358, -5.6747, -5.1904, -5.5399, -5.6111, -5.4727, -5.6195, -5.6218, -5.6422], \"loglift\": [30.0, 29.0, 28.0, 27.0, 26.0, 25.0, 24.0, 23.0, 22.0, 21.0, 20.0, 19.0, 18.0, 17.0, 16.0, 15.0, 14.0, 13.0, 12.0, 11.0, 10.0, 9.0, 8.0, 7.0, 6.0, 5.0, 4.0, 3.0, 2.0, 1.0, 0.8893, 0.8873, 0.8858, 0.885, 0.885, 0.8839, 0.8834, 0.8831, 0.8828, 0.8818, 0.8794, 0.8782, 0.8768, 0.8767, 0.8767, 0.8767, 0.8767, 0.8766, 0.8765, 0.8756, 0.8749, 0.8744, 0.8743, 0.8742, 0.8741, 0.874, 0.874, 0.8735, 0.8733, 0.8732, 0.8607, 0.865, 0.8574, 0.856, 0.8729, 0.859, 0.8682, 0.8602, 0.8211, 0.8679, 0.8704, 0.8, 0.8387, 0.8224, 0.7036, 0.8322, 0.8463, 0.8386, 0.7545, 0.5546, 0.748, 0.6245, 0.6866, 0.4545, 0.4719, 0.7911, 0.7586, 0.3034, 0.609, 0.4577, 0.5512, -0.0746, -0.1261, 0.3498, 0.0768, 0.2293, -0.0469, 0.1384, -0.5348, 0.2843, -0.3294, 1.1818, 1.1814, 1.1785, 1.1774, 1.1771, 1.1761, 1.1737, 1.1724, 1.172, 1.1699, 1.1697, 1.1695, 1.1694, 1.1693, 1.1692, 1.169, 1.1682, 1.1672, 1.1667, 1.1663, 1.1661, 1.1659, 1.1657, 1.1653, 1.1653, 1.1644, 1.1643, 1.1635, 1.1633, 1.1626, 1.1598, 1.1483, 1.1522, 1.1523, 1.1522, 1.1531, 1.1451, 1.1468, 1.1448, 1.1374, 1.143, 1.1224, 1.1374, 1.143, 1.1211, 1.12, 1.1167, 1.0864, 0.9319, 1.0701, 0.9906, 0.658, 0.8327, 0.6709, 0.9814, 0.4729, 0.7686, 0.9932, 0.0391, 0.9266, 0.8108, 0.8755, 0.1058, 0.4452, 0.0652, -0.6853, 0.644, 0.3868, 0.3282, 0.5352, 0.5642, -1.2688, -1.6358, 0.3901, 1.2513, 1.2503, 1.2488, 1.2487, 1.2483, 1.2481, 1.2472, 1.2443, 1.2437, 1.2428, 1.242, 1.2417, 1.2403, 1.24, 1.2394, 1.239, 1.2386, 1.2383, 1.2378, 1.2373, 1.2359, 1.2354, 1.2353, 1.2346, 1.2341, 1.234, 1.2338, 1.2337, 1.2332, 1.2332, 1.2292, 1.2185, 1.2319, 1.233, 1.2306, 1.2255, 1.2251, 1.2252, 1.2256, 1.1956, 1.1425, 1.2192, 1.2197, 1.2176, 1.1796, 1.2162, 1.1303, 1.1839, 1.1073, 1.1391, 1.0382, 1.0452, 0.9507, 0.9725, 0.9934, 1.0937, 0.9786, 1.0625, 1.0429, 0.9807, 0.7295, 0.61, 0.8163, 0.9105, 0.98, 0.8838, 0.8573, 0.8884, -0.3519, 0.6892, 0.5501, 0.2051, 0.1603, -0.6514, 0.4437, 0.2693, 0.6951, -0.5613, 0.3189, 0.3528, -0.8757, 0.1743, -0.0934, -2.0599]}, \"token.table\": {\"Topic\": [1, 3, 1, 2, 1, 2, 3, 1, 2, 3, 3, 1, 2, 3, 1, 2, 3, 1, 2, 3, 1, 2, 3, 2, 1, 2, 3, 2, 1, 1, 2, 3, 2, 1, 2, 3, 1, 2, 3, 1, 2, 3, 1, 2, 3, 1, 1, 2, 3, 1, 2, 3, 1, 3, 1, 2, 3, 1, 3, 1, 1, 2, 3, 1, 2, 3, 1, 2, 3, 1, 2, 3, 1, 2, 3, 1, 2, 3, 1, 2, 3, 3, 1, 2, 3, 1, 2, 3, 1, 2, 3, 1, 2, 3, 1, 3, 1, 1, 1, 2, 3, 1, 2, 3, 1, 1, 2, 3, 3, 1, 2, 3, 1, 2, 3, 1, 2, 3, 3, 1, 2, 3, 1, 2, 3, 1, 2, 3, 1, 2, 3, 1, 2, 3, 1, 2, 3, 3, 1, 2, 3, 1, 2, 3, 2, 1, 2, 3, 1, 2, 3, 1, 2, 3, 1, 2, 3, 1, 2, 3, 1, 1, 2, 3, 1, 2, 3, 1, 1, 2, 3, 1, 2, 3, 1, 2, 3, 1, 2, 3, 1, 1, 3, 1, 2, 3, 1, 2, 3, 1, 2, 3, 1, 2, 3, 2, 3, 1, 2, 3, 1, 2, 3, 1, 2, 3, 1, 2, 3, 1, 2, 3, 1, 2, 3, 2, 1, 2, 3, 1, 2, 3, 1, 1, 2, 2, 3, 1, 3, 1, 2, 3, 1, 2, 3, 3, 1, 2, 3, 1, 2, 3, 1, 2, 3, 1, 2, 3, 1, 2, 3, 1, 1, 2, 3, 1, 2, 3, 1, 2, 3, 1, 2, 3, 1, 2, 3, 1, 2, 3, 1, 2, 3, 1, 2, 3, 1, 2, 3, 1, 2, 3, 1, 2, 3, 1, 2, 3, 1, 2, 3, 1, 2, 3, 1, 2, 3, 2, 1, 2, 3, 1, 2, 3, 2, 3, 1, 2, 3, 1, 2, 3, 2, 3, 1, 2, 3, 1, 2, 3, 1, 2, 3, 1, 3, 1, 2, 3, 1, 2, 3, 1, 2, 3, 1, 2, 3, 1, 2, 3, 2, 1, 2, 3, 1, 2, 3, 1, 2, 3, 1, 2, 3, 2, 3, 1, 2, 3, 1, 2, 3, 1, 2, 3, 1, 2, 1, 2, 3, 2, 3, 1, 1, 2, 3, 1, 2, 3, 2, 3, 1, 2, 1, 2, 3, 1, 2, 3, 1, 2, 3, 1, 2, 3, 1, 2, 3, 1, 2, 3, 1, 2, 3, 1, 2, 3, 1, 2, 3, 1, 2, 3, 1, 2, 3, 3, 3, 1, 2, 3, 2, 1, 2, 3, 1, 2, 3, 1, 2, 3, 1, 2, 3, 2, 1, 1, 2, 3, 2, 1, 2, 3, 1, 2, 3, 1, 2, 3, 2, 1, 2, 3, 1, 2, 3, 1, 2, 3, 1, 2, 3, 1, 1, 3, 3, 1, 2, 3, 1, 2, 3, 1, 2, 3, 1, 2, 3, 1, 2, 3, 1, 2, 3, 1, 2, 3, 1, 2, 3, 1, 2, 3, 1, 2, 3, 2, 1, 3, 1, 2, 3, 1, 3, 1, 2, 3, 1, 2, 3, 1, 2, 3, 1], \"Freq\": [0.007105137913985664, 0.994719307957993, 0.9775353509194827, 0.017301510635743058, 0.011153257183520737, 0.022306514367041473, 0.970333374966304, 0.03160789876558182, 0.9385114556549679, 0.02917652193746014, 0.968818662383147, 0.9415481894753446, 0.04656007530372583, 0.010346683400827962, 0.23239048339678442, 0.3622557535302816, 0.404632841679107, 0.028099151532474415, 0.965908333928808, 0.003512393941559302, 0.6573237476750101, 0.3394933276235911, 0.002909942808202209, 0.9886337670427353, 0.9937347521236651, 0.002070280733590969, 0.002070280733590969, 0.977783027418958, 0.9902407382819807, 0.015590815922641225, 0.021437371893631683, 0.9627328832230957, 0.9936531135985073, 0.9926863593069984, 0.005402374744527883, 0.0027011873722639413, 0.3635208948379902, 0.14386692657899258, 0.49325803398511747, 0.2950500148645876, 0.7023812193182359, 0.0024951375464235736, 0.38059112225900266, 0.5898556082348221, 0.02944947236414677, 0.990210721326748, 0.948017019195815, 0.0379206807678326, 0.012640226922610867, 0.01078254149551108, 0.9812112760915083, 0.01078254149551108, 0.00922589685946015, 0.987170963962236, 0.007856126174178572, 0.003928063087089286, 0.9898718979465, 0.008998437657467594, 0.9898281423214355, 0.9828240190216737, 0.020611409974753577, 0.9549953288302491, 0.020611409974753577, 0.2155371760246129, 0.07769363321817441, 0.7067614376621028, 0.8671292561872788, 0.11216597343716045, 0.02157037950714624, 0.05727794188967141, 0.2553641575914517, 0.6873353026760569, 0.01292499412489113, 0.1680249236235847, 0.8228912926180687, 0.03680570714166455, 0.9368725454241885, 0.02676778701211967, 0.00999947246643325, 0.9810593542067289, 0.008888419970162889, 0.978276672439947, 0.00901693664718834, 0.00901693664718834, 0.9828460945435292, 0.18808176144523012, 0.04377765137087253, 0.7685409907330955, 0.0069459981851520275, 0.10418997277728041, 0.8890877676994595, 0.9044364016470469, 0.030004999106774066, 0.06429642665737301, 0.016566829680735067, 0.977442951163369, 0.9762148028565736, 0.989791003828869, 0.0019399320366865786, 0.9951851348202149, 0.0019399320366865786, 0.9682577688502276, 0.017789512813521244, 0.015248153840161066, 0.9908187370891997, 0.13120603482027723, 0.11399868599138842, 0.757123348471108, 0.9748434811372438, 0.9510790759737705, 0.007608632607790164, 0.04565179564674099, 0.009839637674177585, 0.01967927534835517, 0.9642844920694033, 0.0031100021312018247, 0.9796506713285748, 0.015550010656009123, 0.9852374204842961, 0.00339629034862847, 0.9917167817995133, 0.00339629034862847, 0.014683157717799591, 0.9727591988042229, 0.011012368288349693, 0.005354470122018838, 0.005354470122018838, 0.9852225024514661, 0.008171626129677841, 0.9588041325488666, 0.032686504518711364, 0.9983688649452273, 0.0014638839661953477, 0.0014638839661953477, 0.01540441510749251, 0.01540441510749251, 0.9858825668795207, 0.9908400080504761, 0.9582190547325816, 0.039595828707957914, 0.007919165741591584, 0.023158196422413072, 0.023158196422413072, 0.9610651515301426, 0.9758963722372358, 0.031765916575750924, 0.9635661361311114, 0.004235455543433457, 0.17717532770576108, 0.013335777354197071, 0.8096721965048221, 0.018211809310706137, 0.018211809310706137, 0.9834377027781315, 0.06011842000665004, 0.9047822211000831, 0.03306513100365752, 0.7112740377429556, 0.052249988554577305, 0.23596769024647815, 0.9902160108129797, 0.7535240854163853, 0.21220964696690564, 0.03416934993534921, 0.11361279795532149, 0.7725670260961861, 0.11361279795532149, 0.9901983883408092, 0.1174573830567798, 0.2394910277910965, 0.6437274759735205, 0.15591624172826254, 0.8146623630301717, 0.029234295324049225, 0.1608440903703083, 0.24883526921994756, 0.5894462841217769, 0.17049372004229385, 0.026552300662324453, 0.8035564674124505, 0.981670077412547, 0.9902316027050893, 0.9706611766306588, 0.03101434788748034, 0.9683368618202196, 0.0034460386541644824, 0.282930840080248, 0.2740892513277402, 0.4433425217328886, 0.007218980347716087, 0.1317463913458186, 0.8608634064651434, 0.9901667503493164, 0.00467059787900621, 0.00467059787900621, 0.009166456425549294, 0.9899772939593237, 0.5823765551975054, 0.07957224219530272, 0.33904694500607246, 0.028161671373300126, 0.03168188029496264, 0.9398957820838918, 0.010382918750112331, 0.9759943625105592, 0.010382918750112331, 0.03867423319754329, 0.03867423319754329, 0.9233473175913461, 0.01491753540927753, 0.01491753540927753, 0.984557337012317, 0.9937719057406833, 0.002920710964704433, 0.0036508887058805412, 0.9842602862597223, 0.009245392841943178, 0.9846343376669485, 0.004622696420971589, 0.8142866481587518, 0.16311831894205767, 0.022184091376119843, 0.9810930135929352, 0.9811537005900793, 0.021329428273697375, 0.9849511172073454, 0.9866693223388875, 0.9867799482729454, 0.007532671360862178, 0.010380005158230355, 0.9861004900318838, 0.005190002579115178, 0.01915260592435076, 0.01915260592435076, 0.9672065991797133, 0.9689428866276694, 0.014955566297655475, 0.014955566297655475, 0.9721118093476059, 0.05764434780592315, 0.8919704344706003, 0.05157652172108913, 0.44305739389884613, 0.20796571550354, 0.34915983004273277, 0.025710983780444154, 0.9513063998764337, 0.025710983780444154, 0.9698675922728324, 0.012082525560301278, 0.01828706571288842, 0.9794838473649712, 0.016565701454372084, 0.008282850727186042, 0.9773763858079529, 0.9669174125487534, 0.009472948758350279, 0.024359011092900715, 0.6460282115259225, 0.3177084380108907, 0.03625539630581536, 0.9321435066957897, 0.05947725324225146, 0.00824684603779117, 0.29850891153816816, 0.5816018698983089, 0.12052472484639654, 0.8288090087753929, 0.1539491639804266, 0.017245266926653558, 0.00553266380061538, 0.990346820310153, 0.00553266380061538, 0.9735335248415123, 0.014329064867797153, 0.011800406361715301, 0.9126829094771145, 0.025128934732299407, 0.062319758136102535, 0.03783171285136429, 0.9595498077755124, 0.003439246622851299, 0.007898231052523446, 0.9912279970916924, 0.003949115526261723, 0.006667410212002156, 0.9907771575035202, 0.001333482042400431, 0.006534221699559784, 0.9801332549339676, 0.013068443399119568, 0.10967091483088748, 0.8246409172860962, 0.06538073768764446, 0.012075202816398796, 0.012075202816398796, 0.9901666309447013, 0.988621563697968, 0.20338546210988015, 0.42395842806003187, 0.37239591653921716, 0.9853726397614327, 0.007192501020156444, 0.007192501020156444, 0.9786569593538341, 0.01658740609074295, 0.012524447103016239, 0.09651191591147808, 0.891445940861744, 0.7140771042271324, 0.08585823543082452, 0.20004596098933064, 0.021741325443319602, 0.9783596449493821, 0.013253227902653025, 0.013253227902653025, 0.9807388647963239, 0.020998119324180282, 0.006175917448288318, 0.9720894063605813, 0.9800212478681947, 0.01811127010921234, 0.9780085858974664, 0.9870824177192594, 0.019354557210181558, 0.36150447880214276, 0.4901368977157207, 0.14828703135330612, 0.06024151855380571, 0.823300753568678, 0.11683203598313835, 0.028098865418560867, 0.9658984987630298, 0.0035123581773201084, 0.39127088732849247, 0.08516621837749522, 0.5233402404646083, 0.9736240771481094, 0.01431800113453102, 0.01431800113453102, 0.9760738443068886, 0.26580836633761207, 0.3421052122308155, 0.39132898377481773, 0.9691216261078902, 0.013844594658684145, 0.013844594658684145, 0.09391112231604443, 0.5212747803919567, 0.38517170457160255, 0.18916494223255945, 0.4769606325552472, 0.33416686293222564, 0.9838410844730582, 0.019676821689461162, 0.009021266117951005, 0.9742967407387085, 0.01804253223590201, 0.020098002748099045, 0.10049001374049522, 0.8817998705728456, 0.9945496787094148, 0.0051531071435720974, 0.0051531071435720974, 0.9783648402610615, 0.9959338682316613, 0.006381367936250777, 0.06381367936250777, 0.9316797186926135, 0.021742577838273856, 0.9784160027223234, 0.9902141783166326, 0.30126785140538365, 0.6587723684064388, 0.039365665916970126, 0.03380451739165675, 0.9600482939230517, 0.003380451739165675, 0.9877748549842474, 0.009779949059249974, 0.9847146505321314, 0.016142863123477562, 0.5554727398644632, 0.3261747079756196, 0.11848226571763959, 0.02561959210798533, 0.7327203342883805, 0.2408241658150621, 0.024047184788153445, 0.012023592394076722, 0.9739109839202146, 0.26081889663134145, 0.6873664671638479, 0.051620406624953, 0.23825000331616547, 0.009435643695689722, 0.7524925847312552, 0.02234667724144113, 0.02234667724144113, 0.9609071213819687, 0.03971867936669859, 0.953248304800766, 0.008826373192599686, 0.9924874614409644, 0.005089679289440843, 0.005089679289440843, 0.9332064222248647, 0.0050717740338307865, 0.06086128840596944, 0.01857578460180942, 0.01857578460180942, 0.9845165838958992, 0.9647409252712453, 0.017330675304273867, 0.017330675304273867, 0.9788983310467304, 0.9889778776228275, 0.04542675014729633, 0.9344931458872389, 0.022713375073648165, 0.9858603841211466, 0.1914706324167168, 0.11761767419884032, 0.6920295714489908, 0.2364358039798208, 0.02766801961465988, 0.7361370067173144, 0.18799350633030673, 0.7754732136125153, 0.03648558182068453, 0.875789778583712, 0.11925648048799482, 0.0037267650152498382, 0.9724590401028071, 0.9932460266143015, 0.7660282156933697, 0.22791929408856026, 0.006094098772421398, 0.9821948401573607, 0.47138855142118663, 0.2697439177926115, 0.25913104233847595, 0.5162511160729587, 0.44934816679464495, 0.03395075038003984, 0.06774127382518119, 0.083680397078165, 0.8487583132213878, 0.9901247741415963, 0.39331709270251436, 0.040340214636155315, 0.5664438471826809, 0.034349877955424386, 0.958673866574117, 0.0031227161777658535, 0.5448092278541793, 0.4508355837483274, 0.0035686193964247553, 0.012459966205259453, 0.9677240419418175, 0.020766610342099086, 0.9968317734861061, 0.006361536790655617, 0.9923997393422762, 0.9783209713716798, 0.011910665794958523, 0.023821331589917047, 0.9647639293916405, 0.18760278884164747, 0.537226168046536, 0.2757192502672698, 0.00964171493847029, 0.02892514481541087, 0.9641714938470289, 0.09307096615008699, 0.15011446153239835, 0.7595791753539357, 0.0235399957728602, 0.938236974375428, 0.040354278467760345, 0.6484449073250652, 0.14909127003064493, 0.20321344339793385, 0.012080772505140398, 0.18121158757710598, 0.8053848336760265, 0.24036409534564754, 0.5976717999537733, 0.16228174700731593, 0.9771689348983718, 0.006428742992752446, 0.012857485985504891, 0.8725736404562592, 0.017451472809125183, 0.11105482696716025, 0.9936590248482132, 0.006157558088006006, 0.9913668521689669, 0.21717708843301495, 0.023388301831247765, 0.7584492165276061, 0.015328655853609886, 0.9810339746310327, 0.9952208615360698, 0.0034920030229335782, 0.0034920030229335782, 0.23456422258323323, 0.09430932660562986, 0.6698380376861403, 0.2584907112983229, 0.17027562728381587, 0.5703207757216966, 0.976219447204845], \"Term\": [\"accountable\", \"accountable\", \"activism\", \"activism\", \"advise\", \"advise\", \"advise\", \"african\", \"african\", \"african\", \"alis\", \"alive\", \"alive\", \"alive\", \"alllivesmatter\", \"alllivesmatter\", \"alllivesmatter\", \"americansbut\", \"americansbut\", \"americansbut\", \"amish\", \"amish\", \"amish\", \"ampend\", \"anyways\", \"anyways\", \"anyways\", \"ape\", \"arberysandra\", \"attack\", \"attack\", \"attack\", \"barthis\", \"begin\", \"begin\", \"begin\", \"believe\", \"believe\", \"believe\", \"bitch\", \"bitch\", \"bitch\", \"black\", \"black\", \"black\", \"blandsean\", \"block\", \"block\", \"block\", \"bloop\", \"bloop\", \"bloop\", \"boyle\", \"boyle\", \"brilliant\", \"brilliant\", \"brilliant\", \"brotha\", \"brotha\", \"brutal\", \"burn\", \"burn\", \"burn\", \"call\", \"call\", \"call\", \"cause\", \"cause\", \"cause\", \"change\", \"change\", \"change\", \"check\", \"check\", \"check\", \"city\", \"city\", \"city\", \"community\", \"community\", \"community\", \"complieddidnt\", \"condolence\", \"condolence\", \"condolence\", \"cop\", \"cop\", \"cop\", \"counter\", \"counter\", \"counter\", \"course\", \"course\", \"course\", \"crawl\", \"crawl\", \"crazyy\", \"creation\", \"crib\", \"crib\", \"crib\", \"crowd\", \"crowd\", \"crowd\", \"deafen\", \"death\", \"death\", \"death\", \"decadez\", \"definitely\", \"definitely\", \"definitely\", \"discretion\", \"discretion\", \"discretion\", \"disgusting\", \"disgusting\", \"disgusting\", \"domain\", \"dope\", \"dope\", \"dope\", \"dumb\", \"dumb\", \"dumb\", \"dumbass\", \"dumbass\", \"dumbass\", \"early\", \"early\", \"early\", \"electronic\", \"electronic\", \"electronic\", \"elliott\", \"elliott\", \"elliott\", \"ellos\", \"ensure\", \"ensure\", \"ensure\", \"exclusive\", \"exclusive\", \"exclusive\", \"exemplify\", \"fact\", \"fact\", \"fact\", \"family\", \"family\", \"family\", \"feature\", \"feature\", \"feature\", \"fight\", \"fight\", \"fight\", \"find\", \"find\", \"find\", \"floydahmoud\", \"folk\", \"folk\", \"folk\", \"fuck\", \"fuck\", \"fuck\", \"garneroscar\", \"get\", \"get\", \"get\", \"girl\", \"girl\", \"girl\", \"go\", \"go\", \"go\", \"good\", \"good\", \"good\", \"grandchild\", \"grantmichael\", \"grupo\", \"hall\", \"hall\", \"hall\", \"happen\", \"happen\", \"happen\", \"hashtag\", \"hashtag\", \"hashtag\", \"heartbreaking\", \"heartbreaking\", \"heartbreaking\", \"heights\", \"heights\", \"help\", \"help\", \"help\", \"hold\", \"hold\", \"hold\", \"holocaust\", \"holocaust\", \"holocaust\", \"home\", \"home\", \"home\", \"homeless\", \"homeless\", \"homeless\", \"house\", \"house\", \"house\", \"housing\", \"houston\", \"houston\", \"houston\", \"human\", \"human\", \"human\", \"humphrey\", \"idealblack\", \"idealblack\", \"illustration\", \"indifferent\", \"inhumane\", \"inhumane\", \"insul\", \"insul\", \"insul\", \"interview\", \"interview\", \"interview\", \"itthis\", \"jane\", \"jane\", \"jane\", \"kid\", \"kid\", \"kid\", \"kill\", \"kill\", \"kill\", \"kneel\", \"kneel\", \"kneel\", \"know\", \"know\", \"know\", \"landlord\", \"latino\", \"latino\", \"latino\", \"leave\", \"leave\", \"leave\", \"life\", \"life\", \"life\", \"live\", \"live\", \"live\", \"love\", \"love\", \"love\", \"matter\", \"matter\", \"matter\", \"matterjk\", \"matterjk\", \"matterjk\", \"mean\", \"mean\", \"mean\", \"medium\", \"medium\", \"medium\", \"meeting\", \"meeting\", \"meeting\", \"mindset\", \"mindset\", \"mindset\", \"minneapolis\", \"minneapolis\", \"minneapolis\", \"minnesota\", \"minnesota\", \"minnesota\", \"miss\", \"miss\", \"miss\", \"mixtape\", \"mixtape\", \"mixtape\", \"mlkjr\", \"movement\", \"movement\", \"movement\", \"name\", \"name\", \"name\", \"nederland\", \"nederland\", \"need\", \"need\", \"need\", \"not\", \"not\", \"not\", \"nowhe\", \"nowhe\", \"offender\", \"offender\", \"offender\", \"officer\", \"officer\", \"officer\", \"oops\", \"outlet\", \"outlet\", \"paragraph\", \"paragraph\", \"people\", \"people\", \"people\", \"person\", \"person\", \"person\", \"photos\", \"photos\", \"photos\", \"police\", \"police\", \"police\", \"policeman\", \"policeman\", \"policeman\", \"premier\", \"protest\", \"protest\", \"protest\", \"pull\", \"pull\", \"pull\", \"race\", \"race\", \"race\", \"racist\", \"racist\", \"racist\", \"racistisch\", \"racistisch\", \"rapper\", \"rapper\", \"rapper\", \"read\", \"read\", \"read\", \"redirect\", \"redirect\", \"redirect\", \"reed\", \"reminded\", \"rescue\", \"rescue\", \"rescue\", \"resisthands\", \"resisthands\", \"riceeric\", \"right\", \"right\", \"right\", \"room\", \"room\", \"room\", \"ropethi\", \"ropethi\", \"saudi\", \"saudi\", \"say\", \"say\", \"say\", \"see\", \"see\", \"see\", \"service\", \"service\", \"service\", \"shit\", \"shit\", \"shit\", \"shoot\", \"shoot\", \"shoot\", \"shooting\", \"shooting\", \"shooting\", \"show\", \"show\", \"show\", \"siri\", \"siri\", \"siri\", \"situation\", \"situation\", \"situation\", \"smack\", \"smack\", \"smack\", \"social\", \"social\", \"social\", \"something\", \"sono\", \"sound\", \"sound\", \"sound\", \"spuugzat\", \"start\", \"start\", \"start\", \"stop\", \"stop\", \"stop\", \"support\", \"support\", \"support\", \"supporter\", \"supporter\", \"supporter\", \"syste\", \"tamir\", \"tell\", \"tell\", \"tell\", \"thei\", \"think\", \"think\", \"think\", \"time\", \"time\", \"time\", \"to\", \"to\", \"to\", \"tocreate\", \"today\", \"today\", \"today\", \"town\", \"town\", \"town\", \"trend\", \"trend\", \"trend\", \"trending\", \"trending\", \"trending\", \"unacce\", \"unironically\", \"unironically\", \"upbut\", \"urge\", \"urge\", \"urge\", \"video\", \"video\", \"video\", \"viewer\", \"viewer\", \"viewer\", \"violence\", \"violence\", \"violence\", \"voice\", \"voice\", \"voice\", \"watch\", \"watch\", \"watch\", \"week\", \"week\", \"week\", \"white\", \"white\", \"white\", \"wild\", \"wild\", \"wild\", \"will\", \"will\", \"will\", \"womanamp\", \"womans\", \"womans\", \"work\", \"work\", \"work\", \"worse\", \"worse\", \"worthy\", \"worthy\", \"worthy\", \"wrong\", \"wrong\", \"wrong\", \"year\", \"year\", \"year\", \"yoooooo\"]}, \"R\": 30, \"lambda.step\": 0.01, \"plot.opts\": {\"xlab\": \"PC1\", \"ylab\": \"PC2\"}, \"topic.order\": [3, 1, 2]};\n",
       "\n",
       "function LDAvis_load_lib(url, callback){\n",
       "  var s = document.createElement('script');\n",
       "  s.src = url;\n",
       "  s.async = true;\n",
       "  s.onreadystatechange = s.onload = callback;\n",
       "  s.onerror = function(){console.warn(\"failed to load library \" + url);};\n",
       "  document.getElementsByTagName(\"head\")[0].appendChild(s);\n",
       "}\n",
       "\n",
       "if(typeof(LDAvis) !== \"undefined\"){\n",
       "   // already loaded: just create the visualization\n",
       "   !function(LDAvis){\n",
       "       new LDAvis(\"#\" + \"ldavis_el3681397335670632483982036252\", ldavis_el3681397335670632483982036252_data);\n",
       "   }(LDAvis);\n",
       "}else if(typeof define === \"function\" && define.amd){\n",
       "   // require.js is available: use it to load d3/LDAvis\n",
       "   require.config({paths: {d3: \"https://d3js.org/d3.v5\"}});\n",
       "   require([\"d3\"], function(d3){\n",
       "      window.d3 = d3;\n",
       "      LDAvis_load_lib(\"https://cdn.jsdelivr.net/gh/bmabey/pyLDAvis@3.2.2/pyLDAvis/js/ldavis.v3.0.0.js\", function(){\n",
       "        new LDAvis(\"#\" + \"ldavis_el3681397335670632483982036252\", ldavis_el3681397335670632483982036252_data);\n",
       "      });\n",
       "    });\n",
       "}else{\n",
       "    // require.js not available: dynamically load d3 & LDAvis\n",
       "    LDAvis_load_lib(\"https://d3js.org/d3.v5.js\", function(){\n",
       "         LDAvis_load_lib(\"https://cdn.jsdelivr.net/gh/bmabey/pyLDAvis@3.2.2/pyLDAvis/js/ldavis.v3.0.0.js\", function(){\n",
       "                 new LDAvis(\"#\" + \"ldavis_el3681397335670632483982036252\", ldavis_el3681397335670632483982036252_data);\n",
       "            })\n",
       "         });\n",
       "}\n",
       "</script>"
      ],
      "text/plain": [
       "PreparedData(topic_coordinates=              x         y  topics  cluster       Freq\n",
       "topic                                                \n",
       "2     -0.108694  0.134250       1        1  41.010281\n",
       "0     -0.085268 -0.145513       2        1  30.549068\n",
       "1      0.193961  0.011263       3        1  28.440650, topic_info=               Term          Freq         Total Category  logprob  loglift\n",
       "15           matter  13510.000000  13510.000000  Default  30.0000  30.0000\n",
       "14             live   8003.000000   8003.000000  Default  29.0000  29.0000\n",
       "85             know   3062.000000   3062.000000  Default  28.0000  28.0000\n",
       "45            black   5772.000000   5772.000000  Default  27.0000  27.0000\n",
       "19             life   7916.000000   7916.000000  Default  26.0000  26.0000\n",
       "..              ...           ...           ...      ...      ...      ...\n",
       "0    alllivesmatter    296.066867    731.527374   Topic3  -5.6111   0.3528\n",
       "137             say    339.991074   2869.627770   Topic3  -5.4727  -0.8757\n",
       "413            help    293.584344    867.136555   Topic3  -5.6195   0.1743\n",
       "268           think    292.910286   1130.702047   Topic3  -5.6218  -0.0934\n",
       "19             life    286.987541   7916.062966   Topic3  -5.6422  -2.0599\n",
       "\n",
       "[259 rows x 6 columns], token_table=      Topic      Freq         Term\n",
       "term                              \n",
       "210       1  0.007105  accountable\n",
       "210       3  0.994719  accountable\n",
       "1934      1  0.977535     activism\n",
       "1934      2  0.017302     activism\n",
       "63        1  0.011153       advise\n",
       "...     ...       ...          ...\n",
       "52        3  0.669838        wrong\n",
       "1266      1  0.258491         year\n",
       "1266      2  0.170276         year\n",
       "1266      3  0.570321         year\n",
       "4214      1  0.976219      yoooooo\n",
       "\n",
       "[513 rows x 3 columns], R=30, lambda_step=0.01, plot_opts={'xlab': 'PC1', 'ylab': 'PC2'}, topic_order=[3, 1, 2])"
      ]
     },
     "execution_count": 22,
     "metadata": {
      "tags": []
     },
     "output_type": "execute_result"
    }
   ],
   "source": [
    "pyLDAvis.enable_notebook()\n",
    "pyLDAvis.gensim.prepare(base_model, corpus, id2word)"
   ]
  },
  {
   "cell_type": "markdown",
   "metadata": {
    "id": "pvo0vQQuvTt9"
   },
   "source": [
    "\n",
    "\n",
    "### Black Lives Matter"
   ]
  },
  {
   "cell_type": "code",
   "execution_count": null,
   "metadata": {
    "id": "yqYMhmWbvTt9"
   },
   "outputs": [],
   "source": [
    "black_lives_matter_df.dropna(inplace=True)"
   ]
  },
  {
   "cell_type": "code",
   "execution_count": null,
   "metadata": {
    "id": "xQ25LkpzvTt9"
   },
   "outputs": [],
   "source": [
    "black_lives_matter_df.reset_index(drop=True,inplace=True)"
   ]
  },
  {
   "cell_type": "code",
   "execution_count": null,
   "metadata": {
    "id": "G0cKT452vTt-"
   },
   "outputs": [],
   "source": [
    "def give_emoji_free_text(text):\n",
    "    \"\"\"\n",
    "    Removes all emojis from tweets\n",
    "    \"\"\"\n",
    "    emoji_pattern = re.compile(\"[\"\n",
    "                       u\"\\U0001F600-\\U0001F64F\"  # emoticons\n",
    "                       u\"\\U0001F300-\\U0001F5FF\"  # symbols & pictographs\n",
    "                       u\"\\U0001F680-\\U0001F6FF\"  # transport & map symbols\n",
    "                       u\"\\U0001F1E0-\\U0001F1FF\"  # flags (iOS)\n",
    "                       u\"\\U00002702-\\U000027B0\"\n",
    "                       u\"\\U000024C2-\\U0001F251\"\n",
    "                       u\"\\U0001f926-\\U0001f937\"\n",
    "                       u\"\\u200d\"\n",
    "                       u\"\\u2640-\\u2642\" \n",
    "                       \"]+\", flags=re.UNICODE)\n",
    "    return emoji_pattern.sub(r'', text)\n",
    "\n",
    "def url_free_text(text):\n",
    "    '''\n",
    "    Cleans urls from text\n",
    "    '''\n",
    "    text = re.sub(r'http\\S+', '', text)\n",
    "    return text\n",
    "\n",
    "def tokenize(text):\n",
    "    # Removing url's\n",
    "    import string\n",
    "    pattern = r\"https?\\S+\"\n",
    "    \n",
    "    tokens = re.sub(pattern, \"\", text) # https://www.youtube.com/watch?v=O2onA4r5UaY\n",
    "    tokens = re.sub(r'@\\w+|#\\w+', '', tokens) # Remove @ ! $\n",
    "    tokens = re.sub('[^a-zA-Z 0-9]', '', tokens)\n",
    "    tokens = ' '.join(w for w in tokens.split() if len(w)>3)\n",
    "    tokens = tokens.translate(str.maketrans('', '', string.punctuation))\n",
    "    tokens = ' '.join(w for w in tokens.split() if not any(x.isdigit() for x in w))\n",
    "\n",
    "    tokens = tokens.lower() # Make text lowercase\n",
    "    \n",
    "    return tokens\n",
    "\n",
    "# Apply the function above and get tweets free of emoji's\n",
    "call_emoji_free = lambda x: give_emoji_free_text(x)\n",
    "\n",
    "# Apply `call_emoji_free` which calls the function to remove all emoji's\n",
    "black_lives_matter_df['emoji_free_tweets'] = black_lives_matter_df['text'].apply(call_emoji_free)\n",
    "\n",
    "black_lives_matter_df['clean_tweets'] = black_lives_matter_df['emoji_free_tweets'].apply(tokenize)\n",
    "\n",
    "#Create a new column with url free tweets\n",
    "black_lives_matter_df['url_free_tweets'] = black_lives_matter_df['clean_tweets'].apply(url_free_text)\n"
   ]
  },
  {
   "cell_type": "code",
   "execution_count": null,
   "metadata": {
    "id": "JuhnhKkjvTt-"
   },
   "outputs": [],
   "source": [
    "nlp = spacy.load('en_core_web_lg')"
   ]
  },
  {
   "cell_type": "code",
   "execution_count": null,
   "metadata": {
    "id": "VaaGQn-qvTt-"
   },
   "outputs": [],
   "source": [
    "# Tokenizer\n",
    "tokenizer = Tokenizer(nlp.vocab)\n",
    "\n",
    "# Custom stopwords\n",
    "custom_stopwords = ['hi','\\n','\\n\\n', '&amp;', ' ', '.', '-', 'got', \"it's\", 'it’s', \"i'm\", 'i’m', 'im', 'want', 'like', '$', '@']\n",
    "\n",
    "# Customize stop words by adding to the default list\n",
    "STOP_WORDS = nlp.Defaults.stop_words.union(custom_stopwords)\n",
    "\n",
    "# ALL_STOP_WORDS = spacy + gensim + wordcloud\n",
    "ALL_STOP_WORDS = STOP_WORDS.union(SW).union(stopwords)\n",
    "\n",
    "\n",
    "tokens = []\n",
    "\n",
    "for doc in tokenizer.pipe(black_lives_matter_df['url_free_tweets'], batch_size=500):\n",
    "    doc_tokens = []    \n",
    "    for token in doc: \n",
    "        if token.text.lower() not in STOP_WORDS:\n",
    "            doc_tokens.append(token.text.lower())   \n",
    "    tokens.append(doc_tokens)\n",
    "\n",
    "# Makes tokens column\n",
    "black_lives_matter_df['tokens'] = tokens"
   ]
  },
  {
   "cell_type": "code",
   "execution_count": null,
   "metadata": {
    "id": "nbrcHfBOvTt_"
   },
   "outputs": [],
   "source": [
    "# Make tokens a string again\n",
    "black_lives_matter_df['tokens_back_to_text'] = [' '.join(map(str, l)) for l in black_lives_matter_df['tokens']]\n",
    "\n",
    "def get_lemmas(text):\n",
    "    '''Used to lemmatize the processed tweets'''\n",
    "    lemmas = []\n",
    "\n",
    "    if(text == ''):\n",
    "      return None\n",
    "\n",
    "    doc = nlp(text)\n",
    "    \n",
    "    for token in doc: \n",
    "        if ((token.is_stop == False) and (token.is_punct == False)) and (token.pos_ != 'PRON'):\n",
    "            lemmas.append(token.lemma_)\n",
    "    \n",
    "    return lemmas\n",
    "\n",
    "black_lives_matter_df['lemmas'] = black_lives_matter_df['tokens_back_to_text'].apply(get_lemmas)"
   ]
  },
  {
   "cell_type": "code",
   "execution_count": null,
   "metadata": {
    "id": "M7PJBglGvTt_"
   },
   "outputs": [],
   "source": [
    "black_lives_matter_df.dropna(inplace=True)"
   ]
  },
  {
   "cell_type": "code",
   "execution_count": null,
   "metadata": {
    "id": "t67-FNpavTt_"
   },
   "outputs": [],
   "source": [
    "# Make lemmas a string again\n",
    "black_lives_matter_df['lemmas_back_to_text'] = [' '.join(map(str, l)) for l in black_lives_matter_df['lemmas']]\n",
    "\n",
    "# Tokenizer function\n",
    "def split_string(text):\n",
    "  return [w for w in text.split() if len(w)>1]\n",
    "\n",
    "# Apply tokenizer\n",
    "black_lives_matter_df['lemma_tokens'] = black_lives_matter_df['lemmas_back_to_text'].apply(split_string)"
   ]
  },
  {
   "cell_type": "code",
   "execution_count": null,
   "metadata": {
    "id": "AfDdOrsgvTt_"
   },
   "outputs": [],
   "source": [
    "id2word = Dictionary(black_lives_matter_df['lemma_tokens'])"
   ]
  },
  {
   "cell_type": "code",
   "execution_count": null,
   "metadata": {
    "id": "zwakQn_IvTt_"
   },
   "outputs": [],
   "source": [
    "# Filtering Extremes\n",
    "id2word.filter_extremes(no_below=2, no_above=.99)"
   ]
  },
  {
   "cell_type": "code",
   "execution_count": null,
   "metadata": {
    "id": "ntJyxLptvTuA"
   },
   "outputs": [],
   "source": [
    "# Creating a corpus object \n",
    "corpus = [id2word.doc2bow(d) for d in black_lives_matter_df['lemma_tokens']]"
   ]
  },
  {
   "cell_type": "code",
   "execution_count": null,
   "metadata": {
    "id": "E56iMfSQvTuA"
   },
   "outputs": [],
   "source": [
    "# Instantiating a Base LDA model \n",
    "base_model = LdaMulticore(corpus=corpus, num_topics=3, id2word=id2word, workers=12, passes=5)"
   ]
  },
  {
   "cell_type": "code",
   "execution_count": null,
   "metadata": {
    "id": "KDYcCvJnvTuA"
   },
   "outputs": [],
   "source": [
    "# Filtering for words \n",
    "words = [re.findall(r'\"([^\"]*)\"',t[1]) for t in base_model.print_topics()]"
   ]
  },
  {
   "cell_type": "code",
   "execution_count": null,
   "metadata": {
    "id": "hMDgfArQvTuA"
   },
   "outputs": [],
   "source": [
    "# Create Topics\n",
    "topics = [' '.join(t[0:10]) for t in words]"
   ]
  },
  {
   "cell_type": "code",
   "execution_count": null,
   "metadata": {
    "colab": {
     "base_uri": "https://localhost:8080/"
    },
    "id": "gzPJ6_VQvTuA",
    "outputId": "135792cb-dc3c-4e9b-b36e-c30d3716d00b"
   },
   "outputs": [
    {
     "name": "stdout",
     "output_type": "stream",
     "text": [
      "------ Topic 0 ------\n",
      "black people not go protest stand police today take sign\n",
      "\n",
      "------ Topic 1 ------\n",
      "black not matter white life video people live police look\n",
      "\n",
      "------ Topic 2 ------\n",
      "protest not police know need kill stop justice today black\n",
      "\n"
     ]
    }
   ],
   "source": [
    "# Getting the topics\n",
    "for id, t in enumerate(topics): \n",
    "    print(f\"------ Topic {id} ------\")\n",
    "    print(t, end=\"\\n\\n\")"
   ]
  },
  {
   "cell_type": "code",
   "execution_count": null,
   "metadata": {
    "colab": {
     "base_uri": "https://localhost:8080/"
    },
    "id": "6uB1LbWbvTuA",
    "outputId": "517232e9-6e60-40c4-eeeb-46b7c8cec953"
   },
   "outputs": [
    {
     "name": "stdout",
     "output_type": "stream",
     "text": [
      "\n",
      "Perplexity:  -7.715033335972909\n",
      "\n",
      "Coherence Score:  0.1760871321006033\n"
     ]
    }
   ],
   "source": [
    "# Compute Perplexity\n",
    "# a measure of how good the model is. lower the better\n",
    "base_perplexity = base_model.log_perplexity(corpus)\n",
    "print('\\nPerplexity: ', base_perplexity) \n",
    "\n",
    "# Compute Coherence Score\n",
    "coherence_model = CoherenceModel(model=base_model, texts=black_lives_matter_df['lemma_tokens'], \n",
    "                                   dictionary=id2word, coherence='c_v')\n",
    "coherence_lda_model_base = coherence_model.get_coherence()\n",
    "print('\\nCoherence Score: ', coherence_lda_model_base)"
   ]
  },
  {
   "cell_type": "markdown",
   "metadata": {
    "id": "UIZqL5ptvfW2"
   },
   "source": [
    "### Black Lives Matter Topics"
   ]
  },
  {
   "cell_type": "code",
   "execution_count": null,
   "metadata": {
    "colab": {
     "base_uri": "https://localhost:8080/"
    },
    "id": "H0x3b-hvvTuB",
    "outputId": "6a550964-efce-4799-add8-3de0c9d76c17"
   },
   "outputs": [
    {
     "data": {
      "text/html": [
       "\n",
       "<link rel=\"stylesheet\" type=\"text/css\" href=\"https://cdn.jsdelivr.net/gh/bmabey/pyLDAvis@3.2.2/pyLDAvis/js/ldavis.v1.0.0.css\">\n",
       "\n",
       "\n",
       "<div id=\"ldavis_el3681397336249873443484642449\"></div>\n",
       "<script type=\"text/javascript\">\n",
       "\n",
       "var ldavis_el3681397336249873443484642449_data = {\"mdsDat\": {\"x\": [-0.09284238867818831, -0.08201824880622159, 0.17486063748440991], \"y\": [0.13000111008094384, -0.13547898418475407, 0.005477874103810314], \"topics\": [1, 2, 3], \"cluster\": [1, 1, 1], \"Freq\": [36.31768908565464, 32.31991052388612, 31.36240039045924]}, \"tinfo\": {\"Term\": [\"protest\", \"matter\", \"black\", \"life\", \"look\", \"need\", \"person\", \"sign\", \"go\", \"see\", \"racial\", \"know\", \"white\", \"disappear\", \"people\", \"take\", \"live\", \"donation\", \"country\", \"stand\", \"justice\", \"condemn\", \"definitely\", \"photo\", \"listen\", \"create\", \"girl\", \"not\", \"right\", \"say\", \"teenage\", \"definitely\", \"techno\", \"tone\", \"dog\", \"masterpiece\", \"jog\", \"chill\", \"drown\", \"deranged\", \"toddler\", \"classmate\", \"birthplace\", \"mattuhh\", \"grab\", \"river\", \"branco\", \"masse\", \"charlotte\", \"bully\", \"descend\", \"didntjust\", \"fearful\", \"autonomous\", \"influe\", \"dare\", \"debase\", \"prevail\", \"maid\", \"laugh\", \"target\", \"create\", \"zone\", \"future\", \"capitol\", \"hill\", \"look\", \"be\", \"detroit\", \"matter\", \"house\", \"allow\", \"rest\", \"medic\", \"photo\", \"purpose\", \"train\", \"word\", \"fact\", \"girl\", \"leader\", \"mother\", \"face\", \"love\", \"life\", \"live\", \"say\", \"forget\", \"white\", \"black\", \"voice\", \"video\", \"head\", \"security\", \"shoot\", \"peace\", \"happen\", \"hear\", \"fight\", \"leave\", \"america\", \"not\", \"murder\", \"people\", \"protestor\", \"police\", \"racism\", \"help\", \"kill\", \"stop\", \"movement\", \"show\", \"cop\", \"need\", \"know\", \"discriminationwe\", \"drain\", \"shelby\", \"bullying\", \"youim\", \"learnt\", \"hateand\", \"ridiculousi\", \"electronic\", \"gettin\", \"corden\", \"understandthis\", \"brain\", \"constant\", \"rowthe\", \"husband\", \"radar\", \"milton\", \"cry\", \"design\", \"timeline\", \"sonic\", \"retweete\", \"following\", \"remmie\", \"reblogthe\", \"dominique\", \"rockaway\", \"afandor\", \"fells\", \"dancing\", \"condemn\", \"headphonesthen\", \"career\", \"horrific\", \"airbender\", \"condition\", \"derrick\", \"letter\", \"amazing\", \"racial\", \"catch\", \"armys\", \"conversation\", \"donation\", \"reminder\", \"listen\", \"see\", \"sign\", \"ignore\", \"beat\", \"petition\", \"music\", \"take\", \"go\", \"death\", \"riot\", \"stand\", \"donate\", \"minute\", \"report\", \"people\", \"tell\", \"million\", \"hope\", \"believe\", \"racist\", \"week\", \"think\", \"black\", \"hate\", \"woman\", \"thank\", \"not\", \"right\", \"cop\", \"today\", \"protest\", \"police\", \"protester\", \"life\", \"know\", \"support\", \"disappear\", \"stoppeddozen\", \"retain\", \"stencil\", \"tlsthis\", \"chalk\", \"boycott\", \"cracker\", \"warrant\", \"product\", \"stateslet\", \"inone\", \"plead\", \"monthfor\", \"drivers\", \"chica\", \"manis\", \"illustration\", \"tuitear\", \"irate\", \"consecutive\", \"skincare\", \"violacin\", \"activista\", \"algorithm\", \"hablando\", \"estado\", \"stopdont\", \"perdu\", \"ventre\", \"couple\", \"karen\", \"alexander\", \"stoppedthis\", \"person\", \"facebook\", \"rice\", \"traffic\", \"suicide\", \"tamir\", \"crib\", \"laface\", \"boat\", \"anymore\", \"lisa\", \"viral\", \"header\", \"image\", \"draw\", \"minneapolis\", \"civil\", \"okay\", \"protest\", \"body\", \"read\", \"unarmed\", \"color\", \"find\", \"fuck\", \"need\", \"know\", \"brutality\", \"free\", \"not\", \"country\", \"police\", \"understand\", \"justice\", \"message\", \"change\", \"stop\", \"kill\", \"time\", \"support\", \"year\", \"right\", \"today\", \"street\", \"arrest\", \"march\", \"black\", \"floyd\", \"murder\", \"feel\", \"movement\", \"white\", \"people\"], \"Freq\": [4373.0, 2280.0, 7280.0, 2193.0, 950.0, 1472.0, 665.0, 814.0, 1352.0, 734.0, 643.0, 2395.0, 2466.0, 442.0, 3389.0, 984.0, 1324.0, 563.0, 864.0, 1239.0, 1258.0, 416.0, 423.0, 538.0, 503.0, 434.0, 579.0, 7072.0, 1388.0, 1066.0, 165.86042384636443, 420.3714508241797, 114.08840128703953, 165.73502369320758, 147.95150744509917, 98.82567950919997, 98.11293195236864, 161.0058260540187, 73.92191890444022, 110.05419111223608, 112.48946060776643, 73.33880819226094, 54.25877931703139, 53.931430202602584, 166.81265168389132, 73.0794235948025, 49.39047327681111, 93.52289447134987, 60.545230957221065, 79.16649934290055, 92.75538046791283, 67.06380966747456, 66.57991739015445, 169.10706042955192, 35.07697742245472, 98.20610958975558, 50.147258764786436, 39.11886613847594, 68.27820959407191, 91.07220874236835, 409.8098003775922, 424.4996889322199, 185.3643473843627, 249.68063673862022, 180.0043485266348, 140.6504532213902, 912.8905192937847, 145.2046821563159, 108.07414783307131, 2132.486152802932, 390.01302016116017, 330.2529265130984, 201.55121505505406, 212.4154820976559, 507.3728053375556, 158.2188520133698, 181.7233214043954, 415.1266485694107, 367.33387010360576, 529.6806644699376, 237.64900961460876, 222.26658096886771, 573.7311356292456, 592.789592868459, 1685.3512038667625, 1055.282393203371, 850.2488839188195, 425.86868003819245, 1744.8075570495128, 4381.172819602239, 369.02088664516685, 1283.2482780434316, 334.47811313577256, 408.45340843795094, 897.1336351435345, 286.7528555543207, 796.0485716838098, 606.8245909534281, 444.5332802397667, 347.12128782273226, 400.65180353214225, 2170.5072426360216, 747.8194953266441, 1162.9494267774228, 515.1099947873323, 1027.7238167146559, 562.5989736368101, 474.5192961083167, 565.9461521588318, 528.5999754141944, 482.81708930882166, 443.57130727241315, 464.58550411724013, 466.24400986926275, 463.147602078047, 302.3832210484454, 158.4685219572015, 134.1831021230641, 133.44277611413096, 90.71257778405472, 78.2458107387335, 78.20009308097195, 78.90992091147606, 63.64559905768973, 61.23805245458479, 57.734828359038886, 58.66457207292045, 82.78686119732492, 149.7239210546855, 58.625151450057835, 183.09182344448448, 142.1804680441873, 118.78762165209858, 201.120267260005, 159.7098866489082, 176.67124295802316, 44.08405096338667, 161.9224423092806, 40.86598648114548, 126.3692385104691, 40.85300419289511, 129.91950283850454, 44.36377551835646, 37.242957513162416, 131.67607947648779, 198.05775006772555, 405.24903012762877, 193.00868615416317, 186.0663005877067, 160.16980049561246, 213.2420397005341, 164.21516837007997, 144.84122519795142, 233.2438834497429, 328.2619420514102, 592.529480635525, 256.31906186811085, 147.4589230033575, 155.0919162969327, 515.6104821278897, 243.72391295454185, 457.96980661354127, 649.913010774899, 715.7661252330525, 219.32334357941033, 415.67792007627884, 410.4271536467374, 266.65043660547326, 773.1241777139849, 1009.7062397771733, 520.7417035939578, 278.23837577395363, 893.2261754467542, 672.1908542915811, 299.74341453116847, 205.9384530538873, 1816.2441559782467, 459.81119911343393, 451.76873405208363, 315.09028215591314, 412.3463214366043, 633.4573912498303, 443.97057025690646, 579.012477396626, 2178.5425652344416, 390.4715144733492, 571.1586207034503, 520.678430566175, 1734.8192440719574, 669.6533532064971, 619.740988485772, 792.7863500571824, 944.7041001668878, 804.6237228713773, 449.1758559077421, 482.5378494810946, 466.30563322550194, 419.3027223471932, 441.26182614773376, 280.7977143630206, 267.1528426892807, 268.25058351085744, 156.19732466635264, 285.59691127097625, 207.22931124786246, 168.84139312555834, 174.68887237108655, 189.15770731965247, 69.63719430092976, 69.63015799194802, 191.00561317720678, 69.61622584476275, 65.91800697131828, 60.27347607514104, 60.25429542887864, 176.1949872850902, 60.23658334075218, 65.16512191027154, 70.20640104938316, 187.7834689262559, 60.81986909220444, 61.50619015948104, 196.86763753331613, 61.48778210249885, 70.63491354337852, 48.392039433479944, 52.82603785820519, 48.90900382250626, 295.22199453474934, 201.40231519581286, 191.45356171887948, 162.90163734881037, 645.7849295429764, 245.7491314309151, 177.4353059465602, 239.10018977521753, 149.24054768522143, 186.360231771402, 84.27161875687555, 176.27210574233294, 219.47093092746795, 238.3110504833193, 207.31868897302257, 347.4000949658265, 129.7006537925612, 360.38751231721403, 223.32108171762806, 387.19779058841686, 259.2448997586099, 228.97439203744403, 3211.681783067958, 347.39345452903797, 336.2795342569823, 357.43004055257103, 449.7879426631384, 504.39577891515694, 475.85793993312205, 990.521673013611, 1466.1057715496286, 255.87983287585556, 321.50903192715356, 3167.599907490649, 615.4394615065241, 1839.1492668020555, 375.2483501275089, 794.3706280002779, 396.03271295463196, 575.2981232801247, 800.2904241564479, 896.1527912420468, 685.6931373578137, 696.1480964391687, 553.2230127821507, 635.4077657326137, 737.0480279482389, 411.2191620288407, 435.50002130684896, 427.71993232449984, 721.0201589124927, 383.96783105416864, 442.30779710250107, 372.3853002659712, 395.6276973908116, 409.695718128833, 410.70772069541255], \"Total\": [4373.0, 2280.0, 7280.0, 2193.0, 950.0, 1472.0, 665.0, 814.0, 1352.0, 734.0, 643.0, 2395.0, 2466.0, 442.0, 3389.0, 984.0, 1324.0, 563.0, 864.0, 1239.0, 1258.0, 416.0, 423.0, 538.0, 503.0, 434.0, 579.0, 7072.0, 1388.0, 1066.0, 167.0011792678049, 423.49256017795915, 114.97149018735242, 167.12386722235064, 149.19451623348112, 99.65608685007884, 99.06875095110267, 162.92154492279573, 74.82433283121793, 111.41202655846496, 113.9710929617261, 74.311524384094, 55.016008220724785, 54.68432868464121, 169.39927371832368, 74.27235021677139, 50.20215308152176, 95.14332760164126, 61.59478634470449, 80.54561306792745, 94.4274782605594, 68.27600119566019, 67.85049382480125, 172.4393137306967, 35.77017756144294, 100.16891102735805, 51.15752036168517, 39.912419266332314, 69.6964270529952, 92.9655158833427, 418.3979261959936, 434.34573662956655, 189.271402210246, 255.7656924839753, 184.1240287765941, 143.62484197872578, 950.7193613260448, 148.64090408578232, 110.33643563106506, 2280.2342336348397, 404.2454423245103, 342.5773471280419, 207.4776926875814, 219.1513638597644, 538.2686437241831, 163.00200740144646, 188.98861370836872, 447.0919850294668, 394.4961504388772, 579.2317904677712, 251.2714715563709, 234.6258569377527, 664.2401307648978, 690.2918131594724, 2193.457504492983, 1324.4664849409367, 1066.563730335807, 496.1057539979427, 2466.7607207064334, 7280.735543749172, 424.6154292689446, 1832.5360007085637, 382.21764355115454, 488.6407311847436, 1320.738984225092, 324.9624593365256, 1165.8693929269848, 830.5368693967343, 603.7956015552512, 430.4326196348845, 535.5284718726303, 7072.926394198628, 1418.8743691639334, 3389.901303451082, 855.4568085001769, 3671.4968063880888, 1123.3415012400837, 858.8781650665796, 1817.0642614080368, 1460.6475311640424, 1153.0964450908596, 713.6585497111334, 1230.0348770297512, 1472.127495273046, 2395.5590068531774, 303.7651798056138, 159.63981267589213, 135.33673643201237, 134.59924341978962, 91.51237425051335, 78.93836724988093, 78.93677748665525, 79.65427674387054, 64.34138363787032, 61.95089103452187, 58.419399874684025, 59.36551440363479, 83.78517640867544, 151.57385458626314, 59.362003762526044, 185.39844913274888, 144.02768945033336, 120.38201890173063, 204.33661079161269, 162.29941921500725, 179.6831328528028, 44.839166941815336, 164.7096547180496, 41.578244879862595, 128.59478780787524, 41.57887542099711, 132.27616374825732, 45.1693433284416, 37.927441282563976, 134.14349444793632, 201.83779917227156, 416.0789423548131, 196.91901015789512, 190.09523990141403, 163.49348534349832, 218.93640511727133, 168.05138080149794, 148.8949168235365, 243.68078739443874, 346.8232655059072, 643.9535209473601, 269.5432062824172, 152.5824118966146, 160.98202834187035, 563.7507075007334, 258.74799314939867, 503.3385897986526, 734.0248719751605, 814.0282820203838, 231.74253301807408, 469.65092565575617, 463.7732130819981, 291.1687776821621, 984.0574962104163, 1352.7060918686996, 637.0196159884603, 310.7592198947195, 1239.0169181282677, 898.8677005307, 346.20974683471223, 221.30609242693836, 3389.901303451082, 617.2652954381283, 617.5351399608364, 385.56799301289175, 558.6824061960202, 1024.7738285293515, 632.2940231281135, 946.618908106684, 7280.735543749172, 540.6136006155815, 981.3533093202705, 900.1422722781716, 7072.926394198628, 1388.4318432635182, 1230.0348770297512, 1968.0869738290235, 4373.394500847964, 3671.4968063880888, 844.9961822654699, 2193.457504492983, 2395.5590068531774, 1490.494018211378, 442.9952368416103, 282.0115869044599, 268.3620526585507, 269.75841023616965, 157.12623566294326, 287.3587358518491, 208.53086485068596, 170.11830960865194, 176.38410874581496, 191.15341014821416, 70.38697249039078, 70.38733761959226, 193.0856831500484, 70.38133013509619, 66.66803492921852, 60.96055663951962, 60.960184913628886, 178.29752498449503, 60.956942503038846, 65.95644239248101, 71.06395127851948, 190.15824851134542, 61.6298364031509, 62.33981567286643, 199.58421947380447, 62.34285526773153, 71.63092403021565, 49.09144099198413, 53.59546312744744, 49.622890757645955, 299.9122178715587, 204.4380857860002, 194.30185894700514, 165.4940515508641, 665.5333148814043, 251.46838699126306, 180.98117082458788, 245.0399694722751, 152.244713997509, 190.54266685296463, 85.51334443100785, 180.2622376941175, 225.88261543166396, 246.1098526176213, 213.5728341092232, 362.1948663546466, 132.5886918201477, 378.3107334630014, 231.30944946909077, 411.81617216905124, 270.3623261587284, 239.5147571291238, 4373.394500847964, 383.80756496253906, 371.36248167652786, 404.64363111039506, 534.6102697863757, 617.3735335520583, 582.2036819531276, 1472.127495273046, 2395.5590068531774, 277.5580108444209, 372.7834115192502, 7072.926394198628, 864.8132448338444, 3671.4968063880888, 460.82031506456974, 1258.401778772581, 507.8585578837657, 871.9987625697468, 1460.6475311640424, 1817.0642614080368, 1282.6346497875925, 1490.494018211378, 1046.0796526030492, 1388.4318432635182, 1968.0869738290235, 616.6411687087966, 753.379980879839, 729.2867958972245, 7280.735543749172, 602.6936343614093, 1418.8743691639334, 535.2180806186498, 1153.0964450908596, 2466.7607207064334, 3389.901303451082], \"Category\": [\"Default\", \"Default\", \"Default\", \"Default\", \"Default\", \"Default\", \"Default\", \"Default\", \"Default\", \"Default\", \"Default\", \"Default\", \"Default\", \"Default\", \"Default\", \"Default\", \"Default\", \"Default\", \"Default\", \"Default\", \"Default\", \"Default\", \"Default\", \"Default\", \"Default\", \"Default\", \"Default\", \"Default\", \"Default\", \"Default\", \"Topic1\", \"Topic1\", \"Topic1\", \"Topic1\", \"Topic1\", \"Topic1\", \"Topic1\", \"Topic1\", \"Topic1\", \"Topic1\", \"Topic1\", \"Topic1\", \"Topic1\", \"Topic1\", \"Topic1\", \"Topic1\", \"Topic1\", \"Topic1\", \"Topic1\", \"Topic1\", \"Topic1\", \"Topic1\", \"Topic1\", \"Topic1\", \"Topic1\", \"Topic1\", \"Topic1\", \"Topic1\", \"Topic1\", \"Topic1\", \"Topic1\", \"Topic1\", \"Topic1\", \"Topic1\", \"Topic1\", \"Topic1\", \"Topic1\", \"Topic1\", \"Topic1\", \"Topic1\", \"Topic1\", \"Topic1\", \"Topic1\", \"Topic1\", \"Topic1\", \"Topic1\", \"Topic1\", \"Topic1\", \"Topic1\", \"Topic1\", \"Topic1\", \"Topic1\", \"Topic1\", \"Topic1\", \"Topic1\", \"Topic1\", \"Topic1\", \"Topic1\", \"Topic1\", \"Topic1\", \"Topic1\", \"Topic1\", \"Topic1\", \"Topic1\", \"Topic1\", \"Topic1\", \"Topic1\", \"Topic1\", \"Topic1\", \"Topic1\", \"Topic1\", \"Topic1\", \"Topic1\", \"Topic1\", \"Topic1\", \"Topic1\", \"Topic1\", \"Topic1\", \"Topic1\", \"Topic1\", \"Topic1\", \"Topic1\", \"Topic1\", \"Topic1\", \"Topic1\", \"Topic2\", \"Topic2\", \"Topic2\", \"Topic2\", \"Topic2\", \"Topic2\", \"Topic2\", \"Topic2\", \"Topic2\", \"Topic2\", \"Topic2\", \"Topic2\", \"Topic2\", \"Topic2\", \"Topic2\", \"Topic2\", \"Topic2\", \"Topic2\", \"Topic2\", \"Topic2\", \"Topic2\", \"Topic2\", \"Topic2\", \"Topic2\", \"Topic2\", \"Topic2\", \"Topic2\", \"Topic2\", \"Topic2\", \"Topic2\", \"Topic2\", \"Topic2\", \"Topic2\", \"Topic2\", \"Topic2\", \"Topic2\", \"Topic2\", \"Topic2\", \"Topic2\", \"Topic2\", \"Topic2\", \"Topic2\", \"Topic2\", \"Topic2\", \"Topic2\", \"Topic2\", \"Topic2\", \"Topic2\", \"Topic2\", \"Topic2\", \"Topic2\", \"Topic2\", \"Topic2\", \"Topic2\", \"Topic2\", \"Topic2\", \"Topic2\", \"Topic2\", \"Topic2\", \"Topic2\", \"Topic2\", \"Topic2\", \"Topic2\", \"Topic2\", \"Topic2\", \"Topic2\", \"Topic2\", \"Topic2\", \"Topic2\", \"Topic2\", \"Topic2\", \"Topic2\", \"Topic2\", \"Topic2\", \"Topic2\", \"Topic2\", \"Topic2\", \"Topic2\", \"Topic2\", \"Topic2\", \"Topic2\", \"Topic2\", \"Topic2\", \"Topic3\", \"Topic3\", \"Topic3\", \"Topic3\", \"Topic3\", \"Topic3\", \"Topic3\", \"Topic3\", \"Topic3\", \"Topic3\", \"Topic3\", \"Topic3\", \"Topic3\", \"Topic3\", \"Topic3\", \"Topic3\", \"Topic3\", \"Topic3\", \"Topic3\", \"Topic3\", \"Topic3\", \"Topic3\", \"Topic3\", \"Topic3\", \"Topic3\", \"Topic3\", \"Topic3\", \"Topic3\", \"Topic3\", \"Topic3\", \"Topic3\", \"Topic3\", \"Topic3\", \"Topic3\", \"Topic3\", \"Topic3\", \"Topic3\", \"Topic3\", \"Topic3\", \"Topic3\", \"Topic3\", \"Topic3\", \"Topic3\", \"Topic3\", \"Topic3\", \"Topic3\", \"Topic3\", \"Topic3\", \"Topic3\", \"Topic3\", \"Topic3\", \"Topic3\", \"Topic3\", \"Topic3\", \"Topic3\", \"Topic3\", \"Topic3\", \"Topic3\", \"Topic3\", \"Topic3\", \"Topic3\", \"Topic3\", \"Topic3\", \"Topic3\", \"Topic3\", \"Topic3\", \"Topic3\", \"Topic3\", \"Topic3\", \"Topic3\", \"Topic3\", \"Topic3\", \"Topic3\", \"Topic3\", \"Topic3\", \"Topic3\", \"Topic3\", \"Topic3\", \"Topic3\", \"Topic3\", \"Topic3\", \"Topic3\", \"Topic3\", \"Topic3\", \"Topic3\", \"Topic3\", \"Topic3\"], \"logprob\": [30.0, 29.0, 28.0, 27.0, 26.0, 25.0, 24.0, 23.0, 22.0, 21.0, 20.0, 19.0, 18.0, 17.0, 16.0, 15.0, 14.0, 13.0, 12.0, 11.0, 10.0, 9.0, 8.0, 7.0, 6.0, 5.0, 4.0, 3.0, 2.0, 1.0, -6.641, -5.711, -7.0152, -6.6418, -6.7553, -7.1588, -7.166, -6.6707, -7.4491, -7.0512, -7.0293, -7.4571, -7.7584, -7.7644, -6.6353, -7.4606, -7.8524, -7.2139, -7.6488, -7.3806, -7.2222, -7.5465, -7.5537, -6.6216, -8.1946, -7.1651, -7.8372, -8.0855, -7.5286, -7.2405, -5.7365, -5.7012, -6.5298, -6.232, -6.5592, -6.8059, -4.9355, -6.774, -7.0693, -4.0871, -5.786, -5.9523, -6.4461, -6.3936, -5.5229, -6.6882, -6.5497, -5.7236, -5.8459, -5.4799, -6.2814, -6.3483, -5.4, -5.3673, -4.3224, -4.7906, -5.0066, -5.698, -4.2877, -3.3671, -5.8413, -4.595, -5.9396, -5.7398, -4.9529, -6.0935, -5.0725, -5.3439, -5.6551, -5.9025, -5.7591, -4.0694, -5.135, -4.6934, -5.5078, -4.817, -5.4196, -5.5898, -5.4136, -5.4819, -5.5725, -5.6573, -5.611, -5.6074, -5.6141, -5.9238, -6.57, -6.7363, -6.7419, -7.1278, -7.2757, -7.2763, -7.2672, -7.4822, -7.5208, -7.5797, -7.5637, -7.2193, -6.6267, -7.5644, -6.4255, -6.6784, -6.8582, -6.3316, -6.5622, -6.4612, -7.8494, -6.5484, -7.9252, -6.7963, -7.9255, -6.7686, -7.8431, -8.0181, -6.7552, -6.347, -5.631, -6.3728, -6.4094, -6.5593, -6.2731, -6.5343, -6.6599, -6.1834, -5.8417, -5.2511, -6.0891, -6.642, -6.5915, -5.3902, -6.1395, -5.5087, -5.1587, -5.0622, -6.245, -5.6056, -5.6183, -6.0496, -4.9851, -4.7181, -5.3803, -6.007, -4.8407, -5.125, -5.9326, -6.3079, -4.131, -5.5047, -5.5224, -5.8827, -5.6137, -5.1843, -5.5398, -5.2742, -3.9491, -5.6682, -5.2879, -5.3804, -4.1769, -5.1288, -5.2062, -4.96, -4.7847, -4.9451, -5.5281, -5.4565, -5.4907, -5.5969, -5.5158, -5.9678, -6.0176, -6.0135, -6.5543, -5.9509, -6.2716, -6.4765, -6.4424, -6.3629, -7.3622, -7.3623, -6.3531, -7.3625, -7.417, -7.5066, -7.5069, -6.4339, -7.5072, -7.4285, -7.354, -6.3702, -7.4975, -7.4863, -6.3229, -7.4866, -7.3479, -7.7261, -7.6384, -7.7155, -5.9177, -6.3001, -6.3508, -6.5123, -5.135, -6.1011, -6.4268, -6.1286, -6.5999, -6.3778, -7.1714, -6.4334, -6.2142, -6.1319, -6.2712, -5.755, -6.7402, -5.7183, -6.1968, -5.6465, -6.0477, -6.1718, -3.5309, -5.755, -5.7875, -5.7265, -5.4967, -5.3821, -5.4403, -4.7072, -4.3151, -6.0607, -5.8324, -3.5447, -5.1831, -4.0884, -5.6779, -4.9279, -5.624, -5.2506, -4.9205, -4.8073, -5.075, -5.0599, -5.2897, -5.1512, -5.0028, -5.5863, -5.529, -5.547, -5.0248, -5.6549, -5.5134, -5.6855, -5.625, -5.59, -5.5876], \"loglift\": [30.0, 29.0, 28.0, 27.0, 26.0, 25.0, 24.0, 23.0, 22.0, 21.0, 20.0, 19.0, 18.0, 17.0, 16.0, 15.0, 14.0, 13.0, 12.0, 11.0, 10.0, 9.0, 8.0, 7.0, 6.0, 5.0, 4.0, 3.0, 2.0, 1.0, 1.006, 1.0055, 1.0052, 1.0045, 1.0045, 1.0045, 1.0032, 1.001, 1.0007, 1.0006, 0.9998, 0.9997, 0.999, 0.999, 0.9975, 0.9967, 0.9966, 0.9957, 0.9957, 0.9956, 0.995, 0.995, 0.994, 0.9934, 0.9933, 0.9931, 0.9929, 0.9928, 0.9923, 0.9923, 0.9921, 0.9899, 0.992, 0.9888, 0.9902, 0.9919, 0.9723, 0.9895, 0.9921, 0.9459, 0.977, 0.9762, 0.9839, 0.9816, 0.9538, 0.9831, 0.9737, 0.9387, 0.9415, 0.9234, 0.9571, 0.9588, 0.8664, 0.8606, 0.7494, 0.7857, 0.7862, 0.8602, 0.6666, 0.5049, 0.8725, 0.6566, 0.8794, 0.8336, 0.6261, 0.8878, 0.6313, 0.699, 0.7067, 0.7977, 0.7227, -0.1684, 0.3724, -0.057, 0.5056, -0.2604, 0.3214, 0.4195, -0.1536, -0.0035, 0.1423, 0.5373, 0.0392, -0.1369, -0.6305, 1.1249, 1.1221, 1.1209, 1.1209, 1.1207, 1.1207, 1.1201, 1.1201, 1.1186, 1.1179, 1.1177, 1.1176, 1.1175, 1.1172, 1.117, 1.117, 1.1166, 1.1162, 1.1136, 1.1134, 1.1126, 1.1125, 1.1124, 1.1122, 1.112, 1.1119, 1.1115, 1.1115, 1.1113, 1.1109, 1.1106, 1.1031, 1.1094, 1.1081, 1.1089, 1.1031, 1.1064, 1.1019, 1.0857, 1.0745, 1.0463, 1.0792, 1.0953, 1.0922, 1.0402, 1.0697, 1.035, 1.0078, 1.0008, 1.0744, 1.0074, 1.0073, 1.0415, 0.8882, 0.837, 0.9279, 1.0189, 0.8023, 0.8389, 0.9854, 1.0575, 0.5055, 0.835, 0.8169, 0.9276, 0.8258, 0.6485, 0.7759, 0.6379, -0.0771, 0.8041, 0.5882, 0.5821, -0.2759, 0.4003, 0.444, 0.2202, -0.4029, -0.3885, 0.4976, -0.3847, -0.507, -0.1388, 1.1556, 1.1552, 1.155, 1.154, 1.1536, 1.1534, 1.1533, 1.152, 1.1499, 1.1491, 1.1489, 1.1487, 1.1487, 1.1486, 1.1482, 1.1482, 1.1479, 1.1477, 1.1477, 1.1475, 1.1474, 1.147, 1.1463, 1.1461, 1.1459, 1.1457, 1.1456, 1.1452, 1.1451, 1.1451, 1.1438, 1.1446, 1.1448, 1.1438, 1.1294, 1.1366, 1.1398, 1.135, 1.1396, 1.1374, 1.1449, 1.1372, 1.1308, 1.1274, 1.1298, 1.1179, 1.1375, 1.111, 1.1244, 1.0979, 1.1176, 1.1146, 0.8508, 1.0599, 1.0603, 1.0355, 0.9868, 0.9574, 0.9579, 0.7633, 0.6686, 1.0782, 1.0116, 0.3563, 0.8194, 0.4683, 0.9541, 0.6995, 0.9109, 0.7437, 0.5579, 0.4527, 0.5333, 0.3983, 0.5225, 0.3779, 0.1774, 0.7544, 0.6115, 0.626, -1.1528, 0.7087, -0.0061, 0.7968, 0.0898, -0.6357, -0.9511]}, \"token.table\": {\"Topic\": [3, 2, 1, 2, 3, 1, 2, 3, 1, 2, 3, 1, 2, 3, 1, 2, 3, 1, 2, 3, 1, 2, 3, 1, 2, 3, 1, 2, 3, 1, 2, 3, 1, 2, 3, 1, 2, 3, 1, 2, 3, 1, 1, 2, 3, 1, 2, 3, 1, 2, 3, 1, 2, 3, 1, 2, 1, 1, 2, 3, 1, 2, 3, 1, 2, 1, 2, 3, 1, 2, 3, 1, 2, 3, 1, 2, 3, 1, 2, 3, 1, 2, 3, 1, 2, 3, 1, 2, 3, 1, 3, 1, 2, 3, 1, 2, 3, 1, 2, 3, 3, 1, 2, 1, 2, 3, 1, 2, 3, 2, 1, 2, 3, 1, 2, 3, 1, 2, 3, 1, 2, 3, 1, 2, 3, 1, 2, 3, 1, 2, 3, 1, 2, 3, 1, 2, 3, 1, 2, 1, 2, 3, 1, 2, 3, 1, 2, 3, 1, 2, 1, 2, 3, 1, 2, 3, 1, 2, 1, 2, 3, 1, 2, 3, 1, 2, 3, 1, 2, 3, 1, 2, 3, 1, 2, 3, 1, 2, 3, 1, 2, 3, 3, 1, 3, 2, 1, 3, 1, 2, 3, 1, 2, 3, 1, 2, 3, 1, 3, 1, 2, 3, 1, 2, 3, 1, 2, 3, 1, 2, 3, 1, 2, 3, 2, 1, 2, 3, 1, 2, 3, 1, 2, 3, 1, 2, 3, 2, 1, 2, 3, 1, 2, 3, 1, 2, 3, 2, 3, 1, 2, 3, 1, 2, 3, 2, 1, 2, 3, 1, 2, 3, 2, 3, 1, 2, 3, 1, 2, 3, 1, 2, 3, 1, 2, 3, 1, 2, 3, 1, 2, 3, 1, 2, 3, 1, 2, 3, 1, 2, 3, 1, 2, 3, 1, 3, 3, 1, 3, 1, 2, 3, 1, 2, 3, 1, 2, 3, 1, 2, 3, 1, 3, 1, 2, 3, 1, 2, 3, 2, 1, 2, 3, 1, 2, 3, 1, 2, 3, 1, 2, 3, 1, 2, 3, 1, 2, 3, 1, 2, 3, 1, 2, 3, 1, 3, 3, 1, 2, 3, 1, 2, 3, 1, 1, 2, 3, 1, 1, 2, 3, 1, 2, 3, 1, 2, 3, 1, 2, 3, 1, 2, 3, 1, 2, 3, 3, 1, 2, 3, 1, 2, 3, 1, 2, 3, 1, 2, 3, 1, 2, 3, 1, 2, 3, 1, 2, 3, 1, 2, 3, 1, 2, 3, 3, 1, 2, 3, 1, 2, 3, 1, 2, 3, 1, 2, 3, 1, 2, 3, 1, 1, 2, 3, 1, 2, 3, 1, 2, 3, 1, 2, 3, 1, 2, 3, 1, 2, 3, 1, 2, 3, 1, 2, 3, 1, 2, 1, 2, 3, 2, 1, 2, 3, 1, 2, 3, 1, 2, 3, 1, 2, 3, 1, 3, 1, 2, 3, 1, 2, 3, 2, 1, 2, 3, 1, 2, 3, 1, 2, 3, 2, 2, 1, 2, 3, 1, 2, 3, 1, 2, 3, 1, 2, 3, 1, 2, 3, 1, 2, 3, 1, 2, 3, 1, 2, 3, 2, 1, 2, 3, 3, 1, 2, 3, 1, 2, 3, 3, 1, 2, 3, 1, 3, 1, 2, 3, 1, 2, 3, 1, 2, 3, 1, 2, 3, 1, 2, 3, 1, 2, 3, 1, 1, 2, 3, 1, 2, 3, 1, 2, 3, 1, 2, 3, 1, 2, 3, 1, 2, 3, 3, 1, 2, 3, 1, 2, 3, 1, 2, 3, 1, 2, 3, 1, 2, 3, 3, 1, 2, 3, 1, 2, 3, 2, 3, 1, 2, 3, 3, 1, 2, 3, 1, 2, 3, 1, 2, 3, 1, 2, 3, 1, 2, 3, 1, 2, 3, 1, 2, 3, 1, 2, 3, 2, 1, 2, 3], \"Freq\": [0.9945489785428683, 0.9755469588455908, 0.004567536401560804, 0.9728852535324514, 0.022837682007804023, 0.0051466311512374414, 0.010293262302474883, 0.9830065498863513, 0.0050104161673526024, 0.010020832334705205, 0.9870519849684627, 0.9632861097399387, 0.020433341721756274, 0.014595244086968768, 0.031716442044204915, 0.9457266354999284, 0.023066503304876303, 0.7487930540794356, 0.15872171969264845, 0.09336571746626379, 0.024379357169914472, 0.00812645238997149, 0.9670478344066075, 0.02621534127216631, 0.9634137917521118, 0.0065538353180415775, 0.2721070445229904, 0.1499907123468191, 0.5787252264001161, 0.9800549326236129, 0.011598283226314945, 0.0057991416131574726, 0.9755053690760579, 0.01345524647001459, 0.01345524647001459, 0.06387722957878154, 0.8857642501591041, 0.05110178366302524, 0.05369777116173254, 0.7374493906211269, 0.20763138182536583, 0.9815324983839513, 0.6017249182689074, 0.29928294839259284, 0.09902845607666794, 0.02213539094385351, 0.004427078188770702, 0.9695301233407838, 0.06774228121985477, 0.02866019590070779, 0.9040989070496002, 0.004795453184908759, 0.004795453184908759, 0.9926588092761132, 0.011935285486806663, 0.990628695404953, 0.9760537545158747, 0.0540427565191333, 0.02521995304226221, 0.9223297112598751, 0.9808107107382252, 0.012415325452382598, 0.012415325452382598, 0.007429462265855306, 0.9881184813587557, 0.9776018980032315, 0.016293364966720524, 0.005431121655573508, 0.015781562976305143, 0.9784569045309189, 0.0052605209921017144, 0.0074199607090244205, 0.9497549707551258, 0.04451976425414653, 0.0034799707655853583, 0.0034799707655853583, 0.9952716389574126, 0.14564240851183766, 0.19495440509458586, 0.6594046054669815, 0.9903435602264148, 0.01623514033158057, 0.984242981159117, 0.9882057040171924, 0.006137923627435978, 0.006137923627435978, 0.029589921471911137, 0.011096220551966676, 0.9579737076531231, 0.9823509960942919, 0.013456862960195779, 0.07669138121193059, 0.08230294569085234, 0.8417346718382626, 0.014420340443192807, 0.9733729799155145, 0.01201695036932734, 0.017851683132217733, 0.9758920112279028, 0.005950561044072578, 0.9850282561076633, 0.00659744388456443, 0.9896165826846646, 0.02484749410353669, 0.9628403965120468, 0.012423747051768345, 0.37803806110186655, 0.5040507481358221, 0.11869582133520971, 0.9928208801257171, 0.27751656375950967, 0.010406871140981612, 0.7111361946337434, 0.013337235903183683, 0.003334308975795921, 0.9836211478597967, 0.005878262030115667, 0.005878262030115667, 0.9934262830895478, 0.9761808721553311, 0.0069069401331745125, 0.01611619364407386, 0.011694081276481938, 0.011694081276481938, 0.9823028272244829, 0.009787771228327006, 0.983671008446864, 0.004893885614163503, 0.004954473364756049, 0.9809857262216978, 0.014863420094268148, 0.9783474632486953, 0.009983137380088727, 0.009983137380088727, 0.12244520897361658, 0.8178712035289004, 0.05965279411535167, 0.9773734075947882, 0.019547468151895765, 0.9917529597769286, 0.004722633141794897, 0.004722633141794897, 0.9873260849651274, 0.008975691681501159, 0.008975691681501159, 0.020148437999098812, 0.9738411699564427, 0.006716145999699604, 0.984882808618266, 0.01059013772707813, 0.012322903000352001, 0.9858322400281601, 0.0061614515001760005, 0.9788244416479298, 0.009063189274517868, 0.009063189274517868, 0.9813111316814891, 0.014646434801216255, 0.0022573606143705396, 0.0022573606143705396, 0.9954960309374079, 0.003292016552522322, 0.9941889988617413, 0.003292016552522322, 0.9919935647526631, 0.006702659221301778, 0.006702659221301778, 0.015119882096114609, 0.9827923362474495, 0.007559941048057304, 0.1513014650762335, 0.7476072392002125, 0.10123848030836212, 0.017738336940334557, 0.9152981861212631, 0.06917951406730477, 0.006264101562373069, 0.989728046854945, 0.006264101562373069, 0.02161606458999478, 0.012969638753996869, 0.9640764807137673, 0.9899796817181161, 0.9889830914620062, 0.013364636371108192, 0.9946941825219098, 0.01396045093007841, 0.9911920160355671, 0.8641453194630339, 0.0451643895189739, 0.0903287790379478, 0.0039766429966194665, 0.019883214983097332, 0.9782541771683888, 0.9303005861824312, 0.025348789814235183, 0.04309294268419981, 0.9874651785586508, 0.014738286247144043, 0.24102324766549557, 0.06352550713664225, 0.6950437839656152, 0.014909407334518475, 0.9840208840782193, 0.0074547036672592375, 0.7370043750795353, 0.044717119386848206, 0.21861702811348013, 0.09556613102693846, 0.0874673063636386, 0.816361526060627, 0.016592177899133795, 0.3467765180918963, 0.6371396313267378, 0.9860926096920783, 0.8586878837163548, 0.0907064665897558, 0.050392481438753224, 0.01341261398843603, 0.12607857149129867, 0.8637723408552803, 0.029199403107465487, 0.15458507527481727, 0.8175832870090336, 0.9774571310640635, 0.007819657048512507, 0.015639314097025014, 0.9846508901059714, 0.9150050268684096, 0.017264245789969993, 0.06905698315987997, 0.12123845747855083, 0.7466514759349776, 0.13232734078451583, 0.9858365761218482, 0.00590321303066975, 0.00590321303066975, 0.016040330454957473, 0.9784601577524059, 0.6827522918339888, 0.2830505732477591, 0.03345143138382608, 0.24601674809615712, 0.7214024944173028, 0.03144574975665166, 0.9881325597968119, 0.8738476771946786, 0.11250134766278795, 0.010465241643050042, 0.0075421213247692945, 0.0075421213247692945, 0.9804757722200083, 0.9800983655425002, 0.015234689619831609, 0.7308525634038358, 0.23237981011028055, 0.03612121400677936, 0.5530470086676127, 0.12923835360443162, 0.31785649129738586, 0.9817243177255186, 0.01392516762731232, 0.00696258381365616, 0.03371649160610003, 0.8169765273785776, 0.15042742408875398, 0.01223290332209885, 0.9786322657679078, 0.006116451661049425, 0.9647604132712159, 0.01731621254589362, 0.01731621254589362, 0.005393788376751634, 0.9870632729455491, 0.005393788376751634, 0.0388362027582484, 0.9450142671173778, 0.01726053455922151, 0.0056086028119961915, 0.0056086028119961915, 0.9871140949113297, 0.034363286182762756, 0.01321664853183183, 0.9515986942918918, 0.978468724117458, 0.994497055398151, 0.9854988783841676, 0.9892120275985898, 0.010094000281618264, 0.32422077501984675, 0.044500890688998575, 0.6309590572690155, 0.004891456482559569, 0.009782912965119139, 0.9831827529944734, 0.31149146016520546, 0.1953700854393073, 0.4931030888834348, 0.19327430410833418, 0.19452662141357177, 0.6119657231594339, 0.02218989429603942, 0.9763553490257345, 0.9788575810646916, 0.01075667671499661, 0.01075667671499661, 0.9471827363680897, 0.015919037586018314, 0.039797593965045786, 0.9881126595016779, 0.806165667217191, 0.14868761585562024, 0.04414163595713726, 0.03693356417726922, 0.9561689392559699, 0.004103729353029914, 0.7681935923301543, 0.2202002997599196, 0.011853432285213062, 0.018728973732466188, 0.009364486866233094, 0.9692243906551252, 0.06953569765831154, 0.9099242722144767, 0.02185407640689791, 0.7965471470930023, 0.10645795994323538, 0.09664268704066759, 0.9603254515891687, 0.026295877644829373, 0.013673856375311273, 0.8590569795197673, 0.12313632927349111, 0.017383952368022274, 0.9756597701671954, 0.014347937796576402, 0.9842489829223892, 0.08775697072817876, 0.32497503222778695, 0.5868747417446954, 0.9879831026466901, 0.010510458538794575, 0.010510458538794575, 0.9934164899423972, 0.934991663817561, 0.05262617244751751, 0.012279440237754085, 0.9874858355016543, 0.967367924461832, 0.02737833748476883, 0.004563056247461472, 0.16146227867399146, 0.05907156536853346, 0.7797446628646417, 0.23480445179070422, 0.7319421531682642, 0.0340061619834813, 0.008306888430042967, 0.9885197231751132, 0.008306888430042967, 0.03156748296583039, 0.026710947124933406, 0.9397396852135662, 0.017330534610467005, 0.8665267305233503, 0.11553689740311336, 0.9945819419103868, 0.9461872740603249, 0.03409683870487657, 0.02131052419054786, 0.4188721611763719, 0.23848829052484943, 0.3434231383557832, 0.5271784565681853, 0.16139554352154337, 0.31151454251756405, 0.01030330251712215, 0.9169939240238713, 0.07212311761985504, 0.3165486695250996, 0.01018933485595814, 0.6731753894836345, 0.3069450859520753, 0.24530157721181514, 0.447905127727395, 0.037575972803830404, 0.008350216178628979, 0.956099752453018, 0.8831789388410175, 0.033850063858018094, 0.08308652037877168, 0.3430778349847561, 0.5357088119796364, 0.12124246790948819, 0.9888896728808658, 0.012020435072323272, 0.01803065260848491, 0.9706501320901042, 0.02371848931700833, 0.8840527836339468, 0.09271773096648711, 0.9419088514838222, 0.01672027547012702, 0.040871784482532716, 0.005179047890479235, 0.005179047890479235, 0.9891981470815338, 0.27999479618540546, 0.21925662541755972, 0.5008856324756427, 0.9771394647805282, 0.005231400262358032, 0.005231400262358032, 0.9887346495856679, 0.04961820845522295, 0.21607929488564834, 0.7344409472727009, 0.4118361802144449, 0.5313633474605913, 0.05680499037440619, 0.6020175359909986, 0.2022311334494034, 0.19521733691358595, 0.9693132159463081, 0.024539575087248307, 0.006134893771812077, 0.062116284326163035, 0.920873915135367, 0.017081978189694834, 0.5011832994494468, 0.33115486215842665, 0.1682480348062974, 0.23614966860277176, 0.6176972736593163, 0.14637376153064366, 0.006943109368874802, 0.9859215303802219, 0.026927868304990527, 0.07001245759297536, 0.9047763750476817, 0.9860776556572096, 0.030918114195308464, 0.9430024829569081, 0.027053349920894906, 0.007776364944853226, 0.9798219830515065, 0.007776364944853226, 0.05422354110726373, 0.9308374556746941, 0.013555885276815933, 0.9735986427426216, 0.004819795261102087, 0.024098976305510438, 0.0037263092530908076, 0.9949245705752456, 0.012142579033533918, 0.9835489017162474, 0.006071289516766959, 0.016576310045577535, 0.005525436681859178, 0.9780022926890746, 0.9917860437553858, 0.0597796718670093, 0.48255879699874976, 0.4573505016331434, 0.025743403535091507, 0.8945832728444298, 0.08044813604716096, 0.9828691267603906, 0.013463960640553297, 0.013463960640553297, 0.9741120139839335, 0.9939017597186541, 0.7969519080987106, 0.10219736233265819, 0.10125977185254206, 0.834969281031435, 0.1596264801971861, 0.00409298667172272, 0.0871905059944151, 0.8855285765057782, 0.027247033123254716, 0.0073889767580021335, 0.9901228855722859, 0.0073889767580021335, 0.6791652330352697, 0.16505910903198304, 0.15597328651646103, 0.6221462633352004, 0.17655502067620552, 0.201777166487092, 0.06756522004799677, 0.8795763191702851, 0.052823717492070196, 0.005258777927481473, 0.010517555854962946, 0.988650250366517, 0.9812849569015352, 0.15899702184664263, 0.7207326929393496, 0.11944953925534574, 0.9945022143061544, 0.0037070206601696465, 0.0037070206601696465, 0.9934815369254653, 0.36216814030310307, 0.09037087810965898, 0.5477022915736908, 0.9777671836489309, 0.0035459535935265696, 0.0035459535935265696, 0.9964129597809661, 0.012085026508552822, 0.984929660447055, 0.20757615043449504, 0.1264917166710204, 0.6665140455357614, 0.013136745096008547, 0.006568372548004273, 0.9786875096526367, 0.2515944347431916, 0.2811148484197261, 0.46695927088336364, 0.14531671223550438, 0.7855232066996146, 0.06910165337072935, 0.010496336768201804, 0.010496336768201804, 0.9761593194427679, 0.9799283751897477, 0.01673048445445911, 0.004780138415559745, 0.9915501644297268, 0.9940049568979427, 0.0059879816680598955, 0.0059879816680598955, 0.22680685441845472, 0.7452225216606368, 0.029160881282372746, 0.12775758181975644, 0.5787973924182009, 0.2932869704383974, 0.38030087600936446, 0.6116505755817279, 0.007394739255737642, 0.1886741481996263, 0.27677406037548485, 0.5348366349791059, 0.011130705304645421, 0.9850674194611198, 0.005565352652322711, 0.9928322876304426, 0.22255114018048017, 0.4029293474043853, 0.3744753203493468, 0.9827053254425836, 0.00877415469145164, 0.00877415469145164, 0.9932752440388698, 0.005983585807463071, 0.005983585807463071, 0.016323867525018517, 0.008161933762509259, 0.9753510846198563, 0.9630209800937904, 0.02645662033224699, 0.010582648132898796, 0.9843013369151326, 0.024713103657553418, 0.09143848353294765, 0.882257800574657, 0.023870475411785372, 0.16275324144399117, 0.8137662072199559, 0.9938429843098873, 0.9874475116597278, 0.7001226712620753, 0.15443079966264014, 0.14515403784544975, 0.9897803330349471, 0.01380472354653476, 0.02760944709306952, 0.9580478141295122, 0.8690216477420591, 0.03297101102544398, 0.09891303307633194, 0.005669444980676168, 0.005669444980676168, 0.9921528716183294, 0.13601267267170566, 0.7022049612353176, 0.16289889866494983, 0.7074054590508743, 0.12648166373860903, 0.16620987863086445, 0.26086425507375843, 0.5818495689340472, 0.1569261534428078, 0.9282206210264501, 0.015656733366711206, 0.05591690488111145, 0.2657541414826575, 0.2055292820819114, 0.5286404325176605, 0.9944010386058749, 0.977432395172403, 0.01585025505684978, 0.00528341835228326], \"Term\": [\"activista\", \"afandor\", \"airbender\", \"airbender\", \"airbender\", \"alexander\", \"alexander\", \"alexander\", \"algorithm\", \"algorithm\", \"algorithm\", \"allow\", \"allow\", \"allow\", \"amazing\", \"amazing\", \"amazing\", \"america\", \"america\", \"america\", \"anymore\", \"anymore\", \"anymore\", \"armys\", \"armys\", \"armys\", \"arrest\", \"arrest\", \"arrest\", \"autonomous\", \"autonomous\", \"autonomous\", \"be\", \"be\", \"be\", \"beat\", \"beat\", \"beat\", \"believe\", \"believe\", \"believe\", \"birthplace\", \"black\", \"black\", \"black\", \"boat\", \"boat\", \"boat\", \"body\", \"body\", \"body\", \"boycott\", \"boycott\", \"boycott\", \"brain\", \"brain\", \"branco\", \"brutality\", \"brutality\", \"brutality\", \"bully\", \"bully\", \"bully\", \"bullying\", \"bullying\", \"capitol\", \"capitol\", \"capitol\", \"career\", \"career\", \"career\", \"catch\", \"catch\", \"catch\", \"chalk\", \"chalk\", \"chalk\", \"change\", \"change\", \"change\", \"charlotte\", \"charlotte\", \"chica\", \"chill\", \"chill\", \"chill\", \"civil\", \"civil\", \"civil\", \"classmate\", \"classmate\", \"color\", \"color\", \"color\", \"condemn\", \"condemn\", \"condemn\", \"condition\", \"condition\", \"condition\", \"consecutive\", \"constant\", \"constant\", \"conversation\", \"conversation\", \"conversation\", \"cop\", \"cop\", \"cop\", \"corden\", \"country\", \"country\", \"country\", \"couple\", \"couple\", \"couple\", \"cracker\", \"cracker\", \"cracker\", \"create\", \"create\", \"create\", \"crib\", \"crib\", \"crib\", \"cry\", \"cry\", \"cry\", \"dancing\", \"dancing\", \"dancing\", \"dare\", \"dare\", \"dare\", \"death\", \"death\", \"death\", \"debase\", \"debase\", \"definitely\", \"definitely\", \"definitely\", \"deranged\", \"deranged\", \"deranged\", \"derrick\", \"derrick\", \"derrick\", \"descend\", \"descend\", \"design\", \"design\", \"design\", \"detroit\", \"detroit\", \"detroit\", \"didntjust\", \"didntjust\", \"disappear\", \"disappear\", \"disappear\", \"discriminationwe\", \"discriminationwe\", \"discriminationwe\", \"dog\", \"dog\", \"dog\", \"dominique\", \"dominique\", \"dominique\", \"donate\", \"donate\", \"donate\", \"donation\", \"donation\", \"donation\", \"drain\", \"drain\", \"drain\", \"draw\", \"draw\", \"draw\", \"drivers\", \"drown\", \"drown\", \"electronic\", \"estado\", \"estado\", \"face\", \"face\", \"face\", \"facebook\", \"facebook\", \"facebook\", \"fact\", \"fact\", \"fact\", \"fearful\", \"fearful\", \"feel\", \"feel\", \"feel\", \"fells\", \"fells\", \"fells\", \"fight\", \"fight\", \"fight\", \"find\", \"find\", \"find\", \"floyd\", \"floyd\", \"floyd\", \"following\", \"forget\", \"forget\", \"forget\", \"free\", \"free\", \"free\", \"fuck\", \"fuck\", \"fuck\", \"future\", \"future\", \"future\", \"gettin\", \"girl\", \"girl\", \"girl\", \"go\", \"go\", \"go\", \"grab\", \"grab\", \"grab\", \"hablando\", \"hablando\", \"happen\", \"happen\", \"happen\", \"hate\", \"hate\", \"hate\", \"hateand\", \"head\", \"head\", \"head\", \"header\", \"header\", \"header\", \"headphonesthen\", \"headphonesthen\", \"hear\", \"hear\", \"hear\", \"help\", \"help\", \"help\", \"hill\", \"hill\", \"hill\", \"hope\", \"hope\", \"hope\", \"horrific\", \"horrific\", \"horrific\", \"house\", \"house\", \"house\", \"husband\", \"husband\", \"husband\", \"ignore\", \"ignore\", \"ignore\", \"illustration\", \"illustration\", \"illustration\", \"image\", \"image\", \"image\", \"influe\", \"inone\", \"irate\", \"jog\", \"jog\", \"justice\", \"justice\", \"justice\", \"karen\", \"karen\", \"karen\", \"kill\", \"kill\", \"kill\", \"know\", \"know\", \"know\", \"laface\", \"laface\", \"laugh\", \"laugh\", \"laugh\", \"leader\", \"leader\", \"leader\", \"learnt\", \"leave\", \"leave\", \"leave\", \"letter\", \"letter\", \"letter\", \"life\", \"life\", \"life\", \"lisa\", \"lisa\", \"lisa\", \"listen\", \"listen\", \"listen\", \"live\", \"live\", \"live\", \"look\", \"look\", \"look\", \"love\", \"love\", \"love\", \"maid\", \"maid\", \"manis\", \"march\", \"march\", \"march\", \"masse\", \"masse\", \"masse\", \"masterpiece\", \"matter\", \"matter\", \"matter\", \"mattuhh\", \"medic\", \"medic\", \"medic\", \"message\", \"message\", \"message\", \"million\", \"million\", \"million\", \"milton\", \"milton\", \"milton\", \"minneapolis\", \"minneapolis\", \"minneapolis\", \"minute\", \"minute\", \"minute\", \"monthfor\", \"mother\", \"mother\", \"mother\", \"movement\", \"movement\", \"movement\", \"murder\", \"murder\", \"murder\", \"music\", \"music\", \"music\", \"need\", \"need\", \"need\", \"not\", \"not\", \"not\", \"okay\", \"okay\", \"okay\", \"peace\", \"peace\", \"peace\", \"people\", \"people\", \"people\", \"perdu\", \"person\", \"person\", \"person\", \"petition\", \"petition\", \"petition\", \"photo\", \"photo\", \"photo\", \"plead\", \"plead\", \"plead\", \"police\", \"police\", \"police\", \"prevail\", \"product\", \"product\", \"product\", \"protest\", \"protest\", \"protest\", \"protester\", \"protester\", \"protester\", \"protestor\", \"protestor\", \"protestor\", \"purpose\", \"purpose\", \"purpose\", \"racial\", \"racial\", \"racial\", \"racism\", \"racism\", \"racism\", \"racist\", \"racist\", \"racist\", \"radar\", \"radar\", \"read\", \"read\", \"read\", \"reblogthe\", \"reminder\", \"reminder\", \"reminder\", \"remmie\", \"remmie\", \"remmie\", \"report\", \"report\", \"report\", \"rest\", \"rest\", \"rest\", \"retain\", \"retain\", \"retweete\", \"retweete\", \"retweete\", \"rice\", \"rice\", \"rice\", \"ridiculousi\", \"right\", \"right\", \"right\", \"riot\", \"riot\", \"riot\", \"river\", \"river\", \"river\", \"rockaway\", \"rowthe\", \"say\", \"say\", \"say\", \"security\", \"security\", \"security\", \"see\", \"see\", \"see\", \"shelby\", \"shelby\", \"shelby\", \"shoot\", \"shoot\", \"shoot\", \"show\", \"show\", \"show\", \"sign\", \"sign\", \"sign\", \"skincare\", \"skincare\", \"skincare\", \"sonic\", \"stand\", \"stand\", \"stand\", \"stateslet\", \"stencil\", \"stencil\", \"stencil\", \"stop\", \"stop\", \"stop\", \"stopdont\", \"stoppeddozen\", \"stoppeddozen\", \"stoppeddozen\", \"stoppedthis\", \"stoppedthis\", \"street\", \"street\", \"street\", \"suicide\", \"suicide\", \"suicide\", \"support\", \"support\", \"support\", \"take\", \"take\", \"take\", \"tamir\", \"tamir\", \"tamir\", \"target\", \"target\", \"target\", \"techno\", \"teenage\", \"teenage\", \"teenage\", \"tell\", \"tell\", \"tell\", \"thank\", \"thank\", \"thank\", \"think\", \"think\", \"think\", \"time\", \"time\", \"time\", \"timeline\", \"timeline\", \"timeline\", \"tlsthis\", \"today\", \"today\", \"today\", \"toddler\", \"toddler\", \"toddler\", \"tone\", \"tone\", \"tone\", \"traffic\", \"traffic\", \"traffic\", \"train\", \"train\", \"train\", \"tuitear\", \"unarmed\", \"unarmed\", \"unarmed\", \"understand\", \"understand\", \"understand\", \"understandthis\", \"ventre\", \"video\", \"video\", \"video\", \"violacin\", \"viral\", \"viral\", \"viral\", \"voice\", \"voice\", \"voice\", \"warrant\", \"warrant\", \"warrant\", \"week\", \"week\", \"week\", \"white\", \"white\", \"white\", \"woman\", \"woman\", \"woman\", \"word\", \"word\", \"word\", \"year\", \"year\", \"year\", \"youim\", \"zone\", \"zone\", \"zone\"]}, \"R\": 30, \"lambda.step\": 0.01, \"plot.opts\": {\"xlab\": \"PC1\", \"ylab\": \"PC2\"}, \"topic.order\": [2, 1, 3]};\n",
       "\n",
       "function LDAvis_load_lib(url, callback){\n",
       "  var s = document.createElement('script');\n",
       "  s.src = url;\n",
       "  s.async = true;\n",
       "  s.onreadystatechange = s.onload = callback;\n",
       "  s.onerror = function(){console.warn(\"failed to load library \" + url);};\n",
       "  document.getElementsByTagName(\"head\")[0].appendChild(s);\n",
       "}\n",
       "\n",
       "if(typeof(LDAvis) !== \"undefined\"){\n",
       "   // already loaded: just create the visualization\n",
       "   !function(LDAvis){\n",
       "       new LDAvis(\"#\" + \"ldavis_el3681397336249873443484642449\", ldavis_el3681397336249873443484642449_data);\n",
       "   }(LDAvis);\n",
       "}else if(typeof define === \"function\" && define.amd){\n",
       "   // require.js is available: use it to load d3/LDAvis\n",
       "   require.config({paths: {d3: \"https://d3js.org/d3.v5\"}});\n",
       "   require([\"d3\"], function(d3){\n",
       "      window.d3 = d3;\n",
       "      LDAvis_load_lib(\"https://cdn.jsdelivr.net/gh/bmabey/pyLDAvis@3.2.2/pyLDAvis/js/ldavis.v3.0.0.js\", function(){\n",
       "        new LDAvis(\"#\" + \"ldavis_el3681397336249873443484642449\", ldavis_el3681397336249873443484642449_data);\n",
       "      });\n",
       "    });\n",
       "}else{\n",
       "    // require.js not available: dynamically load d3 & LDAvis\n",
       "    LDAvis_load_lib(\"https://d3js.org/d3.v5.js\", function(){\n",
       "         LDAvis_load_lib(\"https://cdn.jsdelivr.net/gh/bmabey/pyLDAvis@3.2.2/pyLDAvis/js/ldavis.v3.0.0.js\", function(){\n",
       "                 new LDAvis(\"#\" + \"ldavis_el3681397336249873443484642449\", ldavis_el3681397336249873443484642449_data);\n",
       "            })\n",
       "         });\n",
       "}\n",
       "</script>"
      ],
      "text/plain": [
       "PreparedData(topic_coordinates=              x         y  topics  cluster       Freq\n",
       "topic                                                \n",
       "1     -0.092842  0.130001       1        1  36.317689\n",
       "0     -0.082018 -0.135479       2        1  32.319911\n",
       "2      0.174861  0.005478       3        1  31.362400, topic_info=         Term         Freq        Total Category  logprob  loglift\n",
       "94    protest  4373.000000  4373.000000  Default  30.0000  30.0000\n",
       "103    matter  2280.000000  2280.000000  Default  29.0000  29.0000\n",
       "99      black  7280.000000  7280.000000  Default  28.0000  28.0000\n",
       "268      life  2193.000000  2193.000000  Default  27.0000  27.0000\n",
       "368      look   950.000000   950.000000  Default  26.0000  26.0000\n",
       "..        ...          ...          ...      ...      ...      ...\n",
       "336    murder   442.307797  1418.874369   Topic3  -5.5134  -0.0061\n",
       "541      feel   372.385300   535.218081   Topic3  -5.6855   0.7968\n",
       "73   movement   395.627697  1153.096445   Topic3  -5.6250   0.0898\n",
       "2       white   409.695718  2466.760721   Topic3  -5.5900  -0.6357\n",
       "243    people   410.707721  3389.901303   Topic3  -5.5876  -0.9511\n",
       "\n",
       "[285 rows x 6 columns], token_table=      Topic      Freq       Term\n",
       "term                            \n",
       "1629      3  0.994549  activista\n",
       "377       2  0.975547    afandor\n",
       "1429      1  0.004568  airbender\n",
       "1429      2  0.972885  airbender\n",
       "1429      3  0.022838  airbender\n",
       "...     ...       ...        ...\n",
       "257       3  0.528640       year\n",
       "4225      2  0.994401      youim\n",
       "1790      1  0.977432       zone\n",
       "1790      2  0.015850       zone\n",
       "1790      3  0.005283       zone\n",
       "\n",
       "[608 rows x 3 columns], R=30, lambda_step=0.01, plot_opts={'xlab': 'PC1', 'ylab': 'PC2'}, topic_order=[2, 1, 3])"
      ]
     },
     "execution_count": 42,
     "metadata": {
      "tags": []
     },
     "output_type": "execute_result"
    }
   ],
   "source": [
    "pyLDAvis.enable_notebook()\n",
    "pyLDAvis.gensim.prepare(base_model, corpus, id2word)"
   ]
  },
  {
   "cell_type": "markdown",
   "metadata": {
    "id": "QNuvTat6yOc0"
   },
   "source": [
    "### Blue Lives Matter"
   ]
  },
  {
   "cell_type": "code",
   "execution_count": null,
   "metadata": {
    "id": "3juROIHJyOc7"
   },
   "outputs": [],
   "source": [
    "blue_lives_matter_df.dropna(inplace=True)"
   ]
  },
  {
   "cell_type": "code",
   "execution_count": null,
   "metadata": {
    "id": "AvWTF8qpyOc7"
   },
   "outputs": [],
   "source": [
    "blue_lives_matter_df.reset_index(drop=True,inplace=True)"
   ]
  },
  {
   "cell_type": "code",
   "execution_count": null,
   "metadata": {
    "id": "9dC3IKCZyOc7"
   },
   "outputs": [],
   "source": [
    "def give_emoji_free_text(text):\n",
    "    \"\"\"\n",
    "    Removes all emojis from tweets\n",
    "    \"\"\"\n",
    "    emoji_pattern = re.compile(\"[\"\n",
    "                       u\"\\U0001F600-\\U0001F64F\"  # emoticons\n",
    "                       u\"\\U0001F300-\\U0001F5FF\"  # symbols & pictographs\n",
    "                       u\"\\U0001F680-\\U0001F6FF\"  # transport & map symbols\n",
    "                       u\"\\U0001F1E0-\\U0001F1FF\"  # flags (iOS)\n",
    "                       u\"\\U00002702-\\U000027B0\"\n",
    "                       u\"\\U000024C2-\\U0001F251\"\n",
    "                       u\"\\U0001f926-\\U0001f937\"\n",
    "                       u\"\\u200d\"\n",
    "                       u\"\\u2640-\\u2642\" \n",
    "                       \"]+\", flags=re.UNICODE)\n",
    "    return emoji_pattern.sub(r'', text)\n",
    "\n",
    "def url_free_text(text):\n",
    "    '''\n",
    "    Cleans urls from text\n",
    "    '''\n",
    "    text = re.sub(r'http\\S+', '', text)\n",
    "    return text\n",
    "\n",
    "def tokenize(text):\n",
    "    # Removing url's\n",
    "    import string\n",
    "    pattern = r\"https?\\S+\"\n",
    "    \n",
    "    tokens = re.sub(pattern, \"\", text) # https://www.youtube.com/watch?v=O2onA4r5UaY\n",
    "    tokens = re.sub(r'@\\w+|#\\w+', '', tokens) # Remove @ ! $\n",
    "    tokens = re.sub('[^a-zA-Z 0-9]', '', tokens)\n",
    "    tokens = ' '.join(w for w in tokens.split() if len(w)>3)\n",
    "    tokens = tokens.translate(str.maketrans('', '', string.punctuation))\n",
    "    tokens = ' '.join(w for w in tokens.split() if not any(x.isdigit() for x in w))\n",
    "\n",
    "    tokens = tokens.lower() # Make text lowercase\n",
    "    \n",
    "    return tokens\n",
    "\n",
    "# Apply the function above and get tweets free of emoji's\n",
    "call_emoji_free = lambda x: give_emoji_free_text(x)\n",
    "\n",
    "# Apply `call_emoji_free` which calls the function to remove all emoji's\n",
    "blue_lives_matter_df['emoji_free_tweets'] = blue_lives_matter_df['text'].apply(call_emoji_free)\n",
    "\n",
    "blue_lives_matter_df['clean_tweets'] = blue_lives_matter_df['emoji_free_tweets'].apply(tokenize)\n",
    "\n",
    "#Create a new column with url free tweets\n",
    "blue_lives_matter_df['url_free_tweets'] = blue_lives_matter_df['clean_tweets'].apply(url_free_text)\n"
   ]
  },
  {
   "cell_type": "code",
   "execution_count": null,
   "metadata": {
    "id": "uG4X7TzXyOc8"
   },
   "outputs": [],
   "source": [
    "nlp = spacy.load('en_core_web_lg')"
   ]
  },
  {
   "cell_type": "code",
   "execution_count": null,
   "metadata": {
    "id": "OrmhD5J6yOc8"
   },
   "outputs": [],
   "source": [
    "# Tokenizer\n",
    "tokenizer = Tokenizer(nlp.vocab)\n",
    "\n",
    "# Custom stopwords\n",
    "custom_stopwords = ['hi','\\n','\\n\\n', '&amp;', ' ', '.', '-', 'got', \"it's\", 'it’s', \"i'm\", 'i’m', 'im', 'want', 'like', '$', '@']\n",
    "\n",
    "# Customize stop words by adding to the default list\n",
    "STOP_WORDS = nlp.Defaults.stop_words.union(custom_stopwords)\n",
    "\n",
    "# ALL_STOP_WORDS = spacy + gensim + wordcloud\n",
    "ALL_STOP_WORDS = STOP_WORDS.union(SW).union(stopwords)\n",
    "\n",
    "\n",
    "tokens = []\n",
    "\n",
    "for doc in tokenizer.pipe(blue_lives_matter_df['url_free_tweets'], batch_size=500):\n",
    "    doc_tokens = []    \n",
    "    for token in doc: \n",
    "        if token.text.lower() not in STOP_WORDS:\n",
    "            doc_tokens.append(token.text.lower())   \n",
    "    tokens.append(doc_tokens)\n",
    "\n",
    "# Makes tokens column\n",
    "blue_lives_matter_df['tokens'] = tokens"
   ]
  },
  {
   "cell_type": "code",
   "execution_count": null,
   "metadata": {
    "id": "EAqKee0cyOc8"
   },
   "outputs": [],
   "source": [
    "# Make tokens a string again\n",
    "blue_lives_matter_df['tokens_back_to_text'] = [' '.join(map(str, l)) for l in blue_lives_matter_df['tokens']]\n",
    "\n",
    "def get_lemmas(text):\n",
    "    '''Used to lemmatize the processed tweets'''\n",
    "    lemmas = []\n",
    "\n",
    "    if(text == ''):\n",
    "      return None\n",
    "\n",
    "    doc = nlp(text)\n",
    "    \n",
    "    for token in doc: \n",
    "        if ((token.is_stop == False) and (token.is_punct == False)) and (token.pos_ != 'PRON'):\n",
    "            lemmas.append(token.lemma_)\n",
    "    \n",
    "    return lemmas\n",
    "\n",
    "blue_lives_matter_df['lemmas'] = blue_lives_matter_df['tokens_back_to_text'].apply(get_lemmas)"
   ]
  },
  {
   "cell_type": "code",
   "execution_count": null,
   "metadata": {
    "id": "vbW4ogGAyOc8"
   },
   "outputs": [],
   "source": [
    "blue_lives_matter_df.dropna(inplace=True)"
   ]
  },
  {
   "cell_type": "code",
   "execution_count": null,
   "metadata": {
    "id": "_M3V3U9eyOc9"
   },
   "outputs": [],
   "source": [
    "# Make lemmas a string again\n",
    "blue_lives_matter_df['lemmas_back_to_text'] = [' '.join(map(str, l)) for l in blue_lives_matter_df['lemmas']]\n",
    "\n",
    "# Tokenizer function\n",
    "def split_string(text):\n",
    "  return [w for w in text.split() if len(w)>1]\n",
    "\n",
    "# Apply tokenizer\n",
    "blue_lives_matter_df['lemma_tokens'] = blue_lives_matter_df['lemmas_back_to_text'].apply(split_string)"
   ]
  },
  {
   "cell_type": "code",
   "execution_count": null,
   "metadata": {
    "id": "x04y05xcyOc9"
   },
   "outputs": [],
   "source": [
    "id2word = Dictionary(blue_lives_matter_df['lemma_tokens'])"
   ]
  },
  {
   "cell_type": "code",
   "execution_count": null,
   "metadata": {
    "id": "GshtNTUWyOc9"
   },
   "outputs": [],
   "source": [
    "# Filtering Extremes\n",
    "id2word.filter_extremes(no_below=2, no_above=.99)"
   ]
  },
  {
   "cell_type": "code",
   "execution_count": null,
   "metadata": {
    "id": "cBx5xSJpyOc9"
   },
   "outputs": [],
   "source": [
    "# Creating a corpus object \n",
    "corpus = [id2word.doc2bow(d) for d in blue_lives_matter_df['lemma_tokens']]"
   ]
  },
  {
   "cell_type": "code",
   "execution_count": null,
   "metadata": {
    "id": "MGIXzUvRyOc9"
   },
   "outputs": [],
   "source": [
    "# Instantiating a Base LDA model \n",
    "base_model = LdaMulticore(corpus=corpus, num_topics=3, id2word=id2word, workers=12, passes=5)"
   ]
  },
  {
   "cell_type": "code",
   "execution_count": null,
   "metadata": {
    "id": "6Y13ZD9TyOc9"
   },
   "outputs": [],
   "source": [
    "# Filtering for words \n",
    "words = [re.findall(r'\"([^\"]*)\"',t[1]) for t in base_model.print_topics()]"
   ]
  },
  {
   "cell_type": "code",
   "execution_count": null,
   "metadata": {
    "id": "7-J1qZkTyOc-"
   },
   "outputs": [],
   "source": [
    "# Create Topics\n",
    "topics = [' '.join(t[0:10]) for t in words]"
   ]
  },
  {
   "cell_type": "code",
   "execution_count": null,
   "metadata": {
    "colab": {
     "base_uri": "https://localhost:8080/"
    },
    "id": "uaGX9GnhyOc-",
    "outputId": "ee1d123a-8109-4c54-8314-be53cf235a41"
   },
   "outputs": [
    {
     "name": "stdout",
     "output_type": "stream",
     "text": [
      "------ Topic 0 ------\n",
      "matter police not live life blue people kill black thank\n",
      "\n",
      "------ Topic 1 ------\n",
      "kill shoot police officer cop support rest peace black white\n",
      "\n",
      "------ Topic 2 ------\n",
      "officer police hero not shoot family blue prayer story respect\n",
      "\n"
     ]
    }
   ],
   "source": [
    "# Getting the topics\n",
    "for id, t in enumerate(topics): \n",
    "    print(f\"------ Topic {id} ------\")\n",
    "    print(t, end=\"\\n\\n\")"
   ]
  },
  {
   "cell_type": "code",
   "execution_count": null,
   "metadata": {
    "colab": {
     "base_uri": "https://localhost:8080/"
    },
    "id": "XxgnfZ72yOc-",
    "outputId": "fd2a7baf-fac0-4435-f3e6-9bea6fa7d32f"
   },
   "outputs": [
    {
     "name": "stdout",
     "output_type": "stream",
     "text": [
      "\n",
      "Perplexity:  -7.284783616352217\n",
      "\n",
      "Coherence Score:  0.2099047239485515\n"
     ]
    }
   ],
   "source": [
    "# Compute Perplexity\n",
    "# a measure of how good the model is. lower the better\n",
    "base_perplexity = base_model.log_perplexity(corpus)\n",
    "print('\\nPerplexity: ', base_perplexity) \n",
    "\n",
    "# Compute Coherence Score\n",
    "coherence_model = CoherenceModel(model=base_model, texts=blue_lives_matter_df['lemma_tokens'], \n",
    "                                   dictionary=id2word, coherence='c_v')\n",
    "coherence_lda_model_base = coherence_model.get_coherence()\n",
    "print('\\nCoherence Score: ', coherence_lda_model_base)"
   ]
  },
  {
   "cell_type": "markdown",
   "metadata": {
    "id": "QU8W2Jjivkju"
   },
   "source": [
    "### Blue Lives Matter Topics"
   ]
  },
  {
   "cell_type": "code",
   "execution_count": null,
   "metadata": {
    "colab": {
     "base_uri": "https://localhost:8080/"
    },
    "id": "5_q1MRt6yOdA",
    "outputId": "429bffd8-f226-47e3-c6c6-1a836e7d861f"
   },
   "outputs": [
    {
     "data": {
      "text/html": [
       "\n",
       "<link rel=\"stylesheet\" type=\"text/css\" href=\"https://cdn.jsdelivr.net/gh/bmabey/pyLDAvis@3.2.2/pyLDAvis/js/ldavis.v1.0.0.css\">\n",
       "\n",
       "\n",
       "<div id=\"ldavis_el3681397338394204967673402863\"></div>\n",
       "<script type=\"text/javascript\">\n",
       "\n",
       "var ldavis_el3681397338394204967673402863_data = {\"mdsDat\": {\"x\": [0.024002834819826787, -0.13460893108408356, 0.11060609626425678], \"y\": [-0.13508400305226453, 0.04770798657733494, 0.08737601647492962], \"topics\": [1, 2, 3], \"cluster\": [1, 1, 1], \"Freq\": [34.7160003791641, 34.63259502824961, 30.65140459258629]}, \"tinfo\": {\"Term\": [\"officer\", \"cop\", \"live\", \"matter\", \"support\", \"drug\", \"kill\", \"blue\", \"family\", \"life\", \"black\", \"hero\", \"year\", \"shoot\", \"white\", \"respect\", \"prayer\", \"pray\", \"people\", \"peace\", \"houston\", \"dealer\", \"couple\", \"raid\", \"protect\", \"rest\", \"shit\", \"not\", \"arrest\", \"duty\", \"dealer\", \"raid\", \"drug\", \"games\", \"couple\", \"recognition\", \"breann\", \"drag\", \"quiet\", \"ansari\", \"leath\", \"unappreciateddoing\", \"bravely\", \"pretty\", \"kelvin\", \"victor\", \"thyne\", \"forgo\", \"katie\", \"host\", \"plumber\", \"unarmed\", \"conclude\", \"unsolvedover\", \"derosier\", \"blank\", \"enriquez\", \"abusersfbi\", \"tiffany\", \"houston\", \"cop\", \"anonymous\", \"year\", \"parkland\", \"let\", \"support\", \"division\", \"flood\", \"investigate\", \"supporter\", \"troop\", \"singh\", \"leave\", \"kpop\", \"white\", \"kill\", \"tell\", \"peace\", \"hate\", \"point\", \"duty\", \"shoot\", \"suspect\", \"rest\", \"black\", \"good\", \"video\", \"time\", \"line\", \"right\", \"police\", \"officer\", \"trump\", \"find\", \"people\", \"deputy\", \"thank\", \"not\", \"honor\", \"africa\", \"officerstwo\", \"carjacks\", \"holy\", \"evila\", \"shotme\", \"orlando\", \"scroll\", \"gunpoint\", \"carjacking\", \"debra\", \"normalise\", \"ghetto\", \"minor\", \"barber\", \"absurdity\", \"vile\", \"thoughts\", \"frame\", \"deface\", \"officersthey\", \"contest\", \"doss\", \"mere\", \"quick\", \"petrified\", \"clayton\", \"beco\", \"relentlessly\", \"publicly\", \"boston\", \"shit\", \"completely\", \"islamic\", \"media\", \"hatred\", \"repeat\", \"dude\", \"evil\", \"comply\", \"district\", \"pray\", \"respect\", \"brave\", \"family\", \"officer\", \"protect\", \"hero\", \"condolence\", \"boss\", \"prayer\", \"cops\", \"love\", \"need\", \"york\", \"will\", \"happen\", \"watch\", \"police\", \"hear\", \"story\", \"friend\", \"try\", \"president\", \"die\", \"not\", \"follow\", \"blue\", \"murder\", \"stand\", \"shoot\", \"service\", \"break\", \"go\", \"thank\", \"kill\", \"stop\", \"trump\", \"line\", \"enforcement\", \"specifically\", \"institution\", \"regular\", \"fascist\", \"antiguni\", \"misotis\", \"vermin\", \"enable\", \"helpless\", \"goon\", \"messagethink\", \"term\", \"antiblack\", \"reckless\", \"garden\", \"hose\", \"bucket\", \"incessant\", \"capturedfollow\", \"antiwhite\", \"willingly\", \"pursu\", \"dickerson\", \"slasher\", \"ohios\", \"leffondrement\", \"mccartney\", \"panola\", \"letat\", \"singhs\", \"create\", \"office\", \"basis\", \"effect\", \"dispensary\", \"reminder\", \"charm\", \"sheriffs\", \"live\", \"killer\", \"photo\", \"matter\", \"wear\", \"security\", \"maryland\", \"zone\", \"life\", \"arrest\", \"appreciate\", \"democrats\", \"block\", \"choose\", \"safe\", \"crime\", \"people\", \"blue\", \"bless\", \"twitter\", \"not\", \"woman\", \"county\", \"know\", \"attack\", \"thank\", \"baltimore\", \"city\", \"black\", \"thing\", \"police\", \"deputy\", \"enforcement\", \"go\", \"say\", \"stop\", \"kill\", \"line\", \"shoot\", \"murder\", \"rest\", \"peace\", \"hero\"], \"Freq\": [6779.0, 1714.0, 1415.0, 1793.0, 1428.0, 767.0, 3717.0, 2132.0, 1329.0, 1646.0, 1689.0, 1961.0, 656.0, 3887.0, 1363.0, 755.0, 954.0, 718.0, 1494.0, 1725.0, 424.0, 365.0, 384.0, 364.0, 731.0, 1859.0, 387.0, 2876.0, 524.0, 1006.0, 363.1611680591803, 361.6211378964531, 759.8992807049347, 68.02049861931138, 377.79056818722484, 48.075633335003374, 83.84894007467001, 98.86878208927567, 219.7171412310201, 75.94957188267003, 83.19953826032867, 31.300880372740554, 41.63407249419007, 214.0073208547867, 76.51061395270546, 44.20742665370407, 86.77883819216261, 53.427950306650196, 83.95130622851279, 64.82684082276607, 23.815303119661543, 218.48300581465432, 23.43843954310097, 22.272200713202807, 21.876780280857055, 36.34317269661635, 38.64710870849991, 22.247542179908134, 38.624834941446046, 410.7187757728553, 1642.8573747341504, 150.42091102980356, 617.772692426452, 36.31697804145589, 344.3588752551071, 1295.7562046513165, 148.52490351142535, 134.2140598030883, 149.02687791837258, 294.67271635489993, 107.48297074123884, 97.40501408160323, 338.7260120661169, 185.71461534064696, 1010.4911418114059, 2490.981503062859, 314.8879995251674, 1183.4146667978146, 473.1724745163354, 222.35244139344624, 725.7451169223156, 2279.809530765609, 653.6519059549504, 1205.7254820891976, 1027.6783006846779, 457.04059610960064, 641.5842534525191, 583.6432677605696, 866.3076208805925, 370.89971688299556, 2138.6426509912862, 1923.314829416021, 433.2861687440103, 336.01153867178874, 527.9128067616688, 422.96040792686557, 445.50342440677343, 450.10723703964277, 345.55739279004723, 167.7484241121663, 85.98076249780418, 95.35220810143639, 199.68705634511133, 85.86633760922541, 87.03043273677503, 91.31170420457806, 80.32631700158088, 103.60855618502843, 100.49627357628796, 84.08804400624666, 74.38329207704413, 85.40833659301015, 103.18896141489626, 46.68033519949974, 46.678858036188856, 144.26597905644343, 50.07710740344119, 35.10786099462972, 53.53955308233711, 36.20676749844766, 32.38358497324744, 92.69188722217754, 49.81813153372555, 129.61129306737598, 70.37350212344926, 89.09043243674309, 49.00835965055388, 34.492308452832276, 44.029163688911396, 241.746618709189, 369.7658512867882, 70.26535769112427, 100.14001595138384, 241.55756190285535, 144.11129895546046, 109.94332582448561, 110.75478086993328, 194.90436329873694, 137.3609339404135, 98.68150308338728, 633.8580519824668, 652.9142625913195, 321.13299257909995, 1057.955055106548, 4523.655598041263, 581.242580111485, 1391.264676660306, 184.37359571430798, 134.9654171942738, 718.1168942526261, 235.66368029241315, 478.4853925274883, 572.2892420659441, 243.06939333226399, 291.2733521458344, 393.9059153802963, 334.3240006529477, 3213.169365916065, 318.2417719817623, 714.0337334968921, 250.87492524159507, 313.1731121768761, 277.10713492236056, 355.78770609410736, 1196.2409344490973, 393.6349212294934, 905.2555186128558, 555.8155952635635, 437.8806049038449, 1077.6680105136752, 321.5204716081328, 338.372734459681, 376.6032081574974, 466.5903892599794, 584.6081409600278, 353.1291738887896, 339.4279315001552, 349.66501490142764, 336.20894142748057, 109.92987265819269, 112.66551949785931, 106.0451755266356, 121.85644549901674, 49.332873438257664, 51.3880237020021, 50.94712901395779, 52.03002442507252, 52.045290251899374, 55.310874283653696, 37.0291684176533, 120.65411378066563, 116.39384973907569, 34.47431023381911, 55.991206328380834, 58.40697784414323, 65.75806710761404, 34.80901559922277, 35.22748957685023, 53.7210804945468, 51.28320843717954, 26.91948243620145, 21.932319574897242, 21.856859788023268, 36.18784704536248, 27.984708531004923, 21.839517310707585, 27.58265654535869, 29.590303985019844, 91.54863431276743, 206.18183128686428, 199.04288498885484, 81.70606694986768, 58.714335456856766, 179.39624166911804, 132.998667005532, 178.87835082858115, 237.5096558401973, 1196.0105187732293, 276.4425924817853, 134.64940403864185, 1419.1253492524095, 305.29786002311965, 213.62632535444178, 190.89652752394446, 82.47646426012093, 1133.4454062917293, 400.12520973572174, 143.2728663948739, 101.48384607884539, 103.87658322730131, 109.91955610758438, 364.8236099724758, 341.3964666823258, 857.1892409942986, 1125.6395483583617, 407.23281506446943, 260.61858690554976, 1230.2554903083103, 457.71959468826594, 416.8134754455899, 375.05289679235915, 417.18970937398103, 597.1946631033014, 203.0030174499461, 343.4411002899544, 607.8700873755253, 270.633502918655, 1328.2096442130396, 410.96761983055035, 443.60032795142786, 379.8656387997581, 353.2631323809968, 390.2411716180922, 642.3107887776645, 408.7688427271086, 530.4139945973735, 343.0043900304112, 369.0440396777083, 351.9448906591301, 357.95872817752286], \"Total\": [6779.0, 1714.0, 1415.0, 1793.0, 1428.0, 767.0, 3717.0, 2132.0, 1329.0, 1646.0, 1689.0, 1961.0, 656.0, 3887.0, 1363.0, 755.0, 954.0, 718.0, 1494.0, 1725.0, 424.0, 365.0, 384.0, 364.0, 731.0, 1859.0, 387.0, 2876.0, 524.0, 1006.0, 365.8588240448528, 364.35503178091864, 767.7267335804754, 68.96457571417419, 384.1954833234346, 48.92332992760701, 85.45023057595056, 100.83082289654126, 224.19472913704547, 77.62550821592394, 85.04937943022864, 32.025940967681024, 42.600685586773395, 219.18272155647773, 78.40204250701372, 45.34819526543641, 89.02578836256518, 54.85475032211224, 86.26380841651081, 66.67301250617092, 24.538061986709216, 225.20266116045866, 24.162687604806752, 22.981148517070903, 22.58360769776229, 37.51805470147266, 39.90069039209976, 22.981502913913506, 39.89993839405963, 424.31504132823716, 1714.4293539407329, 156.90015609082855, 656.7421774651077, 37.52914192073948, 365.63442926361614, 1428.9622271148933, 157.50840825538054, 142.49773773053116, 160.2384121106945, 327.222936714636, 114.81922047033592, 104.1015284717869, 399.1021398477992, 209.87841386655523, 1363.7393638901856, 3717.9004328005512, 383.06758811249586, 1725.9563115665328, 610.2390118998301, 261.81758468500055, 1006.35800937336, 3887.8915358766576, 910.9787341782635, 1859.7592422602838, 1689.4882323023307, 667.544159384067, 1064.422192754445, 946.0228997903863, 1624.7414785091287, 530.8937448993512, 6680.021661120391, 6779.340090228906, 853.6926991853198, 556.6347257686746, 1494.953960283588, 944.4263248426751, 1509.2884767700543, 2876.6036617970503, 703.5189603603187, 169.17462963774676, 86.82435180470989, 96.29355973817798, 201.82231691117937, 86.82491635596911, 88.02114420485881, 92.37511309423539, 81.28974156336206, 104.9405493419177, 101.81353294930021, 85.30140754549431, 75.49582378490412, 86.79946393226993, 104.97387792471773, 47.62299407749352, 47.624554626077646, 147.2722882687671, 51.16640530315627, 35.88894759177561, 54.73227190713577, 37.0468365186991, 33.14492922827868, 95.07305454291064, 51.1887482527059, 133.18147825158198, 72.33624002776413, 91.63258496425031, 50.41302062478804, 35.49629030401417, 45.32535348085078, 251.267408856398, 387.03326296237105, 72.3603890607872, 103.51662610021036, 254.1009416996582, 150.499664589571, 114.34867652675948, 115.52384564739937, 207.87075040921965, 145.30040797151358, 103.1751540720258, 718.7329494588171, 755.901899416845, 362.09404327285927, 1329.280300434568, 6779.340090228906, 731.9722267528323, 1961.0325504120747, 204.82867054400293, 144.94180387567457, 954.6290646570644, 273.16071765441797, 627.3078441706884, 774.5794464827413, 287.0266986338926, 354.266718341271, 504.1073614660906, 432.89110631462927, 6680.021661120391, 416.38729758448335, 1153.4210820617316, 317.5705614200369, 428.17637077755376, 365.5865174878746, 520.7108196829734, 2876.6036617970503, 613.1414826486415, 2132.0777220180853, 1138.5369698627023, 800.2117993983546, 3887.8915358766576, 490.74393375226254, 653.3399631921369, 857.7440520874206, 1509.2884767700543, 3717.9004328005512, 1019.0882246017386, 853.6926991853198, 1624.7414785091287, 1082.7194065020485, 111.05920266972957, 114.00963657526293, 107.63925521309784, 123.70346388238849, 50.08677757558323, 52.22409467814759, 51.79360538528893, 53.03020030226517, 53.087826090720114, 56.43273797705075, 37.797956529546084, 123.2244160502985, 118.98142977457096, 35.26295791882624, 57.272221220963125, 59.79965154644001, 67.40819894950702, 35.68372100487976, 36.11291568750021, 55.11330986353654, 52.625490007832646, 27.633062876470206, 22.59432141585921, 22.554296463889884, 37.36058544971515, 28.904824407350024, 22.56193606396744, 28.5032823476843, 30.587144112609074, 94.79231660854836, 213.52065163005133, 211.4925537948719, 85.85290119408312, 61.38472485196853, 193.07705621944936, 142.1544343120829, 195.00998371917973, 262.1776883609267, 1415.7548802808328, 308.5658287258416, 147.84142152571889, 1793.874488816605, 353.80255872434367, 243.47134055829437, 217.86817503589003, 88.26610996542593, 1646.084000836311, 524.5510635423153, 166.1243114778211, 112.82197416535654, 116.89965724562495, 125.18240076708261, 514.0208069095042, 479.8260461824717, 1494.953960283588, 2132.0777220180853, 648.4392909711353, 370.16145872147183, 2876.6036617970503, 823.0399740551145, 737.6706996105881, 668.5912949482853, 843.9381673333164, 1509.2884767700543, 285.36100999712176, 666.0065986493598, 1689.4882323023307, 455.17846290840544, 6680.021661120391, 944.4263248426751, 1082.7194065020485, 857.7440520874206, 786.2891179062253, 1019.0882246017386, 3717.9004328005512, 1624.7414785091287, 3887.8915358766576, 1138.5369698627023, 1859.7592422602838, 1725.9563115665328, 1961.0325504120747], \"Category\": [\"Default\", \"Default\", \"Default\", \"Default\", \"Default\", \"Default\", \"Default\", \"Default\", \"Default\", \"Default\", \"Default\", \"Default\", \"Default\", \"Default\", \"Default\", \"Default\", \"Default\", \"Default\", \"Default\", \"Default\", \"Default\", \"Default\", \"Default\", \"Default\", \"Default\", \"Default\", \"Default\", \"Default\", \"Default\", \"Default\", \"Topic1\", \"Topic1\", \"Topic1\", \"Topic1\", \"Topic1\", \"Topic1\", \"Topic1\", \"Topic1\", \"Topic1\", \"Topic1\", \"Topic1\", \"Topic1\", \"Topic1\", \"Topic1\", \"Topic1\", \"Topic1\", \"Topic1\", \"Topic1\", \"Topic1\", \"Topic1\", \"Topic1\", \"Topic1\", \"Topic1\", \"Topic1\", \"Topic1\", \"Topic1\", \"Topic1\", \"Topic1\", \"Topic1\", \"Topic1\", \"Topic1\", \"Topic1\", \"Topic1\", \"Topic1\", \"Topic1\", \"Topic1\", \"Topic1\", \"Topic1\", \"Topic1\", \"Topic1\", \"Topic1\", \"Topic1\", \"Topic1\", \"Topic1\", \"Topic1\", \"Topic1\", \"Topic1\", \"Topic1\", \"Topic1\", \"Topic1\", \"Topic1\", \"Topic1\", \"Topic1\", \"Topic1\", \"Topic1\", \"Topic1\", \"Topic1\", \"Topic1\", \"Topic1\", \"Topic1\", \"Topic1\", \"Topic1\", \"Topic1\", \"Topic1\", \"Topic1\", \"Topic1\", \"Topic1\", \"Topic1\", \"Topic1\", \"Topic2\", \"Topic2\", \"Topic2\", \"Topic2\", \"Topic2\", \"Topic2\", \"Topic2\", \"Topic2\", \"Topic2\", \"Topic2\", \"Topic2\", \"Topic2\", \"Topic2\", \"Topic2\", \"Topic2\", \"Topic2\", \"Topic2\", \"Topic2\", \"Topic2\", \"Topic2\", \"Topic2\", \"Topic2\", \"Topic2\", \"Topic2\", \"Topic2\", \"Topic2\", \"Topic2\", \"Topic2\", \"Topic2\", \"Topic2\", \"Topic2\", \"Topic2\", \"Topic2\", \"Topic2\", \"Topic2\", \"Topic2\", \"Topic2\", \"Topic2\", \"Topic2\", \"Topic2\", \"Topic2\", \"Topic2\", \"Topic2\", \"Topic2\", \"Topic2\", \"Topic2\", \"Topic2\", \"Topic2\", \"Topic2\", \"Topic2\", \"Topic2\", \"Topic2\", \"Topic2\", \"Topic2\", \"Topic2\", \"Topic2\", \"Topic2\", \"Topic2\", \"Topic2\", \"Topic2\", \"Topic2\", \"Topic2\", \"Topic2\", \"Topic2\", \"Topic2\", \"Topic2\", \"Topic2\", \"Topic2\", \"Topic2\", \"Topic2\", \"Topic2\", \"Topic2\", \"Topic2\", \"Topic2\", \"Topic2\", \"Topic2\", \"Topic2\", \"Topic2\", \"Topic2\", \"Topic2\", \"Topic3\", \"Topic3\", \"Topic3\", \"Topic3\", \"Topic3\", \"Topic3\", \"Topic3\", \"Topic3\", \"Topic3\", \"Topic3\", \"Topic3\", \"Topic3\", \"Topic3\", \"Topic3\", \"Topic3\", \"Topic3\", \"Topic3\", \"Topic3\", \"Topic3\", \"Topic3\", \"Topic3\", \"Topic3\", \"Topic3\", \"Topic3\", \"Topic3\", \"Topic3\", \"Topic3\", \"Topic3\", \"Topic3\", \"Topic3\", \"Topic3\", \"Topic3\", \"Topic3\", \"Topic3\", \"Topic3\", \"Topic3\", \"Topic3\", \"Topic3\", \"Topic3\", \"Topic3\", \"Topic3\", \"Topic3\", \"Topic3\", \"Topic3\", \"Topic3\", \"Topic3\", \"Topic3\", \"Topic3\", \"Topic3\", \"Topic3\", \"Topic3\", \"Topic3\", \"Topic3\", \"Topic3\", \"Topic3\", \"Topic3\", \"Topic3\", \"Topic3\", \"Topic3\", \"Topic3\", \"Topic3\", \"Topic3\", \"Topic3\", \"Topic3\", \"Topic3\", \"Topic3\", \"Topic3\", \"Topic3\", \"Topic3\", \"Topic3\", \"Topic3\", \"Topic3\", \"Topic3\", \"Topic3\", \"Topic3\", \"Topic3\", \"Topic3\", \"Topic3\", \"Topic3\", \"Topic3\", \"Topic3\"], \"logprob\": [30.0, 29.0, 28.0, 27.0, 26.0, 25.0, 24.0, 23.0, 22.0, 21.0, 20.0, 19.0, 18.0, 17.0, 16.0, 15.0, 14.0, 13.0, 12.0, 11.0, 10.0, 9.0, 8.0, 7.0, 6.0, 5.0, 4.0, 3.0, 2.0, 1.0, -5.4734, -5.4776, -4.735, -7.1484, -5.4339, -7.4954, -6.9392, -6.7744, -5.9759, -7.0381, -6.947, -7.9246, -7.6393, -6.0022, -7.0308, -7.5793, -6.9048, -7.3899, -6.938, -7.1965, -8.1979, -5.9815, -8.2138, -8.2649, -8.2828, -7.7752, -7.7137, -8.266, -7.7143, -5.3503, -3.964, -6.3548, -4.9421, -7.7759, -5.5265, -4.2013, -6.3674, -6.4688, -6.3641, -5.6823, -6.6909, -6.7893, -5.543, -6.144, -4.45, -3.5478, -5.616, -4.292, -5.2087, -5.9639, -4.781, -3.6364, -4.8856, -4.2734, -4.4331, -5.2434, -4.9043, -4.9989, -4.604, -5.4523, -3.7003, -3.8064, -5.2968, -5.5511, -5.0993, -5.3209, -5.269, -5.2587, -5.523, -6.2433, -6.9117, -6.8082, -6.069, -6.913, -6.8995, -6.8515, -6.9797, -6.7252, -6.7557, -6.9339, -7.0566, -6.9183, -6.7292, -7.5225, -7.5225, -6.3941, -7.4522, -7.8074, -7.3854, -7.7765, -7.8881, -6.8365, -7.4574, -6.5013, -7.112, -6.8761, -7.4738, -7.8251, -7.5809, -5.8779, -5.4529, -7.1135, -6.7592, -5.8787, -6.3952, -6.6658, -6.6585, -6.0933, -6.4432, -6.7739, -4.914, -4.8843, -5.5939, -4.4017, -2.9487, -5.0006, -4.1278, -6.1488, -6.4608, -4.7892, -5.9034, -5.1952, -5.0161, -5.8724, -5.6915, -5.3897, -5.5537, -3.2908, -5.603, -4.7949, -5.8408, -5.619, -5.7414, -5.4915, -4.2789, -5.3904, -4.5576, -5.0454, -5.2838, -4.3832, -5.5927, -5.5416, -5.4346, -5.2203, -4.9949, -5.499, -5.5385, -5.5088, -5.5481, -6.5438, -6.5193, -6.5798, -6.4408, -7.3451, -7.3043, -7.3129, -7.2919, -7.2916, -7.2307, -7.632, -6.4507, -6.4867, -7.7035, -7.2185, -7.1762, -7.0577, -7.6938, -7.6818, -7.2599, -7.3063, -7.9508, -8.1557, -8.1592, -7.655, -7.912, -8.16, -7.9265, -7.8562, -6.7268, -5.9149, -5.9502, -6.8405, -7.171, -6.0541, -6.3533, -6.057, -5.7735, -4.1569, -5.6217, -6.341, -3.9859, -5.5224, -5.8794, -5.9919, -6.8312, -4.2107, -5.2519, -6.2789, -6.6238, -6.6005, -6.5439, -5.3443, -5.4106, -4.49, -4.2176, -5.2343, -5.6806, -4.1287, -5.1174, -5.211, -5.3166, -5.2101, -4.8514, -5.9305, -5.4047, -4.8337, -5.6429, -4.0521, -5.2252, -5.1488, -5.3039, -5.3765, -5.2769, -4.7786, -5.2305, -4.97, -5.4059, -5.3328, -5.3802, -5.3633], \"loglift\": [30.0, 29.0, 28.0, 27.0, 26.0, 25.0, 24.0, 23.0, 22.0, 21.0, 20.0, 19.0, 18.0, 17.0, 16.0, 15.0, 14.0, 13.0, 12.0, 11.0, 10.0, 9.0, 8.0, 7.0, 6.0, 5.0, 4.0, 3.0, 2.0, 1.0, 1.0506, 1.0504, 1.0477, 1.0442, 1.0412, 1.0405, 1.0391, 1.0383, 1.0378, 1.0361, 1.036, 1.0351, 1.035, 1.0341, 1.0335, 1.0325, 1.0324, 1.0316, 1.0308, 1.0299, 1.0281, 1.0277, 1.0275, 1.0266, 1.0262, 1.0262, 1.026, 1.0255, 1.0255, 1.0254, 1.0153, 1.0158, 0.9968, 1.0251, 0.998, 0.9601, 0.9992, 0.9981, 0.9854, 0.9532, 0.9919, 0.9915, 0.8939, 0.9357, 0.7582, 0.6575, 0.862, 0.6806, 0.8036, 0.8946, 0.7311, 0.5242, 0.726, 0.6246, 0.5608, 0.6791, 0.5517, 0.575, 0.4291, 0.6993, -0.081, -0.2019, 0.3798, 0.5532, 0.0171, 0.2547, -0.1622, -0.7969, 0.347, 1.0519, 1.0506, 1.0506, 1.0497, 1.0493, 1.0491, 1.0488, 1.0485, 1.0476, 1.0474, 1.046, 1.0455, 1.0442, 1.0432, 1.0404, 1.0403, 1.0398, 1.0389, 1.0384, 1.0383, 1.0374, 1.0371, 1.035, 1.0332, 1.0332, 1.0329, 1.0322, 1.0321, 1.0317, 1.0314, 1.0217, 1.0147, 1.031, 1.0272, 1.0098, 1.017, 1.0211, 1.0182, 0.996, 1.0042, 1.0158, 0.9347, 0.9139, 0.9403, 0.8321, 0.6558, 0.8298, 0.7171, 0.9552, 0.9891, 0.7757, 0.9127, 0.7896, 0.7577, 0.8941, 0.8646, 0.8137, 0.802, 0.3285, 0.7916, 0.5808, 0.8246, 0.7476, 0.7833, 0.6795, 0.1829, 0.6172, 0.2037, 0.3433, 0.4574, -0.2227, 0.6375, 0.4024, 0.2373, -0.1136, -0.7896, 0.0005, 0.1381, -0.4758, -0.1091, 1.1723, 1.1706, 1.1676, 1.1674, 1.1673, 1.1664, 1.166, 1.1635, 1.1627, 1.1624, 1.1619, 1.1614, 1.1605, 1.1599, 1.1599, 1.1589, 1.1577, 1.1577, 1.1577, 1.1569, 1.1567, 1.1563, 1.1528, 1.1511, 1.1506, 1.1501, 1.1499, 1.1497, 1.1494, 1.1477, 1.1475, 1.1218, 1.133, 1.138, 1.109, 1.1159, 1.0961, 1.0837, 1.0138, 1.0726, 1.089, 0.9482, 1.035, 1.0517, 1.0503, 1.1146, 0.8094, 0.9117, 1.0345, 1.0766, 1.0644, 1.0525, 0.8396, 0.8421, 0.6263, 0.5437, 0.7173, 0.8316, 0.3331, 0.5957, 0.6116, 0.6044, 0.478, 0.2553, 0.842, 0.5202, 0.1603, 0.6626, -0.4328, 0.3504, 0.2902, 0.368, 0.3824, 0.2226, -0.5734, -0.1975, -0.8095, -0.0173, -0.4348, -0.4076, -0.5183]}, \"token.table\": {\"Topic\": [1, 2, 1, 1, 2, 3, 1, 2, 3, 1, 2, 3, 1, 2, 3, 3, 1, 2, 3, 1, 2, 3, 1, 2, 3, 1, 2, 3, 1, 2, 3, 1, 2, 1, 2, 3, 2, 3, 1, 2, 3, 1, 2, 3, 1, 2, 3, 1, 2, 3, 1, 2, 3, 1, 2, 3, 1, 2, 3, 1, 2, 3, 1, 2, 1, 2, 3, 1, 2, 1, 2, 3, 3, 2, 3, 1, 2, 1, 2, 3, 1, 2, 3, 1, 2, 3, 1, 2, 3, 1, 2, 3, 1, 2, 3, 1, 1, 2, 3, 2, 1, 2, 3, 1, 2, 3, 1, 2, 3, 1, 2, 3, 1, 2, 3, 1, 2, 3, 1, 2, 3, 2, 3, 1, 2, 3, 1, 2, 3, 1, 2, 3, 1, 3, 1, 2, 3, 1, 2, 3, 1, 2, 3, 1, 2, 3, 1, 2, 3, 1, 2, 3, 1, 2, 3, 1, 2, 3, 1, 2, 3, 1, 2, 3, 1, 3, 1, 2, 3, 1, 3, 1, 2, 3, 2, 1, 2, 3, 1, 2, 3, 1, 2, 3, 1, 2, 3, 1, 2, 3, 1, 2, 3, 2, 1, 2, 3, 1, 1, 3, 1, 2, 3, 1, 2, 3, 1, 2, 3, 1, 2, 3, 1, 2, 3, 1, 2, 3, 1, 2, 3, 1, 2, 3, 1, 2, 3, 1, 2, 3, 1, 2, 3, 1, 2, 3, 1, 2, 3, 1, 2, 3, 1, 2, 3, 1, 2, 3, 3, 1, 2, 3, 1, 2, 3, 1, 2, 3, 1, 2, 3, 1, 2, 1, 2, 3, 1, 2, 3, 1, 2, 3, 1, 2, 3, 1, 2, 1, 2, 3, 3, 1, 2, 3, 1, 3, 1, 2, 3, 1, 2, 3, 1, 2, 3, 1, 2, 3, 1, 2, 3, 1, 2, 3, 3, 1, 2, 3, 2, 3, 3, 1, 2, 3, 3, 1, 2, 3, 1, 2, 3, 1, 2, 3, 1, 2, 3, 1, 2, 3, 1, 2, 3, 2, 2, 1, 3, 2, 3, 1, 3, 1, 2, 3, 1, 2, 3, 1, 2, 3, 1, 2, 3, 1, 2, 3, 1, 1, 2, 3, 1, 2, 3, 1, 2, 3, 1, 2, 3, 1, 2, 3, 1, 2, 3, 1, 2, 3, 2, 3, 3, 1, 2, 3, 1, 2, 3, 1, 2, 3, 3, 1, 1, 2, 3, 2, 3, 1, 2, 3, 1, 2, 3, 1, 2, 3, 1, 2, 3, 1, 2, 3, 1, 2, 3, 1, 2, 3, 1, 2, 1, 2, 3, 1, 2, 3, 1, 2, 3, 1, 2, 3, 1, 2, 3, 2, 3, 1, 2, 3, 1, 2, 3, 3, 1, 3, 1, 2, 3, 1, 2, 3, 1, 2, 3, 1, 2, 3, 1, 2, 3, 1, 2, 3, 1, 2, 3, 1, 2, 3, 1, 2, 3, 1, 2, 3, 1, 2, 3, 1, 2, 1, 3, 1, 2, 3, 1, 2, 3, 1, 2, 3, 1, 2, 3, 1, 2, 3, 1, 1, 2, 3, 1, 3, 1, 2, 1, 2, 3, 1, 2, 3, 1, 2, 3, 1, 2, 3, 1, 2, 3, 1, 2, 3, 2, 3, 1, 2, 3, 1, 2, 3, 1, 2, 3, 1, 2, 3], \"Freq\": [0.0209975716907268, 0.9868858694641596, 0.9572916132774205, 0.005911051805706905, 0.9930567033587602, 0.005911051805706905, 0.9560219934591137, 0.006373479956394091, 0.03824087973836455, 0.9790596125773191, 0.012882363323385777, 0.012882363323385777, 0.008404672913198786, 0.016809345826397572, 0.9749420579310591, 0.9783021063005455, 0.018144437386831833, 0.018144437386831833, 0.9797996188889189, 0.07825465089578777, 0.060195885304452135, 0.8608011598536656, 0.21923509071433422, 0.017157528838513115, 0.7625568372672495, 0.242908791111748, 0.2630524469600393, 0.494112028749263, 0.007008665970239496, 0.2803466388095799, 0.7113795959793089, 0.020998259756049166, 0.9869182085343108, 0.011647830021950602, 0.034943490065851804, 0.9551220617999493, 0.9719711176343744, 0.019836145257844377, 0.6084682807166433, 0.03196234159406492, 0.3598722905405828, 0.9595380220655985, 0.026653833946266622, 0.026653833946266622, 0.030843288305443358, 0.34081833577514914, 0.6276609170157723, 0.059880415092166406, 0.05132607007899977, 0.8896518813693294, 0.047371631417076114, 0.4244685785391473, 0.5281233363923535, 0.06209388705911132, 0.9314083058866698, 0.0068993207843457026, 0.007959647489113963, 0.9631173461827897, 0.027858766211898874, 0.02485542131168937, 0.8865100267835876, 0.0883748313304511, 0.9858996262970966, 0.02347380062612135, 0.29846635899517693, 0.5173416889249733, 0.18367160553549347, 0.98302835971096, 0.01170271856798762, 0.014834990632950493, 0.014834990632950493, 0.9791093817747326, 0.9691823363936957, 0.9821877023931259, 0.00982187702393126, 0.010384910504077307, 0.9865664978873441, 0.00512794258492955, 0.0820470813588728, 0.9179017227023895, 0.06390674688277462, 0.055918403522427794, 0.8787177696381511, 0.2642616459910794, 0.22071853386754925, 0.5150099123576148, 0.010913148421930273, 0.9712702095517943, 0.021826296843860546, 0.01381971563419785, 0.9673800943938495, 0.01381971563419785, 0.013764586265938798, 0.9428741592168076, 0.041293758797816396, 0.9518808659109819, 0.07323193554965529, 0.8983117427424382, 0.02441064518321843, 0.9654568811900843, 0.9583363678552589, 0.01516539596119095, 0.026831085162107065, 0.09518206066837623, 0.8639602429898765, 0.043930181846942876, 0.05151350056340853, 0.3822843989179265, 0.5652928877616147, 0.9838741380563838, 0.005205683270139597, 0.013014208175348993, 0.0046833877302539005, 0.028100326381523405, 0.9647778724323036, 0.1604748233502895, 0.1271294055112683, 0.7106742176941392, 0.9921859912704953, 0.005466589483583997, 0.0027332947417919983, 0.9847434223778755, 0.011723135980688994, 0.018270756267832252, 0.9866208384629417, 0.018270756267832252, 0.07090817244763746, 0.03545408622381873, 0.8952156771514229, 0.44789094593531625, 0.1164728228200586, 0.4351848198094917, 0.9741579066740468, 0.9736959829454295, 0.11906800791607851, 0.6836808196471604, 0.19588607753935497, 0.005179279296983949, 0.06733063086079133, 0.9270909941601267, 0.009692255940823772, 0.9595333381415533, 0.03876902376329509, 0.9459812441150113, 0.006348867410167861, 0.05079093928134289, 0.021036454646540387, 0.9781951410641279, 0.010518227323270193, 0.9818426266497914, 0.009917602289391833, 0.009917602289391833, 0.9899355679013027, 0.00781528079922081, 0.00260509359974027, 0.03462488612272099, 0.9608405899055075, 0.008656221530680247, 0.7214132478083684, 0.09539348731350325, 0.1838311995103969, 0.016290697765796554, 0.03258139553159311, 0.9611511681819968, 0.018857179386465285, 0.9805733280961949, 0.2798508996702155, 0.31032971052538744, 0.4100785460514048, 0.9774266965496392, 0.025062222988452287, 0.04810681628037492, 0.938082917467311, 0.014432044884112477, 0.9904990826298401, 0.16249394497863642, 0.7959194156823951, 0.041375773026967606, 0.008083848007285822, 0.008083848007285822, 0.9862294568888704, 0.6036274498253894, 0.31618580705139443, 0.07904645176284861, 0.9403658060410706, 0.007017655268963213, 0.049123586882742494, 0.23322512673954182, 0.6425923072404159, 0.12395181560982643, 0.9661879725781091, 0.018229961746756774, 0.018229961746756774, 0.9752306029731748, 0.03463797132458627, 0.7903755274973776, 0.17633876310698465, 0.9860134611982259, 0.01746047173798061, 0.9777864173269142, 0.011520808478498267, 0.9792687206723527, 0.011520808478498267, 0.11775074365622783, 0.43952505305344447, 0.4430225998947186, 0.6845989041708747, 0.08988169420186538, 0.22470423550466345, 0.017720210570089042, 0.017720210570089042, 0.9746115813548973, 0.00952920492860959, 0.9910373125753973, 0.00952920492860959, 0.18051710202236598, 0.7815795406243098, 0.03769038393873576, 0.7751061318210877, 0.04096755453599829, 0.18353464432127237, 0.019933599242106796, 0.9568127636211263, 0.019933599242106796, 0.17051432743477093, 0.763712058088129, 0.06484347663012416, 0.018836710290060316, 0.018836710290060316, 0.9795089350831363, 0.10810631366391757, 0.7093201995590064, 0.18255688816831364, 0.0049548534339742675, 0.9909706867948536, 0.0049548534339742675, 0.49181332628589064, 0.14782828304547002, 0.3610421528225902, 0.01672250546850439, 0.01672250546850439, 0.9699053171732546, 0.9749072009305703, 0.014998572322008774, 0.014998572322008774, 0.9686199167331967, 0.018853915654174144, 0.014140436740630608, 0.9808394140065646, 0.00877118838406133, 0.00877118838406133, 0.9911442873989303, 0.9298644316137452, 0.05616630794982353, 0.012481401766627452, 0.009660283933828557, 0.9660283933828557, 0.019320567867657113, 0.973757147312806, 0.02318469398363824, 0.01159234699181912, 0.9821172706452349, 0.012754769748639413, 0.6700018047884154, 0.15734687105629186, 0.17267810464639208, 0.0907423875016238, 0.012963198214517687, 0.8944606768017204, 0.4217823386734528, 0.016452502572368723, 0.5608807695125702, 0.8862273950586572, 0.014293990242881567, 0.10005793170017097, 0.9759036521611557, 0.01175787532724284, 0.8494066208947924, 0.010022497001708465, 0.1403149580239185, 0.9686964226248701, 0.940830437365574, 0.038289610823017545, 0.021879777613152882, 0.032693473974504395, 0.9808042192351317, 0.17799820656244647, 0.13365053052470385, 0.6883002322022248, 0.5330078732246352, 0.21541888640718512, 0.2517323558301106, 0.029666152372131518, 0.1250216421396971, 0.844779005644507, 0.19767009316443362, 0.7619863268758006, 0.039852841363797104, 0.013769794507645743, 0.11015835606116595, 0.876676916986779, 0.11650759364880343, 0.09253713179761422, 0.7910252410892444, 0.9750936239525614, 0.03935443896079607, 0.9523774228512649, 0.007870887792159215, 0.9767771572214005, 0.01953554314442801, 0.9788888976333328, 0.009526179462638814, 0.9811964846517979, 0.009526179462638814, 0.9765607295695297, 0.2107968439785859, 0.48834602188372395, 0.301263822852729, 0.1704150563242981, 0.7384652440719583, 0.09166264393200882, 0.013245765790292052, 0.9801866684816118, 0.013245765790292052, 0.15643448069550164, 0.415768086470711, 0.42758758056770446, 0.03309809198667746, 0.02364149427619818, 0.9409314721926877, 0.28365592733304956, 0.6673215887960042, 0.04897231818750517, 0.9717428904308545, 0.9905055230753226, 0.02676617584983868, 0.9635823305941924, 0.9851138142279449, 0.010825426529977417, 0.03508367870766446, 0.9823430038146049, 0.9592545461346017, 0.026645959614850046, 0.026645959614850046, 0.6854171174971814, 0.11066328777849674, 0.20394490731953327, 0.353188134235144, 0.07358086129898833, 0.5732618012112091, 0.01382432926588636, 0.9677030486120451, 0.01382432926588636, 0.027056016904600376, 0.06087603803535085, 0.9131405705302627, 0.9780723519648515, 0.8479186005290434, 0.003819453155536232, 0.14513921991037682, 0.32020854250362435, 0.4809864642656124, 0.1988017505585849, 0.06539285562932588, 0.8821078823189916, 0.05287081944498688, 0.23988375011634983, 0.7521245964346689, 0.008380218344675977, 0.22156178120733494, 0.7576865851164417, 0.021882645057514562, 0.9763543334087935, 0.013687210281431684, 0.009124806854287789, 0.17350385077231154, 0.7937459629819922, 0.032788129279806906, 0.9707591142910619, 0.02206270714297868, 0.9770903833823914, 0.02252565476359221, 0.9761117064223291, 0.00750855158786407, 0.9812897959145092, 0.013381224489743306, 0.0044604081632477685, 0.9935364367841785, 0.0027445757922214876, 0.0027445757922214876, 0.9641845723284612, 0.9811270015967172, 0.009290290963275981, 0.009290290963275981, 0.9847708421072541, 0.9578465723826651, 0.028171958011254855, 0.014069205858251606, 0.04924222050388062, 0.9356021895737318, 0.0349807284307653, 0.9619700318460458, 0.008745182107691325, 0.11377137703496491, 0.8638687116724661, 0.02248969080923725, 0.6484710346347151, 0.15324564251317893, 0.19841277925390535, 0.6988215694090266, 0.2467537077967183, 0.05462486661148725, 0.14590849045767149, 0.14396304391823586, 0.7100879868940012, 0.27470811318764893, 0.2759799100079621, 0.44894427757055594, 0.012301675227009309, 0.9841340181607448, 0.028750817176052757, 0.09035971112473723, 0.8789535536678985, 0.2873188852726189, 0.6561466741686758, 0.057056232536406584, 0.061027313575110986, 0.034327863885999926, 0.9077812894297759, 0.00775127175643214, 0.9559901832932972, 0.036172601530016654, 0.5864361129832538, 0.2772711095596262, 0.13632067538645815, 0.9883988760418494, 0.011360906621170683, 0.9317826685540787, 0.02881802067693027, 0.02881802067693027, 0.021098756434650107, 0.010549378217325054, 0.9705427959939049, 0.9754239080444238, 0.0090042065489505, 0.9904627203845552, 0.37240140700756175, 0.5473550881520538, 0.07997882566605352, 0.2708303298351438, 0.346388066781905, 0.3826950312887902, 0.1751311842149846, 0.6190280471757377, 0.20547569633144236, 0.9069518951642641, 0.06438238761968541, 0.028692151004425022, 0.9015260450928081, 0.07334449180416065, 0.02444816393472022, 0.7179091843345083, 0.09769712141555235, 0.18441703817767185, 0.8223091949702975, 0.05482061299801984, 0.1253042582811882, 0.016230549627304604, 0.008115274813652302, 0.9819482524519286, 0.29550348184891745, 0.30941732292252117, 0.39555062480673475, 0.026363286002867702, 0.3800707065413427, 0.5953708755647622, 0.019544073774092424, 0.9772036887046213, 0.019544073774092424, 0.977244926444066, 0.022465400607909563, 0.977445118206157, 0.02506269533861941, 0.6173212087460028, 0.14270267667929862, 0.24100896505837097, 0.9318997251652997, 0.017418686451687846, 0.04354671612921961, 0.5072082734375174, 0.39709839421551596, 0.09488191720193744, 0.05138069613708189, 0.7310071768593923, 0.21720021548857346, 0.15398685805074502, 0.14318076274893837, 0.7050977184428852, 0.9679653138461614, 0.9680169802463982, 0.008880889727031176, 0.02220222431757794, 0.9573063758609764, 0.9846775411870761, 0.9702701450951902, 0.022051594206708866, 0.6031441324411629, 0.10522140628257048, 0.2921772978024948, 0.013580287394937909, 0.9777806924355293, 0.006790143697468954, 0.08778189120933626, 0.7715566227346923, 0.14091303588867135, 0.04522296293641561, 0.09044592587283122, 0.8620627309754225, 0.7406107257319953, 0.07479435051946884, 0.18405276451359487, 0.02822731993234215, 0.8214150100311566, 0.14960479564141338, 0.01900219836150053, 0.9691121164365271, 0.1300058361355299, 0.3146870239168434, 0.556473578972642, 0.9410085436957244, 0.03958935620726348, 0.01979467810363174, 0.12890786876657118, 0.8466111381155891, 0.024387975172054006, 0.056646882953814474, 0.011329376590762896, 0.9290088804425575], \"Term\": [\"absurdity\", \"absurdity\", \"abusersfbi\", \"africa\", \"africa\", \"africa\", \"anonymous\", \"anonymous\", \"anonymous\", \"ansari\", \"ansari\", \"ansari\", \"antiblack\", \"antiblack\", \"antiblack\", \"antiguni\", \"antiwhite\", \"antiwhite\", \"antiwhite\", \"appreciate\", \"appreciate\", \"appreciate\", \"arrest\", \"arrest\", \"arrest\", \"attack\", \"attack\", \"attack\", \"baltimore\", \"baltimore\", \"baltimore\", \"barber\", \"barber\", \"basis\", \"basis\", \"basis\", \"beco\", \"beco\", \"black\", \"black\", \"black\", \"blank\", \"blank\", \"blank\", \"bless\", \"bless\", \"bless\", \"block\", \"block\", \"block\", \"blue\", \"blue\", \"blue\", \"boss\", \"boss\", \"boss\", \"boston\", \"boston\", \"boston\", \"brave\", \"brave\", \"brave\", \"bravely\", \"bravely\", \"break\", \"break\", \"break\", \"breann\", \"breann\", \"bucket\", \"bucket\", \"bucket\", \"capturedfollow\", \"carjacking\", \"carjacking\", \"carjacks\", \"carjacks\", \"charm\", \"charm\", \"charm\", \"choose\", \"choose\", \"choose\", \"city\", \"city\", \"city\", \"clayton\", \"clayton\", \"clayton\", \"completely\", \"completely\", \"completely\", \"comply\", \"comply\", \"comply\", \"conclude\", \"condolence\", \"condolence\", \"condolence\", \"contest\", \"cop\", \"cop\", \"cop\", \"cops\", \"cops\", \"cops\", \"county\", \"county\", \"county\", \"couple\", \"couple\", \"couple\", \"create\", \"create\", \"create\", \"crime\", \"crime\", \"crime\", \"dealer\", \"dealer\", \"dealer\", \"debra\", \"debra\", \"deface\", \"deface\", \"deface\", \"democrats\", \"democrats\", \"democrats\", \"deputy\", \"deputy\", \"deputy\", \"derosier\", \"dickerson\", \"die\", \"die\", \"die\", \"dispensary\", \"dispensary\", \"dispensary\", \"district\", \"district\", \"district\", \"division\", \"division\", \"division\", \"doss\", \"doss\", \"doss\", \"drag\", \"drag\", \"drag\", \"drug\", \"drug\", \"drug\", \"dude\", \"dude\", \"dude\", \"duty\", \"duty\", \"duty\", \"effect\", \"effect\", \"effect\", \"enable\", \"enable\", \"enforcement\", \"enforcement\", \"enforcement\", \"enriquez\", \"enriquez\", \"evil\", \"evil\", \"evil\", \"evila\", \"family\", \"family\", \"family\", \"fascist\", \"fascist\", \"fascist\", \"find\", \"find\", \"find\", \"flood\", \"flood\", \"flood\", \"follow\", \"follow\", \"follow\", \"forgo\", \"forgo\", \"forgo\", \"frame\", \"friend\", \"friend\", \"friend\", \"games\", \"garden\", \"garden\", \"ghetto\", \"ghetto\", \"ghetto\", \"go\", \"go\", \"go\", \"good\", \"good\", \"good\", \"goon\", \"goon\", \"goon\", \"gunpoint\", \"gunpoint\", \"gunpoint\", \"happen\", \"happen\", \"happen\", \"hate\", \"hate\", \"hate\", \"hatred\", \"hatred\", \"hatred\", \"hear\", \"hear\", \"hear\", \"helpless\", \"helpless\", \"helpless\", \"hero\", \"hero\", \"hero\", \"holy\", \"holy\", \"holy\", \"honor\", \"honor\", \"honor\", \"hose\", \"hose\", \"hose\", \"host\", \"host\", \"host\", \"houston\", \"houston\", \"houston\", \"incessant\", \"institution\", \"institution\", \"institution\", \"investigate\", \"investigate\", \"investigate\", \"islamic\", \"islamic\", \"islamic\", \"katie\", \"katie\", \"katie\", \"kelvin\", \"kelvin\", \"kill\", \"kill\", \"kill\", \"killer\", \"killer\", \"killer\", \"know\", \"know\", \"know\", \"kpop\", \"kpop\", \"kpop\", \"leath\", \"leath\", \"leave\", \"leave\", \"leave\", \"leffondrement\", \"let\", \"let\", \"let\", \"letat\", \"letat\", \"life\", \"life\", \"life\", \"line\", \"line\", \"line\", \"live\", \"live\", \"live\", \"love\", \"love\", \"love\", \"maryland\", \"maryland\", \"maryland\", \"matter\", \"matter\", \"matter\", \"mccartney\", \"media\", \"media\", \"media\", \"mere\", \"mere\", \"messagethink\", \"minor\", \"minor\", \"minor\", \"misotis\", \"murder\", \"murder\", \"murder\", \"need\", \"need\", \"need\", \"normalise\", \"normalise\", \"normalise\", \"not\", \"not\", \"not\", \"office\", \"office\", \"office\", \"officer\", \"officer\", \"officer\", \"officersthey\", \"officerstwo\", \"ohios\", \"ohios\", \"orlando\", \"orlando\", \"panola\", \"panola\", \"parkland\", \"parkland\", \"parkland\", \"peace\", \"peace\", \"peace\", \"people\", \"people\", \"people\", \"petrified\", \"petrified\", \"petrified\", \"photo\", \"photo\", \"photo\", \"plumber\", \"point\", \"point\", \"point\", \"police\", \"police\", \"police\", \"pray\", \"pray\", \"pray\", \"prayer\", \"prayer\", \"prayer\", \"president\", \"president\", \"president\", \"pretty\", \"pretty\", \"pretty\", \"protect\", \"protect\", \"protect\", \"publicly\", \"publicly\", \"pursu\", \"quick\", \"quick\", \"quick\", \"quiet\", \"quiet\", \"quiet\", \"raid\", \"raid\", \"raid\", \"reckless\", \"recognition\", \"regular\", \"regular\", \"regular\", \"relentlessly\", \"relentlessly\", \"reminder\", \"reminder\", \"reminder\", \"repeat\", \"repeat\", \"repeat\", \"respect\", \"respect\", \"respect\", \"rest\", \"rest\", \"rest\", \"right\", \"right\", \"right\", \"safe\", \"safe\", \"safe\", \"say\", \"say\", \"say\", \"scroll\", \"scroll\", \"security\", \"security\", \"security\", \"service\", \"service\", \"service\", \"sheriffs\", \"sheriffs\", \"sheriffs\", \"shit\", \"shit\", \"shit\", \"shoot\", \"shoot\", \"shoot\", \"shotme\", \"shotme\", \"singh\", \"singh\", \"singh\", \"singhs\", \"singhs\", \"singhs\", \"slasher\", \"specifically\", \"specifically\", \"stand\", \"stand\", \"stand\", \"stop\", \"stop\", \"stop\", \"story\", \"story\", \"story\", \"support\", \"support\", \"support\", \"supporter\", \"supporter\", \"supporter\", \"suspect\", \"suspect\", \"suspect\", \"tell\", \"tell\", \"tell\", \"term\", \"term\", \"term\", \"thank\", \"thank\", \"thank\", \"thing\", \"thing\", \"thing\", \"thoughts\", \"thoughts\", \"thoughts\", \"thyne\", \"thyne\", \"tiffany\", \"tiffany\", \"time\", \"time\", \"time\", \"troop\", \"troop\", \"troop\", \"trump\", \"trump\", \"trump\", \"try\", \"try\", \"try\", \"twitter\", \"twitter\", \"twitter\", \"unappreciateddoing\", \"unarmed\", \"unarmed\", \"unarmed\", \"unsolvedover\", \"vermin\", \"victor\", \"victor\", \"video\", \"video\", \"video\", \"vile\", \"vile\", \"vile\", \"watch\", \"watch\", \"watch\", \"wear\", \"wear\", \"wear\", \"white\", \"white\", \"white\", \"will\", \"will\", \"will\", \"willingly\", \"willingly\", \"woman\", \"woman\", \"woman\", \"year\", \"year\", \"year\", \"york\", \"york\", \"york\", \"zone\", \"zone\", \"zone\"]}, \"R\": 30, \"lambda.step\": 0.01, \"plot.opts\": {\"xlab\": \"PC1\", \"ylab\": \"PC2\"}, \"topic.order\": [2, 3, 1]};\n",
       "\n",
       "function LDAvis_load_lib(url, callback){\n",
       "  var s = document.createElement('script');\n",
       "  s.src = url;\n",
       "  s.async = true;\n",
       "  s.onreadystatechange = s.onload = callback;\n",
       "  s.onerror = function(){console.warn(\"failed to load library \" + url);};\n",
       "  document.getElementsByTagName(\"head\")[0].appendChild(s);\n",
       "}\n",
       "\n",
       "if(typeof(LDAvis) !== \"undefined\"){\n",
       "   // already loaded: just create the visualization\n",
       "   !function(LDAvis){\n",
       "       new LDAvis(\"#\" + \"ldavis_el3681397338394204967673402863\", ldavis_el3681397338394204967673402863_data);\n",
       "   }(LDAvis);\n",
       "}else if(typeof define === \"function\" && define.amd){\n",
       "   // require.js is available: use it to load d3/LDAvis\n",
       "   require.config({paths: {d3: \"https://d3js.org/d3.v5\"}});\n",
       "   require([\"d3\"], function(d3){\n",
       "      window.d3 = d3;\n",
       "      LDAvis_load_lib(\"https://cdn.jsdelivr.net/gh/bmabey/pyLDAvis@3.2.2/pyLDAvis/js/ldavis.v3.0.0.js\", function(){\n",
       "        new LDAvis(\"#\" + \"ldavis_el3681397338394204967673402863\", ldavis_el3681397338394204967673402863_data);\n",
       "      });\n",
       "    });\n",
       "}else{\n",
       "    // require.js not available: dynamically load d3 & LDAvis\n",
       "    LDAvis_load_lib(\"https://d3js.org/d3.v5.js\", function(){\n",
       "         LDAvis_load_lib(\"https://cdn.jsdelivr.net/gh/bmabey/pyLDAvis@3.2.2/pyLDAvis/js/ldavis.v3.0.0.js\", function(){\n",
       "                 new LDAvis(\"#\" + \"ldavis_el3681397338394204967673402863\", ldavis_el3681397338394204967673402863_data);\n",
       "            })\n",
       "         });\n",
       "}\n",
       "</script>"
      ],
      "text/plain": [
       "PreparedData(topic_coordinates=              x         y  topics  cluster       Freq\n",
       "topic                                                \n",
       "1      0.024003 -0.135084       1        1  34.716000\n",
       "2     -0.134609  0.047708       2        1  34.632595\n",
       "0      0.110606  0.087376       3        1  30.651405, topic_info=        Term         Freq        Total Category  logprob  loglift\n",
       "39   officer  6779.000000  6779.000000  Default  30.0000  30.0000\n",
       "278      cop  1714.000000  1714.000000  Default  29.0000  29.0000\n",
       "15      live  1415.000000  1415.000000  Default  28.0000  28.0000\n",
       "58    matter  1793.000000  1793.000000  Default  27.0000  27.0000\n",
       "86   support  1428.000000  1428.000000  Default  26.0000  26.0000\n",
       "..       ...          ...          ...      ...      ...      ...\n",
       "50     shoot   530.413995  3887.891536   Topic3  -4.9700  -0.8095\n",
       "6     murder   343.004390  1138.536970   Topic3  -5.4059  -0.0173\n",
       "48      rest   369.044040  1859.759242   Topic3  -5.3328  -0.4348\n",
       "47     peace   351.944891  1725.956312   Topic3  -5.3802  -0.4076\n",
       "38      hero   357.958728  1961.032550   Topic3  -5.3633  -0.5183\n",
       "\n",
       "[260 rows x 6 columns], token_table=      Topic      Freq        Term\n",
       "term                             \n",
       "18        1  0.020998   absurdity\n",
       "18        2  0.986886   absurdity\n",
       "4442      1  0.957292  abusersfbi\n",
       "491       1  0.005911      africa\n",
       "491       2  0.993057      africa\n",
       "...     ...       ...         ...\n",
       "555       2  0.846611        york\n",
       "555       3  0.024388        york\n",
       "366       1  0.056647        zone\n",
       "366       2  0.011329        zone\n",
       "366       3  0.929009        zone\n",
       "\n",
       "[538 rows x 3 columns], R=30, lambda_step=0.01, plot_opts={'xlab': 'PC1', 'ylab': 'PC2'}, topic_order=[2, 3, 1])"
      ]
     },
     "execution_count": 64,
     "metadata": {
      "tags": []
     },
     "output_type": "execute_result"
    }
   ],
   "source": [
    "pyLDAvis.enable_notebook()\n",
    "pyLDAvis.gensim.prepare(base_model, corpus, id2word)"
   ]
  },
  {
   "cell_type": "markdown",
   "metadata": {
    "id": "QatDkIiX5NbE"
   },
   "source": [
    "### General inquirer dictionary"
   ]
  },
  {
   "cell_type": "code",
   "execution_count": null,
   "metadata": {
    "id": "SOcB8P9LEFlJ"
   },
   "outputs": [],
   "source": [
    "!pip install tweet-preprocessor"
   ]
  },
  {
   "cell_type": "code",
   "execution_count": null,
   "metadata": {
    "id": "3YvKRKuYVKC8"
   },
   "outputs": [],
   "source": [
    "#Import all the libraries needed\n",
    "import pandas as pd\n",
    "import tweepy\n",
    "import json\n",
    "import time\n",
    "import nltk\n",
    "import re, string, unicodedata\n",
    "import matplotlib.pyplot as plt\n",
    "import string\n",
    "import preprocessor as p\n",
    "import nltk\n",
    "from nltk.stem import WordNetLemmatizer\n",
    "from nltk import pos_tag, word_tokenize\n",
    "import numpy as np"
   ]
  },
  {
   "cell_type": "code",
   "execution_count": null,
   "metadata": {
    "id": "bnIY0dXTzuO9"
   },
   "outputs": [],
   "source": [
    "#Options needed to display pandas dataframes completely\n",
    "pd.set_option('display.max_columns', 10)\n",
    "pd.set_option('display.width', 2000)"
   ]
  },
  {
   "cell_type": "code",
   "execution_count": null,
   "metadata": {
    "id": "kb3g15gT-zEl"
   },
   "outputs": [],
   "source": [
    "# NLTK dependencies needed for Lemmatizing et al\n",
    "nltk.download('wordnet')\n",
    "nltk.download('punkt')\n",
    "nltk.download('averaged_perceptron_tagger')"
   ]
  },
  {
   "cell_type": "code",
   "execution_count": null,
   "metadata": {
    "id": "xtLAyf447xQF"
   },
   "outputs": [],
   "source": [
    "#Reads all the tweets and isolates the tweets that in English\n",
    "black_lives_matter_df = pd.read_csv('/content/drive/MyDrive/black_lives_matter.csv')\n",
    "black_lives_matter_df = black_lives_matter_df.loc[black_lives_matter_df['lang'] == 'en'] \n",
    "blue_lives_matter_df = pd.read_csv('/content/drive/MyDrive/blue_lives_matter.csv')\n",
    "blue_lives_matter_df = blue_lives_matter_df.loc[blue_lives_matter_df['lang'] == 'en']\n",
    "all_lives_matter_df = pd.read_csv('/content/drive/MyDrive/all_lives_matter.csv')\n",
    "all_lives_matter_df = all_lives_matter_df.loc[all_lives_matter_df['lang'] == 'en']"
   ]
  },
  {
   "cell_type": "code",
   "execution_count": null,
   "metadata": {
    "id": "0WEnbYHolLdc"
   },
   "outputs": [],
   "source": [
    "def write_json(file_object,each_json):\n",
    "  '''\n",
    "  Dumps the object as JSON and then write it to the file\n",
    "  '''\n",
    "  string_json = json.dumps(each_json)\n",
    "  file_object.write(string_json)\n",
    "  file_object.write('\\n')\n",
    "\n",
    "def read_json(filename):\n",
    "  '''\n",
    "  Open the JSON file, read and parse it line by line.\n",
    "  '''\n",
    "  with open(filename,'r') as infile:\n",
    "    file_contents = infile.readlines()\n",
    "    all_json_objects = []\n",
    "    for each_object in file_contents:\n",
    "      json_object = json.loads(each_object)\n",
    "      all_json_objects.append(json_object)\n",
    "    return all_json_objects"
   ]
  },
  {
   "cell_type": "markdown",
   "metadata": {
    "id": "QbN8xcNEkfGp"
   },
   "source": [
    "#### Tweet preprocessing"
   ]
  },
  {
   "cell_type": "markdown",
   "metadata": {
    "id": "TfiaxQlYApYV"
   },
   "source": [
    "In the following steps, we will be cleaning and processing the tweets to remove tweet specific issues (mentions, hashtags, emoticons etc.) as well as general language cleaning (lower case, punctuation etc.)."
   ]
  },
  {
   "cell_type": "code",
   "execution_count": null,
   "metadata": {
    "id": "VwBkZXaU-um5"
   },
   "outputs": [],
   "source": [
    "#Initialise the lemmatizer\n",
    "lemmatizer = WordNetLemmatizer()"
   ]
  },
  {
   "cell_type": "code",
   "execution_count": null,
   "metadata": {
    "id": "TVAJqPV4idI4"
   },
   "outputs": [],
   "source": [
    "def preprocess_tweet(row, lemmatizer):\n",
    "    text = row['text']\n",
    "    text = p.clean(text) #Clean the text for all urls, emojis, etc\n",
    "    text = ' '.join(w for w in text.split() if len(w)>1) #Removes words with one letter\n",
    "    token_list = []\n",
    "    for word, tag in pos_tag(word_tokenize(text)): #Tokenize and POS tag words so lemmatizing happens properly\n",
    "      wntag = tag[0].lower()\n",
    "      wntag = wntag if wntag in ['a', 'r', 'n', 'v'] else None\n",
    "      if not wntag:\n",
    "        lemma = word #Lemmatizing not required if a POS tag isn't present\n",
    "      else:\n",
    "        lemma = lemmatizer.lemmatize(word, wntag) #Lemmatize the word\n",
    "      token_list.append(lemma)\n",
    "    # We use lemmatizing and not stemming as we require correct words when we use the LWIC dictionary\n",
    "    return ' '.join(token_list)"
   ]
  },
  {
   "cell_type": "code",
   "execution_count": null,
   "metadata": {
    "id": "ad12upGnjCWZ"
   },
   "outputs": [],
   "source": [
    "#Cleans the tweet texts for all 3 dfs\n",
    "black_lives_matter_df['text'] = black_lives_matter_df.apply(lambda x: preprocess_tweet(x,lemmatizer), axis=1)\n",
    "black_lives_matter_df['text'] = black_lives_matter_df['text'].str.lower().str.replace(r'[^\\w\\s]',' ').str.replace(r'\\s\\s+', ' ')\n",
    "black_lives_matter_df.drop_duplicates(subset = ['text'], inplace = True)\n",
    "black_lives_matter_df.dropna(inplace = True)"
   ]
  },
  {
   "cell_type": "code",
   "execution_count": null,
   "metadata": {
    "id": "43u1RU74jPBS"
   },
   "outputs": [],
   "source": [
    "blue_lives_matter_df['text'] = blue_lives_matter_df.apply(lambda x: preprocess_tweet(x,lemmatizer), axis=1)\n",
    "blue_lives_matter_df['text'] = blue_lives_matter_df['text'].str.lower().str.replace(r'[^\\w\\s]',' ').str.replace(r'\\s\\s+', ' ')\n",
    "blue_lives_matter_df.drop_duplicates(subset = ['text'], inplace = True)\n",
    "blue_lives_matter_df.dropna(inplace = True)"
   ]
  },
  {
   "cell_type": "code",
   "execution_count": null,
   "metadata": {
    "id": "QaTCVxlajOxI"
   },
   "outputs": [],
   "source": [
    "all_lives_matter_df['text'] = all_lives_matter_df.apply(lambda x: preprocess_tweet(x,lemmatizer), axis=1)\n",
    "all_lives_matter_df['text'] = all_lives_matter_df['text'].str.lower().str.replace(r'[^\\w\\s]',' ').str.replace(r'\\s\\s+', ' ')\n",
    "all_lives_matter_df.drop_duplicates(subset = ['text'], inplace = True)\n",
    "all_lives_matter_df.dropna(inplace = True)"
   ]
  },
  {
   "cell_type": "code",
   "execution_count": null,
   "metadata": {
    "colab": {
     "base_uri": "https://localhost:8080/"
    },
    "id": "qfCJBlwffsw7",
    "outputId": "c01103d3-861d-4ecc-f6d6-cb29b4328c02"
   },
   "outputs": [
    {
     "data": {
      "text/plain": [
       "(22134, 4)"
      ]
     },
     "execution_count": 76,
     "metadata": {
      "tags": []
     },
     "output_type": "execute_result"
    }
   ],
   "source": [
    "blue_lives_matter_df.shape"
   ]
  },
  {
   "cell_type": "code",
   "execution_count": null,
   "metadata": {
    "colab": {
     "base_uri": "https://localhost:8080/"
    },
    "id": "QoGTIU6wfwK5",
    "outputId": "78d1257f-ebf3-469f-80ae-c6b792796e2c"
   },
   "outputs": [
    {
     "data": {
      "text/plain": [
       "(31159, 4)"
      ]
     },
     "execution_count": 77,
     "metadata": {
      "tags": []
     },
     "output_type": "execute_result"
    }
   ],
   "source": [
    "all_lives_matter_df.shape"
   ]
  },
  {
   "cell_type": "code",
   "execution_count": null,
   "metadata": {
    "colab": {
     "base_uri": "https://localhost:8080/"
    },
    "id": "AeaqvUGvfypz",
    "outputId": "3b8d1291-ebff-488e-deef-771bbf37f79d"
   },
   "outputs": [
    {
     "data": {
      "text/plain": [
       "(27981, 4)"
      ]
     },
     "execution_count": 78,
     "metadata": {
      "tags": []
     },
     "output_type": "execute_result"
    }
   ],
   "source": [
    "black_lives_matter_df.shape"
   ]
  },
  {
   "cell_type": "markdown",
   "metadata": {
    "id": "GsNC_qJPEL06"
   },
   "source": [
    "#### Dictionary Work"
   ]
  },
  {
   "cell_type": "markdown",
   "metadata": {
    "id": "caV6V8zNESsj"
   },
   "source": [
    "Now we will load the dictionaries and try to see if the tweets have a significant number of the words in the dictionaries."
   ]
  },
  {
   "cell_type": "code",
   "execution_count": null,
   "metadata": {
    "colab": {
     "base_uri": "https://localhost:8080/"
    },
    "id": "IinE06QREQHw",
    "outputId": "ace5d830-91b5-4e8a-f7bf-6acee512de78"
   },
   "outputs": [
    {
     "name": "stderr",
     "output_type": "stream",
     "text": [
      "/usr/local/lib/python3.7/dist-packages/xlrd/book.py:74: DeprecationWarning:\n",
      "\n",
      "time.clock has been deprecated in Python 3.3 and will be removed from Python 3.8: use time.perf_counter or time.process_time instead\n",
      "\n",
      "/usr/local/lib/python3.7/dist-packages/xlrd/book.py:89: DeprecationWarning:\n",
      "\n",
      "time.clock has been deprecated in Python 3.3 and will be removed from Python 3.8: use time.perf_counter or time.process_time instead\n",
      "\n",
      "/usr/local/lib/python3.7/dist-packages/xlrd/book.py:130: DeprecationWarning:\n",
      "\n",
      "time.clock has been deprecated in Python 3.3 and will be removed from Python 3.8: use time.perf_counter or time.process_time instead\n",
      "\n"
     ]
    }
   ],
   "source": [
    "dictionary_words = pd.read_excel('/content/inquirerbasic.xls')  "
   ]
  },
  {
   "cell_type": "code",
   "execution_count": null,
   "metadata": {
    "id": "oxQqBLXFX8qy"
   },
   "outputs": [],
   "source": [
    "#Removing one False value from the Entry column\n",
    "dictionary_words = dictionary_words.loc[dictionary_words.Entry != False]"
   ]
  },
  {
   "cell_type": "code",
   "execution_count": null,
   "metadata": {
    "id": "eBsT6lR0YMDi"
   },
   "outputs": [],
   "source": [
    "def process_text(text):\n",
    "  '''\n",
    "  Procss the Text and clean it\n",
    "  '''\n",
    "  text = text.lower()\n",
    "  text = text.replace(r'#\\w+','')\n",
    "  return text  "
   ]
  },
  {
   "cell_type": "code",
   "execution_count": null,
   "metadata": {
    "id": "nf7A5jySXsXn"
   },
   "outputs": [],
   "source": [
    "dictionary_words['clean_entry'] = dictionary_words.Entry.apply(lambda x: process_text(x))\n",
    "dictionary_words.drop_duplicates(subset=['clean_entry'],inplace=True)"
   ]
  },
  {
   "cell_type": "code",
   "execution_count": null,
   "metadata": {
    "id": "YPFr0eWSIfnu"
   },
   "outputs": [],
   "source": [
    "#Isolate the words from columns we are interested in\n",
    "powTot_df = dictionary_words.loc[dictionary_words['PowTot'] == 'PowTot']\n",
    "RcTot_df = dictionary_words.loc[dictionary_words['RcTot'] == 'RcTot']"
   ]
  },
  {
   "cell_type": "code",
   "execution_count": null,
   "metadata": {
    "id": "ata0JpW2HDqy"
   },
   "outputs": [],
   "source": [
    "positive_powTot_df = powTot_df.loc[powTot_df['Positiv'] == 'Positiv']\n",
    "negative_powTot_df = powTot_df.loc[powTot_df['Negativ'] == 'Negativ']\n",
    "#Further subdivision into positiv and negativ words for further analysis\n",
    "positive_rcTot_df = RcTot_df.loc[RcTot_df['Positiv'] == 'Positiv']\n",
    "negative_rcTot_df = RcTot_df.loc[RcTot_df['Negativ'] == 'Negativ']"
   ]
  },
  {
   "cell_type": "code",
   "execution_count": null,
   "metadata": {
    "id": "hkNCiGLaN0eY"
   },
   "outputs": [],
   "source": [
    "powTot_words = powTot_df['clean_entry'].values\n",
    "RcTot_words = RcTot_df['clean_entry'].values\n",
    "#Subdivision into 4 sections of Rc and Pow with positiv and negativ\n",
    "positive_powTot_words = positive_powTot_df['clean_entry'].values\n",
    "positive_rcTot_words = positive_rcTot_df['clean_entry'].values\n",
    "\n",
    "negative_powTot_words = negative_powTot_df['clean_entry'].values\n",
    "negative_rcTot_words = negative_rcTot_df['clean_entry'].values"
   ]
  },
  {
   "cell_type": "code",
   "execution_count": null,
   "metadata": {
    "id": "I08izjEZNi8Y"
   },
   "outputs": [],
   "source": [
    "def check_if_pow_exists(text):\n",
    "  '''\n",
    "  Checks if power words exist in the text, if so, counts number of words that exist.\n",
    "  '''\n",
    "  total_words = 0\n",
    "  tokens = word_tokenize(text)\n",
    "  for each_token in tokens:\n",
    "    if each_token in powTot_words:\n",
    "      total_words += 1\n",
    "  return total_words\n",
    "\n",
    "def check_if_rc_exists(text):\n",
    "  '''\n",
    "  Checks if rectitude words exist in the text, if so, counts number of words that exist.\n",
    "  '''\n",
    "  total_words = 0\n",
    "  tokens = word_tokenize(text)\n",
    "  for each_token in tokens:\n",
    "    if each_token in RcTot_words:\n",
    "      total_words += 1\n",
    "  return total_words\n",
    "\n",
    "def check_if_positive_exists(text):\n",
    "  '''\n",
    "  Checks if positive words exist in the text, if so, counts number of words that exist.\n",
    "  '''\n",
    "  total_words = 0\n",
    "  tokens = word_tokenize(text)\n",
    "  for each_token in tokens:\n",
    "    if each_token in positive_powTot_words or each_token in positive_rcTot_words:\n",
    "      total_words += 1\n",
    "  return total_words\n",
    "\n",
    "def check_if_negative_exists(text):\n",
    "  '''\n",
    "  Checks if negative words exist in the text, if so, counts number of words that exist.\n",
    "  '''\n",
    "  total_words = 0\n",
    "  tokens = word_tokenize(text)\n",
    "  for each_token in tokens:\n",
    "    if each_token in negative_powTot_words or each_token in negative_rcTot_words:\n",
    "      total_words += 1\n",
    "  return total_words\n",
    "\n",
    "def get_values(df,column):\n",
    "  '''\n",
    "  If column is to be split into boolean categories, counts number of items in each category and returns it\n",
    "  '''\n",
    "  nonzero_values = df.loc[df[column] > 0]\n",
    "  zero_values = df.loc[df[column] == 0]\n",
    "  return [nonzero_values.shape[0], zero_values.shape[0]]\n",
    "\n",
    "def construct_list(name,df, column_list):\n",
    "  '''\n",
    "  Constructs list that can be used for plotting, given name, df, and the list of columns that need to be processed\n",
    "  '''\n",
    "  constructed_list = [name]\n",
    "  zero_list = []\n",
    "  for each_column in column_list:\n",
    "    nonzero_values, zero_values = get_values(df, each_column)\n",
    "    constructed_list.append(nonzero_values)\n",
    "    zero_list.append(zero_values)\n",
    "  all_zero_values = sum([int(x) for x in zero_list])\n",
    "  constructed_list.append(all_zero_values)\n",
    "  return constructed_list\n",
    "\n",
    "def get_other_values(df,column):\n",
    "  '''\n",
    "  Gets values of column, and then counts number of times each value is entered\n",
    "  '''\n",
    "  final_dict = {}\n",
    "  column_values = list(df[column].value_counts().keys())\n",
    "  for each_value in column_values:\n",
    "    values = df.loc[df[column] == each_value]\n",
    "    final_dict[each_value] = values.shape[0]\n",
    "  return final_dict\n",
    "\n",
    "def count_words(text):\n",
    "  tokens = word_tokenize(text)\n",
    "  return len(tokens)"
   ]
  },
  {
   "cell_type": "code",
   "execution_count": null,
   "metadata": {
    "id": "5hjzlPEaMIoj"
   },
   "outputs": [],
   "source": [
    "#Calculate the number of words for each df for all 4 categories\n",
    "black_lives_matter_df['powTot'] = black_lives_matter_df.text.apply(lambda x: check_if_pow_exists(x))\n",
    "black_lives_matter_df['rcTot'] = black_lives_matter_df.text.apply(lambda x: check_if_rc_exists(x))\n",
    "black_lives_matter_df['positiv'] = black_lives_matter_df.text.apply(lambda x: check_if_positive_exists(x))\n",
    "black_lives_matter_df['negativ'] = black_lives_matter_df.text.apply(lambda x: check_if_negative_exists(x))"
   ]
  },
  {
   "cell_type": "code",
   "execution_count": null,
   "metadata": {
    "id": "jGU4-Rq8PPdz"
   },
   "outputs": [],
   "source": [
    "blue_lives_matter_df['powTot'] = blue_lives_matter_df.text.apply(lambda x: check_if_pow_exists(x))\n",
    "blue_lives_matter_df['rcTot'] = blue_lives_matter_df.text.apply(lambda x: check_if_rc_exists(x))\n",
    "blue_lives_matter_df['positiv'] = blue_lives_matter_df.text.apply(lambda x: check_if_positive_exists(x))\n",
    "blue_lives_matter_df['negativ'] = blue_lives_matter_df.text.apply(lambda x: check_if_negative_exists(x))"
   ]
  },
  {
   "cell_type": "code",
   "execution_count": null,
   "metadata": {
    "id": "pQIYkQPTevM8"
   },
   "outputs": [],
   "source": [
    "all_lives_matter_df['powTot'] = all_lives_matter_df.text.apply(lambda x: check_if_pow_exists(x))\n",
    "all_lives_matter_df['rcTot'] = all_lives_matter_df.text.apply(lambda x: check_if_rc_exists(x))\n",
    "all_lives_matter_df['positiv'] = all_lives_matter_df.text.apply(lambda x: check_if_positive_exists(x))\n",
    "all_lives_matter_df['negativ'] = all_lives_matter_df.text.apply(lambda x: check_if_negative_exists(x))"
   ]
  },
  {
   "cell_type": "code",
   "execution_count": null,
   "metadata": {
    "id": "hq30YsS3o9_m"
   },
   "outputs": [],
   "source": [
    "blm_list = construct_list('Black Lives Matter', black_lives_matter_df, ['powTot', 'rcTot'])\n",
    "alm_list = construct_list('All Lives Matter', all_lives_matter_df, ['powTot', 'rcTot'])\n",
    "bluelm_list = construct_list('Blue Lives Matter', blue_lives_matter_df, ['powTot', 'rcTot'])"
   ]
  },
  {
   "cell_type": "code",
   "execution_count": null,
   "metadata": {
    "id": "NWR6dyiurON5"
   },
   "outputs": [],
   "source": [
    "final_df = pd.DataFrame([blm_list,alm_list,bluelm_list],columns=['Name','PowTot','RcTot','Neither'])"
   ]
  },
  {
   "cell_type": "code",
   "execution_count": null,
   "metadata": {
    "colab": {
     "base_uri": "https://localhost:8080/",
     "height": 348
    },
    "id": "JnuirABBs53b",
    "outputId": "62d1d8ac-1b1d-4031-e698-35e6835d7c51"
   },
   "outputs": [
    {
     "name": "stdout",
     "output_type": "stream",
     "text": [
      "      PowTot     RcTot    Neither                Name\n",
      "0  16.627354  5.276795  78.095851  Black Lives Matter\n",
      "1  11.704483  5.661286  82.634231    All Lives Matter\n",
      "2  23.289961  6.828861  69.881178   Blue Lives Matter\n"
     ]
    },
    {
     "data": {
      "image/png": "[encoded data removed]",
      "text/plain": [
       "<Figure size 432x288 with 1 Axes>"
      ]
     },
     "metadata": {
      "needs_background": "light",
      "tags": []
     },
     "output_type": "display_data"
    }
   ],
   "source": [
    "df_total = final_df[\"PowTot\"] + final_df[\"RcTot\"] + final_df[\"Neither\"] \n",
    "df_rel = final_df[final_df.columns[1:]].div(df_total, 0)*100\n",
    "df_rel['Name'] = ['Black Lives Matter','All Lives Matter','Blue Lives Matter']\n",
    "# plot a Stacked Bar Chart using matplotlib \n",
    "df_rel.plot( \n",
    "    x = 'Name', \n",
    "    kind = 'barh', \n",
    "    stacked = True, \n",
    "    title = 'Stacked Bar Graph', \n",
    "    mark_right = True) \n",
    " \n",
    "print(df_rel)"
   ]
  },
  {
   "cell_type": "code",
   "execution_count": null,
   "metadata": {
    "id": "8HZtbYXFwMVw"
   },
   "outputs": [],
   "source": [
    "pow_blm = get_other_values(black_lives_matter_df,'powTot')\n",
    "pow_alm = get_other_values(all_lives_matter_df,'powTot')\n",
    "pow_bluelm = get_other_values(blue_lives_matter_df,'powTot')"
   ]
  },
  {
   "cell_type": "code",
   "execution_count": null,
   "metadata": {
    "id": "XbQ8FAZlA4tP"
   },
   "outputs": [],
   "source": [
    "pow_blm[7] = 0 #To even out number of columns"
   ]
  },
  {
   "cell_type": "code",
   "execution_count": null,
   "metadata": {
    "id": "4jevJ8PUyNti"
   },
   "outputs": [],
   "source": [
    "#Prepare df for plotting\n",
    "all_list = []\n",
    "all_list.append(['Black Lives Matter', pow_blm[0], pow_blm[1], pow_blm[2], pow_blm[3], pow_blm[4], pow_blm[5], pow_blm[6],pow_blm[7]])\n",
    "all_list.append(['All Lives Matter', pow_alm[0], pow_alm[1], pow_alm[2], pow_alm[3], pow_alm[4], pow_alm[5], pow_alm[6],pow_alm[7]])\n",
    "all_list.append(['Blue Lives Matter', pow_bluelm[0], pow_bluelm[1], pow_bluelm[2], pow_bluelm[3], pow_bluelm[4], pow_bluelm[5], pow_bluelm[6],pow_bluelm[7]])\n",
    "pow_df = pd.DataFrame(all_list, columns=['Name','0 PoW','1 PoW','2 PoW','3 PoW','4 PoW','5 PoW','6 PoW','7 PoW'])"
   ]
  },
  {
   "cell_type": "code",
   "execution_count": null,
   "metadata": {
    "colab": {
     "base_uri": "https://localhost:8080/",
     "height": 348
    },
    "id": "tUqJQx6fzRA4",
    "outputId": "a11a1bc9-1f69-4bf3-961c-563b387e3497"
   },
   "outputs": [
    {
     "name": "stdout",
     "output_type": "stream",
     "text": [
      "       0 PoW      1 PoW      2 PoW     3 PoW     4 PoW     5 PoW     6 PoW     7 PoW                Name\n",
      "0  66.745291  24.069905   7.190594  1.622530  0.303778  0.042886  0.025017  0.000000  Black Lives Matter\n",
      "1  76.591033  17.943451   4.377547  0.869733  0.170095  0.032093  0.009628  0.006419    All Lives Matter\n",
      "2  53.420078  28.756664  13.196892  3.736333  0.745459  0.121984  0.018072  0.004518   Blue Lives Matter\n"
     ]
    },
    {
     "data": {
      "image/png": "[encoded data removed]",
      "text/plain": [
       "<Figure size 432x288 with 1 Axes>"
      ]
     },
     "metadata": {
      "needs_background": "light",
      "tags": []
     },
     "output_type": "display_data"
    }
   ],
   "source": [
    "df_total = pow_df[\"0 PoW\"] + pow_df[\"1 PoW\"] + pow_df[\"2 PoW\"] + pow_df[\"3 PoW\"] + pow_df[\"4 PoW\"] + pow_df[\"5 PoW\"] + pow_df[\"6 PoW\"] + pow_df[\"7 PoW\"] \n",
    "df_rel = pow_df[pow_df.columns[1:]].div(df_total, 0)*100 #Calculate % values because each df has different number of rows\n",
    "df_rel['Name'] = ['Black Lives Matter','All Lives Matter','Blue Lives Matter']\n",
    "# plot a Stacked Bar Chart using matplotlib \n",
    "df_rel.plot( \n",
    "    x = 'Name', \n",
    "    kind = 'barh', \n",
    "    stacked = True, \n",
    "    title = 'Stacked Bar Graph', \n",
    "    mark_right = True) \n",
    " \n",
    "print(df_rel)"
   ]
  },
  {
   "cell_type": "code",
   "execution_count": null,
   "metadata": {
    "id": "iNTQU2Qy0pI6"
   },
   "outputs": [],
   "source": [
    "rc_blm = get_other_values(black_lives_matter_df,'rcTot')\n",
    "rc_alm = get_other_values(all_lives_matter_df,'rcTot') #Get values for rcToT\n",
    "rc_bluelm = get_other_values(blue_lives_matter_df,'rcTot')"
   ]
  },
  {
   "cell_type": "code",
   "execution_count": null,
   "metadata": {
    "id": "uOGv05yKCIVT"
   },
   "outputs": [],
   "source": [
    "rc_alm[6] = 0\n",
    "rc_bluelm[6] = 0 #To even out the columns"
   ]
  },
  {
   "cell_type": "code",
   "execution_count": null,
   "metadata": {
    "id": "vGTjiD_n16pz"
   },
   "outputs": [],
   "source": [
    "#Prepare data for plotting\n",
    "all_list = []\n",
    "all_list.append(['Black Lives Matter', rc_blm[0], rc_blm[1], rc_blm[2], rc_blm[3], rc_blm[4], rc_blm[6]])\n",
    "all_list.append(['All Lives Matter', rc_alm[0], rc_alm[1], rc_alm[2], rc_alm[3], rc_alm[4], rc_alm[6]])\n",
    "all_list.append(['Blue Lives Matter', rc_bluelm[0], rc_bluelm[1], rc_bluelm[2], rc_bluelm[3], rc_bluelm[4], rc_bluelm[6]])\n",
    "rc_df = pd.DataFrame(all_list, columns=['Name','0 RcW','1 RcW','2 RcW','3 RcW','4 RcW','6 RcW'])"
   ]
  },
  {
   "cell_type": "code",
   "execution_count": null,
   "metadata": {
    "colab": {
     "base_uri": "https://localhost:8080/",
     "height": 348
    },
    "id": "9mm5NuBc16p5",
    "outputId": "9719e718-12b3-48e0-cd43-b56b9921af64"
   },
   "outputs": [
    {
     "name": "stdout",
     "output_type": "stream",
     "text": [
      "       0 RcW      1 RcW     2 RcW     3 RcW     4 RcW     6 RcW                Name\n",
      "0  89.446410   9.295593  1.129338  0.114363  0.010722  0.003574  Black Lives Matter\n",
      "1  88.677429  10.067717  1.087968  0.150839  0.016047  0.000000    All Lives Matter\n",
      "2  86.342279  12.288786  1.296648  0.063251  0.009036  0.000000   Blue Lives Matter\n"
     ]
    },
    {
     "data": {
      "image/png": "[encoded data removed]",
      "text/plain": [
       "<Figure size 432x288 with 1 Axes>"
      ]
     },
     "metadata": {
      "needs_background": "light",
      "tags": []
     },
     "output_type": "display_data"
    }
   ],
   "source": [
    "df_total = rc_df[\"0 RcW\"] + rc_df[\"1 RcW\"] + rc_df[\"2 RcW\"] + rc_df[\"3 RcW\"] + rc_df[\"4 RcW\"] + rc_df[\"6 RcW\"] \n",
    "df_rel = rc_df[rc_df.columns[1:]].div(df_total, 0)*100\n",
    "df_rel['Name'] = ['Black Lives Matter','All Lives Matter','Blue Lives Matter']\n",
    "# plot a Stacked Bar Chart using matplotlib \n",
    "df_rel.plot( \n",
    "    x = 'Name', \n",
    "    kind = 'barh', \n",
    "    stacked = True, \n",
    "    title = 'Stacked Bar Graph', \n",
    "    mark_right = True) \n",
    " \n",
    "print(df_rel)"
   ]
  },
  {
   "cell_type": "code",
   "execution_count": null,
   "metadata": {
    "id": "j69TmxRpdvtH"
   },
   "outputs": [],
   "source": [
    "#Isolating just power words.\n",
    "blm_pow = black_lives_matter_df.loc[black_lives_matter_df['powTot']> 0]\n",
    "bluelm_pow = blue_lives_matter_df.loc[blue_lives_matter_df['powTot']> 0]\n",
    "alm_pow = all_lives_matter_df.loc[all_lives_matter_df['powTot']>0]"
   ]
  },
  {
   "cell_type": "code",
   "execution_count": null,
   "metadata": {
    "id": "-IQLQQVgfOmZ"
   },
   "outputs": [],
   "source": [
    "#Calculating % of positive power words, % of negative power words, % of neutral power words\n",
    "blm_pow['positive_percentage'] = blm_pow.apply(lambda x: x['positiv']/x['powTot'],axis=1)\n",
    "blm_pow['negative_percentage'] = blm_pow.apply(lambda x: x['negativ']/x['powTot'],axis=1)\n",
    "blm_pow['neutral_percentage'] = blm_pow.apply(lambda x: (x['powTot']-(x['positiv']+x['negativ']))/x['powTot'],axis=1)"
   ]
  },
  {
   "cell_type": "code",
   "execution_count": null,
   "metadata": {
    "id": "apV3i7EKguVL"
   },
   "outputs": [],
   "source": [
    "#Calculating % of positive power words, % of negative power words, % of neutral power words\n",
    "bluelm_pow['positive_percentage'] = bluelm_pow.apply(lambda x: x['positiv']/x['powTot'],axis=1)\n",
    "bluelm_pow['negative_percentage'] = bluelm_pow.apply(lambda x: x['negativ']/x['powTot'],axis=1)\n",
    "bluelm_pow['neutral_percentage'] = bluelm_pow.apply(lambda x: (x['powTot']-(x['positiv']+x['negativ']))/x['powTot'],axis=1)"
   ]
  },
  {
   "cell_type": "code",
   "execution_count": null,
   "metadata": {
    "id": "maN5ZgrYgxvj"
   },
   "outputs": [],
   "source": [
    "#Calculating % of positive power words, % of negative power words, % of neutral power words\n",
    "alm_pow['positive_percentage'] = alm_pow.apply(lambda x: x['positiv']/x['powTot'],axis=1)\n",
    "alm_pow['negative_percentage'] = alm_pow.apply(lambda x: x['negativ']/x['powTot'],axis=1)\n",
    "alm_pow['neutral_percentage'] = alm_pow.apply(lambda x: (x['powTot']-(x['positiv']+x['negativ']))/x['powTot'],axis=1)"
   ]
  },
  {
   "cell_type": "code",
   "execution_count": null,
   "metadata": {
    "id": "1NNYx5ATg2V0"
   },
   "outputs": [],
   "source": [
    "#Preparing data to plot\n",
    "blm_sentiment = ['Black Lives Matter', blm_pow['positive_percentage'].mean()*100,blm_pow['negative_percentage'].mean()*100,blm_pow['neutral_percentage'].mean()*100 ]\n",
    "alm_sentiment = ['All Lives Matter', alm_pow['positive_percentage'].mean()*100,alm_pow['negative_percentage'].mean()*100,alm_pow['neutral_percentage'].mean()*100 ]\n",
    "bluelm_sentiment = ['Blue Lives Matter', bluelm_pow['positive_percentage'].mean()*100, bluelm_pow['negative_percentage'].mean()*100, bluelm_pow['neutral_percentage'].mean()*100 ]"
   ]
  },
  {
   "cell_type": "code",
   "execution_count": null,
   "metadata": {
    "id": "ycu4gF5Zhg8C"
   },
   "outputs": [],
   "source": [
    "final_df = pd.DataFrame([blm_sentiment,alm_sentiment,bluelm_sentiment],columns=['Name','Positive Words %', 'Negative Words %', 'Neutral Words %'])"
   ]
  },
  {
   "cell_type": "code",
   "execution_count": null,
   "metadata": {
    "colab": {
     "base_uri": "https://localhost:8080/",
     "height": 348
    },
    "id": "-MqAYYTohti-",
    "outputId": "f0118806-534b-443c-ebae-45b18e314a58"
   },
   "outputs": [
    {
     "name": "stdout",
     "output_type": "stream",
     "text": [
      "                 Name  Positive Words %  Negative Words %  Neutral Words %\n",
      "0  Black Lives Matter         15.600573         11.169085        73.230342\n",
      "1    All Lives Matter         13.466123         17.246628        69.287248\n",
      "2   Blue Lives Matter          9.718812         11.309108        78.972080\n"
     ]
    },
    {
     "data": {
      "image/png": "[encoded data removed]",
      "text/plain": [
       "<Figure size 432x288 with 1 Axes>"
      ]
     },
     "metadata": {
      "needs_background": "light",
      "tags": []
     },
     "output_type": "display_data"
    }
   ],
   "source": [
    "# plot a Stacked Bar Chart using matplotlib \n",
    "final_df.plot( \n",
    "    x = 'Name', \n",
    "    kind = 'barh', \n",
    "    stacked = True, \n",
    "    title = 'Stacked Bar Graph', \n",
    "    mark_right = True) \n",
    "\n",
    "print(final_df)"
   ]
  },
  {
   "cell_type": "markdown",
   "metadata": {
    "id": "CTxhGSFnZHOt"
   },
   "source": [
    "## Interpretation"
   ]
  },
  {
   "cell_type": "markdown",
   "metadata": {
    "id": "kaPcywJiY_Xn"
   },
   "source": [
    "**Write at least 1000 words explaining your interpretation/prediction and how/why your approach is an effective way to interpret/predict the cultural pattern that you identified. Include information on how the sign conventions you're studying are maintained and which cultural group(s) they are relevant to. \n",
    "In your explanation, identify at least one alternative interpretation for your cultural pattern, and explain using your data why your interpretation is superior. If you are predicting a cultural phenomenon, explain how the cultural phenomenon might be different from what you predict. What scenarios may cause your approach to fail?  \n",
    "In your explanation, cite and summarize relevant Social Science theory from the course readings (at least 2 citations), as well as peer-reviewed sources that you have identified outside of the course (at least 6 citations) to support your interpretation/prediction\n",
    "Successfully employ computational methods in order to make your interpretation and/or prediction** \n",
    "\n",
    "The aim of this research was to explore the different ways in which social media movements and countermovements employ language. As discussed in the previous section, du Gay et al. (2013) described how Language is a tool both for expression, as well as creation of culture and meaning. Peircean theory also discusses how language is often a signifier - objects don’t just represent their literal meaning, but in fact often act as signs that signify and represent an object (Peirce, 1955). This sign object relation can be interpreted. As described previously, social movement hashtags represent people’s beliefs, motivations, and behaviours as well. \n",
    "Thus, analysing the language used by different social media movements provides us with greater insight into the nature of the movement itself (representation, circuit of culture), as well as the beliefs of the individuals using the language (identity). Here we analyse twitter data - more specifically tweets containing hashtags for the social movement (#blacklivesmatter) and its anti movements (#bluelivesmatter and #alllivesmatter). We employ LDA based topic modelling, as well as dictionary based text analysis (testing for the prevalence and valence of power and rectitude words). \n",
    "\n",
    "The black lives matter topics seem to suggest three prominent topics in the tweets - one seems to provide information and description of events, one seems to be a call to action, and the last seems to be the most politically charged, and perhaps normative statements of what should happen. We interpret the first topic as an information topic based on research that shows that #blacklivesmatter tweets trend most right after incidents of police shooting black people (Pew Research Centre, 2020). For example, in 2020, a video of police murdering George Floyd went viral. This is perhaps why one of the top words is video, and another with murder. Other words like face and hear also seem to be linked with this video, as you could see George Floyd’s face and hear him ask for help (another word in this topic). Given that the largest surge in #blm tweets was after the george floyd shooting, it would make sense that these tweets discuss that. There are also words like “happen”, which once again suggests these sets of tweets describe what happened. In this way, our analysis echoes previous studies that show social media activism can be a way of providing information (Cox, 2017; Rezapour, 2018).  \n",
    "\n",
    "The other topic seems to refer to call to action as it mentions protest, donate/donation, sign, “today” (#blm has been used to provide information about protest dates), support etc. Once again, this is commensurate with previous literature that has shown that social media movements are often used as calls to action, and contain information about the ways in which individuals can act online as well as offline (Segerberg & Bennett, 2015; Tufekci, 2017). Lastly, the third topic seems to be very politically charged and possibly contains ideological statements/opinions. It mentions protest again, but not as an informational call to action, but in a seemingly more ideological way, as it also mentions justice, need, country, change, murder, arrest, movement, etc. This is perhaps the subset of tweets where people share their opinions about the movement and shootings, with normative statements of what should happen. People often use social media movements to voice out their opinions and beliefs, as a way of generating awareness, showing solidarity, catharsis etc (Ince et al., 2017).  \n",
    "\n",
    "The counter movements do not seem to follow this pattern. Rather than providing information or calls to action, they seem to be more opinion based. Interestingly, they also appear more divorced from the actual events (eg - the george floyd killing) and appear to be more ideologically oriented, especially all lives matter. This distance and divorcing from the events is something these movements - particularly all lives matter have criticised for (Carney, 2016). It is believed that all lives matter discussions can take away from the urgency and importance that the black lives matter movement demands, given the events during which it occurs (for example, taking action for george floyd’s death). \n",
    "\n",
    "The white lives matter movements seems to contain more general words. Interestingly, while it mentions support and movement, calls to action such as protest and donation are not prevalent here. Another interesting difference is that all lives matter used the words death, shoot, and kill, unlike black lives matter which mentioned “murder” very prominently along with kill, shoot, and death. Murder attributes more agency, and is a harsher word, which might reflect how all lives matter proponents have weaker objections to the situations. For some reason, there appears to be more profanity in this tag as well. One issue here is that some people used the #alllivesmatter tag to criticise the movement as well. It is not clear which set of tweets those are, although it appears possible that topic 3 represents the subset of individuals criticising all lives matter, or people who used both all lives and black lives matter tags, simply because the words of topic 3 are close to the words in the black lives matter tweet topics. \n",
    "\n",
    "Lastly, we come to the blue lives matter movement. Once again, the topics are not as distinct as they were for black lives matter tweets. It appears that almost all of them are defending cops, by mentioning words like honour, hero, thank, protect etc. One of the topics mentions duty, suspect, drug, dealer etc. which suggests that individuals are justifying the cops’ behaviour, by suggesting that the cops were only following their duty and were following up on drug suspicions. Unlike the all lives matter movement, blue lives matter seems to position itself in direct opposition to the black lives matter movement. This justification of police behaviour seems to be in line with social identity and system justification theories (Ellemers & Haslam, 2012; Jost et al., 2004). These theories suggest that when confronted with evidence that threatens a groups identity, individuals respond by becoming defensive, and advocating for the legitimacy of and providing justifications for the issues at hand. In this instance, george floyds murder prompted several discussions of unjustified white privilege, and racism against black americans, which threaten white group identity. Counter movements such as blue lives matter, exemplify these theories, as the content and existence of these movements demonstrate such defensive patterns of justification as well. \n",
    "\n",
    "This topic analysis provides an initial exploration of social movements. As we can see, the major arguments and points of discussion vary significantly across the movements. One might argue however, that looking at the combination of words is not sufficient to derive meaning regarding their usage. For example, specific words were punctuated with negation words, and it is difficult to know whether people were for or against certain stances. For example, how positive the sentiments for police were in alllivesmatter. However, here we can rely on surrounding words to provide context. For example, bluelivesmatter mentions hero and protect as additional words, which in the context of police can suggest more positive beliefs. However, black lives matter mentions murder. Additionally, this analysis allows us to see what people tend to focus on in their discussion. \n",
    "\n",
    "In order to standardise our analysis for comparison however, we will also explore a dictionary based analysis. The common category of these social media discussions, and perhaps the most relevant category involves the discussion of beliefs and ideologies in social movements (all three movements had this). Some prominent themes in such social movements are elements of power and morality. Power obviously is inextricably linked with discussions of race and racism, and morality surrounds the discussion of “what is right”, which is a central tenet of social movements. Here, we use the general inquirer dictionary to examine the prevalence of power and rectitude (morality) words in the tweets for the three movements.\n",
    "\n",
    "Our first graph compares the distribution of power and morality words in the tweets. We find that the three movements focus roughly equally on discussions of morality. The focus on morality is much smaller, compared to the focus on power. Moreover, we find that blue lives matter has the greatest focus on power, and white lives matter has the least focus. This makes sense, since blue lives matter is focused on discussions of police officers and deputies - who possess power. All lives matter on the other hand appeared to be least politically radical, and most divorced from the situation at hand, which is why it perhaps contains the least power focused words. \n",
    "\n",
    "When looking at the amount of frequency of power words alone, we see that the percentage of black lives matter and blue lives matter tweets that contain only one power word are fairly similar. However, blue lives matter tweets seem to have far more tweets with multiple instances of power words. When comparing the valence of these power words however, we find that black lives matter movements employ more positive power words. Moreover, all lives matter tweets contain the most number of negatively associated power words. This shows that even though black lives matter movements have a greater power focus than all lives matter movement, the context of the power usage is more positive for black lives movement, whereas the all lives matter movement focuses on more negative power. There are no major differences in the morality of the tweets for the three movements. However, a study examined how moral values differ in these social movements, using the moral foundations theory, and found that #BlackLivesMatter  focused more on Care, Harm, Fairness, Loyalty, and Authority whereas #WhiteLivesMatter features Harm and Fairness most strongly (Rezapour et al., 2019). Thus, it is possible that these movements don't differ in moral focus, but rather on the kind of moral value they focus on.\n"
   ]
  },
  {
   "cell_type": "markdown",
   "metadata": {
    "id": "hqiXwo7vZ75G"
   },
   "source": [
    "## Conclusion"
   ]
  },
  {
   "cell_type": "markdown",
   "metadata": {
    "id": "BfVo9V8kZ-GU"
   },
   "source": [
    "**Include a conclusion that summarizes your findings and explains their Social Science significance in the study of culture**\n",
    "\n",
    "The aim of the present study was to examine the ways in which online social movements and countermovements employed language. Here, we analysed twitter data for the #blacklivesmatter movement, and its counter movements - #alllivesmatter and #bluelivesmatter. We conducted several text analysis and found that three movements differ in the kind of content they discuss. #Blacklivesmatter appears to be rooted in specific events. This movement is employed as a way of sharing information about incidents, calls to action (support, protest, donate), as well as ideological discussions and opinion sharing. Alllivesmatter and bluelivesmatter movements on the other hand are more removed from the event - especially allivesmatter - and focus more on opinions. Allivesmatter movement appears to be fairly removed from the specific events, and seems to have generalised discussions with less political language. Bluelivesmatter movement on the other hand seems to idealize cops and opposes the blacklivesmatter movement directly, by justifying events. We also find that these movements differ in their focus on power, as well as the ways in which they discuss power. This text analysis provides a preliminary investigation of the countermovement discourse, and the ways in which it contrasts with the actual social movement. Online social media activism is growing significantly, and is an important part of our culture. It is necessary to understand the ways in which social media movements function, in order to understand people's beliefs and actions. Research has also shown a strong positive association between online and offline activism, showing how participation in social media movements might predict real life behaviour (Greijdanus et al., 2015). This makes it especially important to study such online movements, as understanding people’s beliefs allows us to predict their behaviours. \n"
   ]
  },
  {
   "cell_type": "markdown",
   "metadata": {
    "id": "imOb-YXDaDxq"
   },
   "source": [
    "## Bibliography"
   ]
  },
  {
   "cell_type": "markdown",
   "metadata": {
    "id": "AUhexkryaMiL"
   },
   "source": [
    "\n",
    "* Carney, N. (2016). All Lives Matter, but so Does Race: Black Lives Matter and the Evolving Role of Social Media. Humanity & Society, 40(2), 180–199. https://doi.org/10.1177/0160597616643868\n",
    "* Cox, J. M. (2017). The source of a movement: making the case for social media as an informational source using Black Lives Matter, Ethnic and Racial Studies, 40(11), 1847-1854, doi: 10.1080/01419870.2017.1334935\n",
    "* Du Gay, P., Hall, S., Janes, L., Madsen, A., Mackay, H., & Negus, K. (2013). Doing cultural studies. Sage.\n",
    "* Ellemers, N., & Haslam, S. A. (2012). Social identity theory. In P. A. M. Van Lange, A. W. Kruglanski, & E. T. Higgins (Eds.), Handbook of theories of social psychology (p. 379–398). Sage Publications Ltd. https://doi.org/10.4135/9781446249222.n45\n",
    "* Greijdanus, H., de Matos Fernandes, C. A., Turner-Zwinkels, F., Honari, A., Roos, C. A., Rosenbusch, H., & Postmes, T. (2020). The psychology of online activism and social movements: relations between online and offline collective action. Current opinion in psychology, 35, 49–54. https://doi.org/10.1016/j.copsyc.2020.03.003\n",
    "* Ince, J., Rojas, F., & Davis, C. A. (2017). The social media response to Black Lives Matter: How Twitter users interact with Black Lives Matter through hashtag use. Ethnic and Racial Studies, 40(11), 1814–1830. https://doi.org/10.1080/01419870.2017.1334931\n",
    "* Jost, J. T., Banaji, M. R., & Nosek, B. A. (2004). A decade of system justification theory: Accumulated evidence of conscious and unconscious bolstering of the status quo. Political Psychology, 25, 881–919.\n",
    "* Peirce, C. (1955). Logic as Semiotic: The Theory of Signs. In Philosophical Writings of Peirce (pp. 98-119). New York: Dover Publications inc.\n",
    "* Pew Research Centre. (2020). Activism on social media varies by race and ethnicity, age, political party. Retrieved, from https://www.pewresearch.org/fact-tank/2020/07/13/activism-on-social-media-varies-by-race-and-ethnicity-age-political-party/\n",
    "* Pew Research Centre. (2020). #BlackLivesMatter surges on Twitter after George Floyd’s death. Retrieved, from https://www.pewresearch.org/fact-tank/2020/06/10/blacklivesmatter-surges-on-twitter-after-george-floyds-death/\n",
    "* Rezapour, R. (2018). Using Linguistic Cues for Analyzing Social Movements. arXiv preprint arXiv:1808.01742.\n",
    "* Rezapour, R., Ferronato, P., & Diesner, J. (2019). How Do Moral Values Differ in Tweets on Social Movements?. New York: Association for Computing Machinery.\n",
    "* Segerberg, A. & Bennett, W. L.. (2011). Social media and the organization of collective action: Using Twitter to explore the ecologies of two climate change protests. The Communication Review 14, 3 (2011), 197–215.\n",
    "* Tufekci, Z.(2014). The medium and the movement: Digital tools, social movement politics, and the end of the free rider problem. Policy & Internet 6, 2 (2014), 202–208.\n"
   ]
  }
 ],
 "metadata": {
  "colab": {
   "collapsed_sections": [
    "7F3UO00V09Hj",
    "6l1qOrsNvOvL",
    "pvo0vQQuvTt9",
    "QNuvTat6yOc0",
    "QatDkIiX5NbE"
   ],
   "name": "Final Assignment.ipynb",
   "provenance": []
  },
  "kernelspec": {
   "display_name": "Python 3",
   "language": "python",
   "name": "python3"
  },
  "language_info": {
   "codemirror_mode": {
    "name": "ipython",
    "version": 3
   },
   "file_extension": ".py",
   "mimetype": "text/x-python",
   "name": "python",
   "nbconvert_exporter": "python",
   "pygments_lexer": "ipython3",
   "version": "3.8.5"
  }
 },
 "nbformat": 4,
 "nbformat_minor": 1
}
